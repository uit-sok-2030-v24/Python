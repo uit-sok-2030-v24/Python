{
 "cells": [
  {
   "cell_type": "markdown",
   "id": "33b0183d-c124-46d7-87d3-eef10452b3c9",
   "metadata": {},
   "source": [
    "# Sok-2030 Næringsøkonomi og konkuransestrategi\n",
    "## Del 5 Relasjoner mellom bedrifter\n",
    "### Horisontale fusjoner og fusjonsparadokset\n",
    "\n",
    "Vi antar at vi har tre bedrifter som konkurrer med kvantum som strategisk variabel. Invers ettersprøsel er gitt ved: P(Q) = 150-Q og marginalkostnaden til bedriftene er på 30."
   ]
  },
  {
   "cell_type": "code",
   "execution_count": 1,
   "id": "4574d511-8fe3-4f18-8900-8a197c9d540c",
   "metadata": {},
   "outputs": [],
   "source": [
    "from sympy import *\n",
    "from matplotlib import pyplot as plt\n",
    "import numpy as np"
   ]
  },
  {
   "cell_type": "code",
   "execution_count": 2,
   "id": "6ecfaa85-119d-4b07-a3d0-8446d7418293",
   "metadata": {},
   "outputs": [],
   "source": [
    "q1, q2,q3,c, a, b=symbols('q1 q2 q3 c a b')"
   ]
  },
  {
   "cell_type": "code",
   "execution_count": 3,
   "id": "ba03f115-1a4d-4821-8e43-39e0cfd7506b",
   "metadata": {},
   "outputs": [],
   "source": [
    "def P_demand(Q,a,b):\n",
    "    return a-b*Q\n",
    "\n",
    "def profit(q1,q2,q3,c,a,b):\n",
    "    return (P_demand(q1+q2+q3,a,b)-c)*q1"
   ]
  },
  {
   "cell_type": "code",
   "execution_count": 4,
   "id": "10aff8d2-1058-45ac-b881-8097007d4892",
   "metadata": {},
   "outputs": [
    {
     "data": {
      "text/latex": [
       "$\\displaystyle a - b q_{1} - b \\left(q_{1} + q_{2} + q_{3}\\right) - c$"
      ],
      "text/plain": [
       "a - b*q1 - b*(q1 + q2 + q3) - c"
      ]
     },
     "metadata": {},
     "output_type": "display_data"
    },
    {
     "data": {
      "text/latex": [
       "$\\displaystyle a - b q_{2} - b \\left(q_{1} + q_{2} + q_{3}\\right) - c$"
      ],
      "text/plain": [
       "a - b*q2 - b*(q1 + q2 + q3) - c"
      ]
     },
     "metadata": {},
     "output_type": "display_data"
    },
    {
     "data": {
      "text/latex": [
       "$\\displaystyle a - b q_{3} - b \\left(q_{1} + q_{2} + q_{3}\\right) - c$"
      ],
      "text/plain": [
       "a - b*q3 - b*(q1 + q2 + q3) - c"
      ]
     },
     "metadata": {},
     "output_type": "display_data"
    }
   ],
   "source": [
    "d_profit1_Q=diff(profit(q1,q2,q3,c,a,b),q1)\n",
    "d_profit2_Q=diff(profit(q2,q1,q3,c,a,b),q2)\n",
    "d_profit3_Q=diff(profit(q3,q2,q1,c,a,b),q3)\n",
    "\n",
    "display(d_profit1_Q)\n",
    "display(d_profit2_Q)\n",
    "display(d_profit3_Q)"
   ]
  },
  {
   "cell_type": "code",
   "execution_count": 5,
   "id": "6e1a34a2-1ac9-4726-bd04-90c0cff0ef38",
   "metadata": {},
   "outputs": [
    {
     "data": {
      "text/latex": [
       "$\\displaystyle \\frac{a - c}{4 b}$"
      ],
      "text/plain": [
       "(a - c)/(4*b)"
      ]
     },
     "metadata": {},
     "output_type": "display_data"
    },
    {
     "data": {
      "text/latex": [
       "$\\displaystyle \\frac{a - c}{4 b}$"
      ],
      "text/plain": [
       "(a - c)/(4*b)"
      ]
     },
     "metadata": {},
     "output_type": "display_data"
    },
    {
     "data": {
      "text/latex": [
       "$\\displaystyle \\frac{a - c}{4 b}$"
      ],
      "text/plain": [
       "(a - c)/(4*b)"
      ]
     },
     "metadata": {},
     "output_type": "display_data"
    }
   ],
   "source": [
    "sol=solve([d_profit1_Q,d_profit2_Q,d_profit3_Q],[q1,q2,q3])\n",
    "\n",
    "display(sol[q1])\n",
    "display(sol[q2])\n",
    "display(sol[q3])"
   ]
  },
  {
   "cell_type": "code",
   "execution_count": 6,
   "id": "ead3e6b1-0c85-4032-8096-5d4069711434",
   "metadata": {},
   "outputs": [],
   "source": [
    "cournot=lambdify(\n",
    "    (a,b,c), \n",
    "    (sol[q1],sol[q2],sol[q3])\n",
    ")"
   ]
  },
  {
   "cell_type": "code",
   "execution_count": 7,
   "id": "2a90d400-6771-405b-af8d-007642717a93",
   "metadata": {},
   "outputs": [
    {
     "data": {
      "text/plain": [
       "(30.0, 30.0, 30.0)"
      ]
     },
     "execution_count": 7,
     "metadata": {},
     "output_type": "execute_result"
    }
   ],
   "source": [
    "cournot(150,1,30)"
   ]
  },
  {
   "cell_type": "code",
   "execution_count": 8,
   "id": "ce7d31ad-87bb-442d-91cb-44331a225760",
   "metadata": {},
   "outputs": [],
   "source": [
    "a_value=150\n",
    "b_value=1\n",
    "c_value=30"
   ]
  },
  {
   "cell_type": "code",
   "execution_count": 9,
   "id": "1b398277-1368-4109-b32d-7606f99949f8",
   "metadata": {},
   "outputs": [
    {
     "name": "stdout",
     "output_type": "stream",
     "text": [
      "60.0\n"
     ]
    }
   ],
   "source": [
    "q1sol, q2sol, q3sol=cournot(a_value,b_value,c_value)\n",
    "print (P_demand(q1sol+q2sol+q3sol,a_value,b_value))"
   ]
  },
  {
   "cell_type": "code",
   "execution_count": 10,
   "id": "a7f370a3-65d0-4e59-b63d-39da1d3f046d",
   "metadata": {},
   "outputs": [
    {
     "name": "stdout",
     "output_type": "stream",
     "text": [
      "Løsningen er at \n",
      "bedriftene produserer 30.0 enheter som gir profitt lik 900.0 og \n",
      "prisen i markedet blir 60.0\n"
     ]
    }
   ],
   "source": [
    "print(f\"\"\"Løsningen er at \n",
    "bedriftene produserer {q1sol} enheter som gir profitt lik {profit(q1sol,q2sol,q2sol,c_value,a_value,b_value)} og \n",
    "prisen i markedet blir {P_demand(q1sol+q2sol+q3sol,a_value,b_value)}\"\"\")"
   ]
  },
  {
   "cell_type": "markdown",
   "id": "3862404a-fb40-4849-989a-55308bcfbfe7",
   "metadata": {
    "tags": []
   },
   "source": [
    "## Horisontal fusjon\n",
    "Anta at 2 av bedriftene fusjonerer, slik at det nå kun er to bedrifter i markedet. \n",
    "Ny tilpasning blir da:"
   ]
  },
  {
   "cell_type": "code",
   "execution_count": 11,
   "id": "c1a15d06-49df-41a2-921d-2848d4e6298f",
   "metadata": {},
   "outputs": [],
   "source": [
    "def P_demand1(Q,a,b):\n",
    "    return a-b*Q\n",
    "\n",
    "def profitF(q1,q2,c,a,b):\n",
    "    return (P_demand(q1+q2,a,b)-c)*q1"
   ]
  },
  {
   "cell_type": "code",
   "execution_count": 12,
   "id": "5f2870bd-d001-4f43-94fa-38b2d3e24270",
   "metadata": {},
   "outputs": [
    {
     "data": {
      "text/latex": [
       "$\\displaystyle a - b q_{1} - b \\left(q_{1} + q_{2}\\right) - c$"
      ],
      "text/plain": [
       "a - b*q1 - b*(q1 + q2) - c"
      ]
     },
     "metadata": {},
     "output_type": "display_data"
    },
    {
     "data": {
      "text/latex": [
       "$\\displaystyle a - b q_{2} - b \\left(q_{1} + q_{2}\\right) - c$"
      ],
      "text/plain": [
       "a - b*q2 - b*(q1 + q2) - c"
      ]
     },
     "metadata": {},
     "output_type": "display_data"
    }
   ],
   "source": [
    "d_profitF1_Q=diff(profitF(q1,q2,c,a,b),q1)\n",
    "d_profitF2_Q=diff(profitF(q2,q1,c,a,b),q2)\n",
    "\n",
    "display(d_profitF1_Q)\n",
    "display(d_profitF2_Q)"
   ]
  },
  {
   "cell_type": "code",
   "execution_count": 13,
   "id": "02a616ae-de45-4122-90c0-2382ab3aa5e8",
   "metadata": {},
   "outputs": [
    {
     "data": {
      "text/latex": [
       "$\\displaystyle \\frac{a - c}{3 b}$"
      ],
      "text/plain": [
       "(a - c)/(3*b)"
      ]
     },
     "metadata": {},
     "output_type": "display_data"
    },
    {
     "data": {
      "text/latex": [
       "$\\displaystyle \\frac{a - c}{3 b}$"
      ],
      "text/plain": [
       "(a - c)/(3*b)"
      ]
     },
     "metadata": {},
     "output_type": "display_data"
    }
   ],
   "source": [
    "sol=solve([d_profitF1_Q,d_profitF2_Q],[q1,q2])\n",
    "\n",
    "display(sol[q1])\n",
    "display(sol[q2])"
   ]
  },
  {
   "cell_type": "code",
   "execution_count": 14,
   "id": "f1dc51d8-1185-4072-bdf1-1d488f2aea3e",
   "metadata": {},
   "outputs": [],
   "source": [
    "cournot=lambdify(\n",
    "    (a,b,c), \n",
    "    (sol[q1],sol[q2])\n",
    ")"
   ]
  },
  {
   "cell_type": "code",
   "execution_count": 15,
   "id": "b2bee58e-55ea-4024-a4c1-f935fc0f60c9",
   "metadata": {},
   "outputs": [
    {
     "data": {
      "text/plain": [
       "(40.0, 40.0)"
      ]
     },
     "execution_count": 15,
     "metadata": {},
     "output_type": "execute_result"
    }
   ],
   "source": [
    "cournot(150,1,30)"
   ]
  },
  {
   "cell_type": "code",
   "execution_count": 16,
   "id": "0819a968-831c-4633-9456-8c5f15df9b87",
   "metadata": {},
   "outputs": [],
   "source": [
    "a_value=150\n",
    "b_value=1\n",
    "c_value=30"
   ]
  },
  {
   "cell_type": "code",
   "execution_count": 17,
   "id": "0fb1dadc-2f3f-4f33-8393-5fa312fb84e7",
   "metadata": {},
   "outputs": [
    {
     "name": "stdout",
     "output_type": "stream",
     "text": [
      "70.0\n"
     ]
    }
   ],
   "source": [
    "q1sol, q2sol=cournot(a_value,b_value,c_value)\n",
    "print (P_demand(q1sol+q2sol,a_value,b_value))"
   ]
  },
  {
   "cell_type": "code",
   "execution_count": 18,
   "id": "a8928d64-d0f5-4ca0-af26-9df73d71d7fe",
   "metadata": {},
   "outputs": [
    {
     "name": "stdout",
     "output_type": "stream",
     "text": [
      "Løsningen er at \n",
      "bedriftene produserer 40.0 enheter som gir profitt lik 1600.0 og \n",
      "prisen i markedet blir 70.0\n"
     ]
    }
   ],
   "source": [
    "print(f\"\"\"Løsningen er at \n",
    "bedriftene produserer {q1sol} enheter som gir profitt lik {profitF(q1sol,q2sol,c_value,a_value,b_value)} og \n",
    "prisen i markedet blir {P_demand1(q1sol+q2sol,a_value,b_value)}\"\"\")"
   ]
  }
 ],
 "metadata": {
  "kernelspec": {
   "display_name": "Python 3 (ipykernel)",
   "language": "python",
   "name": "python3"
  },
  "language_info": {
   "codemirror_mode": {
    "name": "ipython",
    "version": 3
   },
   "file_extension": ".py",
   "mimetype": "text/x-python",
   "name": "python",
   "nbconvert_exporter": "python",
   "pygments_lexer": "ipython3",
   "version": "3.9.18"
  }
 },
 "nbformat": 4,
 "nbformat_minor": 5
}
