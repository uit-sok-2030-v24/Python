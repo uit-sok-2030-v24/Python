{
 "cells": [
  {
   "cell_type": "markdown",
   "id": "f51c4389-c6b7-4321-92e4-3f939d9dfcc1",
   "metadata": {},
   "source": [
    "# Sok-2030 Næringsøkonomi og konkuransestrategi\n",
    "## Del 4 Prissamarbeid\n",
    "### Cournot model og \"fangens dilemma\"\n",
    "\n",
    "For å se om prissamarbeid vil lønnne seg må vi sammenligne ulike markedstilpasninger. Vi vil her se på optimal tilpasning ved Cournot konkurranse."
   ]
  },
  {
   "cell_type": "code",
   "execution_count": 2,
   "id": "c3429fe2-df1f-4981-bccd-993469beedab",
   "metadata": {},
   "outputs": [],
   "source": [
    "import sympy as sp\n",
    "import numpy as np\n",
    "from matplotlib import pyplot as plt"
   ]
  },
  {
   "cell_type": "markdown",
   "id": "797d8b8b-7c56-462e-b46b-920910e0f936",
   "metadata": {},
   "source": [
    "Anta følgende etterspørsel: P = 150 – Q  og marginalkostnader: c = 30\n"
   ]
  },
  {
   "cell_type": "code",
   "execution_count": 3,
   "id": "fe801bc7-548c-4719-97b7-561586d908df",
   "metadata": {},
   "outputs": [],
   "source": [
    "def demand_1(q1):\n",
    "           return (150-q1-q2)"
   ]
  },
  {
   "cell_type": "code",
   "execution_count": 4,
   "id": "e372fb1b-4686-4a21-aa5e-d5d7fc6ee678",
   "metadata": {},
   "outputs": [],
   "source": [
    "def demand_2(q2):\n",
    "           return (150-q1-q2)"
   ]
  },
  {
   "cell_type": "code",
   "execution_count": 5,
   "id": "2ae079cc-3fc0-435b-86a1-fbb2f31f5a9d",
   "metadata": {},
   "outputs": [],
   "source": [
    "def marginalrevenue_1(q1):\n",
    "    return (150-2*q1-q2)"
   ]
  },
  {
   "cell_type": "code",
   "execution_count": 6,
   "id": "ca59cdfd-4cdc-436b-91aa-4cd0a93856b3",
   "metadata": {},
   "outputs": [],
   "source": [
    "def marginalrevenue_2(q2):\n",
    "    return (150-2*q2-q1)\n"
   ]
  },
  {
   "cell_type": "markdown",
   "id": "7e74b682-2d83-453b-816f-d8dd59bfe8cb",
   "metadata": {},
   "source": [
    "Optimal tilpasning ved Cournot modell"
   ]
  },
  {
   "cell_type": "code",
   "execution_count": 7,
   "id": "b5fe5a7b-e9aa-4c90-a938-208036ef9fe6",
   "metadata": {},
   "outputs": [
    {
     "data": {
      "text/latex": [
       "$\\displaystyle - q_{1} - 2 q_{2} + 150 = 30$"
      ],
      "text/plain": [
       "Eq(-q1 - 2*q2 + 150, 30)"
      ]
     },
     "execution_count": 7,
     "metadata": {},
     "output_type": "execute_result"
    }
   ],
   "source": [
    "# optimal tilpasning der MR = MC\n",
    "q2=sp.symbols('q2', real=True, positive=True)\n",
    "q1=sp.symbols('q1', real=True, positive=True)\n",
    "equ=sp.Eq(marginalrevenue_2(q2),30)\n",
    "equ"
   ]
  },
  {
   "cell_type": "code",
   "execution_count": 8,
   "id": "d0f29406-3de7-4a1e-a66f-c6f3575afb6f",
   "metadata": {},
   "outputs": [
    {
     "data": {
      "text/latex": [
       "$\\displaystyle 60 - \\frac{q_{1}}{2}$"
      ],
      "text/plain": [
       "60 - q1/2"
      ]
     },
     "execution_count": 8,
     "metadata": {},
     "output_type": "execute_result"
    }
   ],
   "source": [
    "#reaksjonsfunksjon til bedrift 2\n",
    "q2_equ=sp.solve(equ,q2)[0]\n",
    "q2_equ"
   ]
  },
  {
   "cell_type": "code",
   "execution_count": 9,
   "id": "98493f6c-647b-47f0-8f3e-c23c29331bff",
   "metadata": {},
   "outputs": [
    {
     "data": {
      "text/latex": [
       "$\\displaystyle - 2 q_{1} - q_{2} + 150 = 30$"
      ],
      "text/plain": [
       "Eq(-2*q1 - q2 + 150, 30)"
      ]
     },
     "execution_count": 9,
     "metadata": {},
     "output_type": "execute_result"
    }
   ],
   "source": [
    "equ=sp.Eq(marginalrevenue_1(q1),30)\n",
    "equ"
   ]
  },
  {
   "cell_type": "code",
   "execution_count": 10,
   "id": "17ca6910-8d82-42f9-a902-b9d1a42bdfe2",
   "metadata": {},
   "outputs": [
    {
     "data": {
      "text/latex": [
       "$\\displaystyle 60 - \\frac{q_{2}}{2}$"
      ],
      "text/plain": [
       "60 - q2/2"
      ]
     },
     "execution_count": 10,
     "metadata": {},
     "output_type": "execute_result"
    }
   ],
   "source": [
    "#reaksjonsfunksjon til bedrift 1\n",
    "q1_equ=sp.solve(equ,q1)[0]\n",
    "q1_equ"
   ]
  },
  {
   "cell_type": "code",
   "execution_count": 11,
   "id": "eec71586-324b-4ca5-b37a-3ca833d32e67",
   "metadata": {},
   "outputs": [],
   "source": [
    "# setter reaksjonsfunskjon til bedrift 2 inn i reaksjonsfunksjon til bedrift 1\n",
    "q1_unresv_eq = q1_equ.subs(q2, q2_equ)"
   ]
  },
  {
   "cell_type": "code",
   "execution_count": 12,
   "id": "8f55762c-e8e0-401d-a58c-da605c8f134a",
   "metadata": {},
   "outputs": [
    {
     "data": {
      "text/latex": [
       "$\\displaystyle 40$"
      ],
      "text/plain": [
       "40"
      ]
     },
     "execution_count": 12,
     "metadata": {},
     "output_type": "execute_result"
    }
   ],
   "source": [
    "# Løser for å finne optimalt kvantum for bedrift 1\n",
    "q1_equ=sp.solve(sp.Eq(q1_unresv_eq, q1), q1)[0]\n",
    "q1_equ\n"
   ]
  },
  {
   "cell_type": "code",
   "execution_count": 13,
   "id": "70f2d66e-c508-46b3-9c33-3d537848aec8",
   "metadata": {},
   "outputs": [],
   "source": [
    "## setter optimal produksjonskvantum til bedrift 1 (q1=40) inn i reaksjonsfunksjon til bedrift 2\n",
    "q2_unresv_eq = q2_equ.subs(q1, q1_equ)"
   ]
  },
  {
   "cell_type": "code",
   "execution_count": 14,
   "id": "7f71b754-48b7-4803-8c06-95eb73206920",
   "metadata": {},
   "outputs": [
    {
     "data": {
      "text/latex": [
       "$\\displaystyle 40$"
      ],
      "text/plain": [
       "40"
      ]
     },
     "execution_count": 14,
     "metadata": {},
     "output_type": "execute_result"
    }
   ],
   "source": [
    "# Løser for å finne optimalt kvantum for bedrift 1\n",
    "q2_equ=sp.solve(sp.Eq(q2_unresv_eq, q2), q2)[0]\n",
    "q2_equ\n"
   ]
  },
  {
   "cell_type": "code",
   "execution_count": 15,
   "id": "dd35413a-408b-4b8d-815a-dccc622933ff",
   "metadata": {},
   "outputs": [
    {
     "data": {
      "text/latex": [
       "$\\displaystyle 70$"
      ],
      "text/plain": [
       "70"
      ]
     },
     "execution_count": 15,
     "metadata": {},
     "output_type": "execute_result"
    }
   ],
   "source": [
    "demand_1(q1).subs({q1:q1_equ,q2:q2_equ})"
   ]
  },
  {
   "cell_type": "code",
   "execution_count": 16,
   "id": "f1b02ac9-f1ea-4b20-8fc8-6e449cf41e64",
   "metadata": {},
   "outputs": [
    {
     "data": {
      "text/latex": [
       "$\\displaystyle 1600$"
      ],
      "text/plain": [
       "1600"
      ]
     },
     "execution_count": 16,
     "metadata": {},
     "output_type": "execute_result"
    }
   ],
   "source": [
    "# Profitt for begge bedriftene er lik (P-c)q, hvor q er lik 40\n",
    "def profitt(q1):\n",
    "    return (demand_1(q1).subs({q1:q1_equ,q2:q2_equ})-30)*q1_equ\n",
    "round(profitt(q1),2)"
   ]
  },
  {
   "cell_type": "markdown",
   "id": "9b46e237-8ee6-474e-abd4-c051f7269c51",
   "metadata": {},
   "source": [
    "## Optimal tilpasning ved avvik når bedrift 1 produserer avtalt mengde på 30 og bedrift 2 velger å avvike fra avtalen om samarbeid\n"
   ]
  },
  {
   "cell_type": "code",
   "execution_count": 17,
   "id": "2d9349b3-291f-4df1-a4e0-233bbc13eaaf",
   "metadata": {},
   "outputs": [],
   "source": [
    "def demand(q1):\n",
    "    return (150-q1-q2)"
   ]
  },
  {
   "cell_type": "code",
   "execution_count": 51,
   "id": "00acdc41-ef02-4fd1-a88a-d21e51f2956b",
   "metadata": {},
   "outputs": [],
   "source": [
    "def demand(q2):\n",
    "    return (150-q1-q2)"
   ]
  },
  {
   "cell_type": "code",
   "execution_count": 19,
   "id": "c8357472-d829-4c51-ab00-d4f3ce6b1031",
   "metadata": {},
   "outputs": [],
   "source": [
    "def marginalrevenue(q2):\n",
    "    return (150-2*q2-q1)"
   ]
  },
  {
   "cell_type": "code",
   "execution_count": 20,
   "id": "7c7cdc64-f379-439f-9d59-c265ed46ff05",
   "metadata": {},
   "outputs": [],
   "source": [
    "def marginalrevenue(q1):\n",
    "    return (150-2*q1-q2)"
   ]
  },
  {
   "cell_type": "code",
   "execution_count": 33,
   "id": "f0ec583f-46d2-4330-8b8c-3a566046f6dd",
   "metadata": {},
   "outputs": [
    {
     "data": {
      "text/latex": [
       "$\\displaystyle - q_{1} - 2 q_{2} + 150 = 30$"
      ],
      "text/plain": [
       "Eq(-q1 - 2*q2 + 150, 30)"
      ]
     },
     "execution_count": 33,
     "metadata": {},
     "output_type": "execute_result"
    }
   ],
   "source": [
    "equ=sp.Eq(marginalrevenue_2(q2),30)\n",
    "equ"
   ]
  },
  {
   "cell_type": "code",
   "execution_count": 34,
   "id": "c3cef44d-02ba-402f-9e7b-abb48f36a679",
   "metadata": {},
   "outputs": [
    {
     "data": {
      "text/latex": [
       "$\\displaystyle 60 - \\frac{q_{1}}{2}$"
      ],
      "text/plain": [
       "60 - q1/2"
      ]
     },
     "execution_count": 34,
     "metadata": {},
     "output_type": "execute_result"
    }
   ],
   "source": [
    "#reaksjonsfunksjon til bedrift 2\n",
    "q2equ=sp.solve(equ,q2)[0]\n",
    "q2equ"
   ]
  },
  {
   "cell_type": "code",
   "execution_count": 57,
   "id": "f81051b3-790c-4a34-a0d4-5af568240bfc",
   "metadata": {},
   "outputs": [],
   "source": [
    "def prod(q1):\n",
    "    return (30)"
   ]
  },
  {
   "cell_type": "code",
   "execution_count": 69,
   "id": "11f975ab-fe76-4d96-b256-f78726bd8303",
   "metadata": {},
   "outputs": [
    {
     "data": {
      "text/latex": [
       "$\\displaystyle 45$"
      ],
      "text/plain": [
       "45"
      ]
     },
     "execution_count": 69,
     "metadata": {},
     "output_type": "execute_result"
    }
   ],
   "source": [
    "# Bryggeri 13 vil produsere følgende:\n",
    "q2equ.subs({q1:prod(q1)})"
   ]
  },
  {
   "cell_type": "code",
   "execution_count": 73,
   "id": "528ada24-187a-4447-91fc-4352711167b4",
   "metadata": {},
   "outputs": [
    {
     "data": {
      "text/latex": [
       "$\\displaystyle 75$"
      ],
      "text/plain": [
       "75"
      ]
     },
     "execution_count": 73,
     "metadata": {},
     "output_type": "execute_result"
    }
   ],
   "source": [
    "# prisen i markedet blir:\n",
    "demand(q2).subs({q1:prod(q1),q2:q2equ.subs({q1:prod(q1)})})"
   ]
  },
  {
   "cell_type": "code",
   "execution_count": 38,
   "id": "e52a3c74-bf5a-47d0-b46c-648b514a7186",
   "metadata": {},
   "outputs": [
    {
     "name": "stdout",
     "output_type": "stream",
     "text": [
      "1350\n"
     ]
    }
   ],
   "source": [
    "# profitt til bedrift 1 blir da:\n",
    "print ((75-30)*30)"
   ]
  },
  {
   "cell_type": "code",
   "execution_count": 75,
   "id": "66c30fc3-98d6-4c61-a8c3-9dea36027075",
   "metadata": {},
   "outputs": [
    {
     "data": {
      "text/latex": [
       "$\\displaystyle 2025$"
      ],
      "text/plain": [
       "2025"
      ]
     },
     "execution_count": 75,
     "metadata": {},
     "output_type": "execute_result"
    }
   ],
   "source": [
    "# profitt til bedrift 2:\n",
    "round((demand(q2).subs({q1:prod(q1),q2:q2equ.subs({q1:prod(q1)})})-30)*(q2equ.subs({q1:prod(q1)})),3)\n"
   ]
  },
  {
   "cell_type": "code",
   "execution_count": 80,
   "id": "892fab9f-6a6d-4bd8-8381-6a1180c5dd8d",
   "metadata": {},
   "outputs": [
    {
     "data": {
      "text/latex": [
       "$\\displaystyle 1350$"
      ],
      "text/plain": [
       "1350"
      ]
     },
     "execution_count": 80,
     "metadata": {},
     "output_type": "execute_result"
    }
   ],
   "source": [
    "# profitt til bedrift 1:\n",
    "round((demand(q2).subs({q1:prod(q1),q2:q2equ.subs({q1:prod(q1)})})-30)*(prod(q1)),3)\n"
   ]
  },
  {
   "cell_type": "code",
   "execution_count": null,
   "id": "ae58f939-7d31-4ae6-b16d-5e7bde44e0a1",
   "metadata": {},
   "outputs": [],
   "source": []
  }
 ],
 "metadata": {
  "kernelspec": {
   "display_name": "Python 3 (ipykernel)",
   "language": "python",
   "name": "python3"
  },
  "language_info": {
   "codemirror_mode": {
    "name": "ipython",
    "version": 3
   },
   "file_extension": ".py",
   "mimetype": "text/x-python",
   "name": "python",
   "nbconvert_exporter": "python",
   "pygments_lexer": "ipython3",
   "version": "3.9.18"
  }
 },
 "nbformat": 4,
 "nbformat_minor": 5
}
