{
 "cells": [
  {
   "cell_type": "markdown",
   "id": "ae624248-9e0f-4a2d-b39a-b6e08fccf051",
   "metadata": {
    "tags": []
   },
   "source": [
    "# Sok-2030 Næringsøkonomi og konkuransestrategi\n",
    "## Del 3 Oligopolmodeller\n",
    "### Cournot modell med asymmetriske bedrifter\n",
    "\n",
    "Nummerisk eksempel: Invers etterspørsel: P = 120 - 20Q, marginalkostnad til bedrift 1 er lik 20 og bedrift 2 har marginalkostnader på 40\n"
   ]
  },
  {
   "cell_type": "code",
   "execution_count": 5,
   "id": "da0a30f2-b514-45cc-8f5c-d8bbaab1c91a",
   "metadata": {},
   "outputs": [],
   "source": [
    "import sympy as sp\n",
    "import numpy as np\n",
    "from matplotlib import pyplot as plt"
   ]
  },
  {
   "cell_type": "code",
   "execution_count": 6,
   "id": "46cd149d-9c80-4c34-b93e-022460d0783a",
   "metadata": {},
   "outputs": [],
   "source": [
    "def demand_1(q1):\n",
    "           return (120-20*q1-20*q2)"
   ]
  },
  {
   "cell_type": "code",
   "execution_count": 7,
   "id": "ea7049cc-ab47-4dec-84e5-8339f6cc9020",
   "metadata": {},
   "outputs": [],
   "source": [
    "def demand_2(q2):\n",
    "           return (120-20*q1-20*q2)"
   ]
  },
  {
   "cell_type": "code",
   "execution_count": 8,
   "id": "b61c9f33-2755-458c-aec1-99ea467cc27b",
   "metadata": {},
   "outputs": [],
   "source": [
    "def marginalrevenue_1(q1):\n",
    "    return (120-40*q1-20*q2)"
   ]
  },
  {
   "cell_type": "code",
   "execution_count": 9,
   "id": "c78569c0-d7eb-43f7-8db5-aba50d144e0e",
   "metadata": {},
   "outputs": [],
   "source": [
    "def marginalrevenue_2(q2):\n",
    "    return (120-20*q1-40*q2)"
   ]
  },
  {
   "cell_type": "markdown",
   "id": "8d78c376-d55b-450b-8556-5d698d346198",
   "metadata": {},
   "source": [
    "Optimal tilpasning der MR = MC"
   ]
  },
  {
   "cell_type": "code",
   "execution_count": 10,
   "id": "171d34cc-4ba0-46a7-868a-909f4ba32561",
   "metadata": {},
   "outputs": [
    {
     "data": {
      "text/latex": [
       "$\\displaystyle - 20 q_{1} - 40 q_{2} + 120 = 40$"
      ],
      "text/plain": [
       "Eq(-20*q1 - 40*q2 + 120, 40)"
      ]
     },
     "execution_count": 10,
     "metadata": {},
     "output_type": "execute_result"
    }
   ],
   "source": [
    "q2=sp.symbols('q2', real=True, positive=True)\n",
    "q1=sp.symbols('q1', real=True, positive=True)\n",
    "equ=sp.Eq(marginalrevenue_2(q2),40)\n",
    "equ"
   ]
  },
  {
   "cell_type": "code",
   "execution_count": 11,
   "id": "b30bc32e-cf33-43b8-a7c3-6b357d104a14",
   "metadata": {},
   "outputs": [
    {
     "data": {
      "text/latex": [
       "$\\displaystyle 2 - \\frac{q_{1}}{2}$"
      ],
      "text/plain": [
       "2 - q1/2"
      ]
     },
     "execution_count": 11,
     "metadata": {},
     "output_type": "execute_result"
    }
   ],
   "source": [
    "#reaksjonsfunksjon til bedrift 2\n",
    "q2_equ=sp.solve(equ,q2)[0]\n",
    "q2_equ"
   ]
  },
  {
   "cell_type": "code",
   "execution_count": 12,
   "id": "b9cc8f8b-771a-4459-9ee2-431b9c4ab3d4",
   "metadata": {},
   "outputs": [
    {
     "data": {
      "text/latex": [
       "$\\displaystyle - 40 q_{1} - 20 q_{2} + 120 = 20$"
      ],
      "text/plain": [
       "Eq(-40*q1 - 20*q2 + 120, 20)"
      ]
     },
     "execution_count": 12,
     "metadata": {},
     "output_type": "execute_result"
    }
   ],
   "source": [
    "q1=sp.symbols('q1', real=True, positive=True)\n",
    "equ=sp.Eq(marginalrevenue_1(q1),20)\n",
    "equ"
   ]
  },
  {
   "cell_type": "code",
   "execution_count": 13,
   "id": "96913f16-7a65-4243-9ccd-68f387aa76cb",
   "metadata": {},
   "outputs": [
    {
     "data": {
      "text/latex": [
       "$\\displaystyle \\frac{5}{2} - \\frac{q_{2}}{2}$"
      ],
      "text/plain": [
       "5/2 - q2/2"
      ]
     },
     "execution_count": 13,
     "metadata": {},
     "output_type": "execute_result"
    }
   ],
   "source": [
    "#reaksjonsfunksjon til bedrift 1\n",
    "q1_equ=sp.solve(equ,q1)[0]\n",
    "q1_equ"
   ]
  },
  {
   "cell_type": "markdown",
   "id": "3e3d2faf-40e6-41ef-bdec-86e3b2ba1897",
   "metadata": {},
   "source": [
    "\n",
    "Cournot likevekt finner vi ved å sette RF2 inn i RF1 \n"
   ]
  },
  {
   "cell_type": "code",
   "execution_count": 14,
   "id": "69859f30-6955-4945-a1cd-61d794f1e2d5",
   "metadata": {},
   "outputs": [],
   "source": [
    "from sympy.solvers import solve"
   ]
  },
  {
   "cell_type": "code",
   "execution_count": 34,
   "id": "118159c6-5e04-48e1-8d1b-d50ecb469ccc",
   "metadata": {},
   "outputs": [],
   "source": [
    "# finner uttrykk for q1 og q2\n",
    "q1_equ = sp.solve(sp.Eq(marginalrevenue_1(q1), 20), q1)[0]\n",
    "q2_equ = sp.solve(sp.Eq(marginalrevenue_2(q2), 40), q2)[0]\n",
    "\n",
    "# setter uttrykk for q1 inn i q2\n",
    "q2_unresv_eq = q2_equ.subs(q1, q1_equ)"
   ]
  },
  {
   "cell_type": "code",
   "execution_count": 35,
   "id": "c9dc3f84-e9a9-4afa-ac03-02e9d6e365a7",
   "metadata": {},
   "outputs": [
    {
     "data": {
      "text/latex": [
       "$\\displaystyle 1$"
      ],
      "text/plain": [
       "1"
      ]
     },
     "execution_count": 35,
     "metadata": {},
     "output_type": "execute_result"
    }
   ],
   "source": [
    "# Løser q2 og finner optimalt kvantum for bedrift 2\n",
    "q2_equ=sp.solve(sp.Eq(q2_unresv_eq, q2), q2)[0]\n",
    "q2_equ"
   ]
  },
  {
   "cell_type": "code",
   "execution_count": 36,
   "id": "0aaa974b-e7eb-4790-a41f-0eeef0f3795c",
   "metadata": {},
   "outputs": [],
   "source": [
    "# setter uttrykk for q2 inn i q1\n",
    "q1_unresv_eq = q1_equ.subs(q2, q2_equ)"
   ]
  },
  {
   "cell_type": "code",
   "execution_count": 37,
   "id": "fdb15b18-4ac3-46a2-972b-85781f45cc06",
   "metadata": {},
   "outputs": [
    {
     "data": {
      "text/latex": [
       "$\\displaystyle 2$"
      ],
      "text/plain": [
       "2"
      ]
     },
     "execution_count": 37,
     "metadata": {},
     "output_type": "execute_result"
    }
   ],
   "source": [
    "# Løser q1 og finner optimalt kvantum bedrift 1\n",
    "q1_equ=sp.solve(sp.Eq(q1_unresv_eq, q1), q1)[0]\n",
    "q1_equ"
   ]
  },
  {
   "cell_type": "code",
   "execution_count": 40,
   "id": "4b15b032-9db5-4ba3-a173-e3b01690e198",
   "metadata": {},
   "outputs": [
    {
     "data": {
      "text/latex": [
       "$\\displaystyle 60$"
      ],
      "text/plain": [
       "60"
      ]
     },
     "execution_count": 40,
     "metadata": {},
     "output_type": "execute_result"
    }
   ],
   "source": [
    "# Finner pris ved å sette totalt kvantum inn i etterspørselen\n",
    "demand_1(q1).subs({q1:q1_equ,q2:q2_equ})"
   ]
  },
  {
   "cell_type": "code",
   "execution_count": 46,
   "id": "9196418a-128a-45b9-8885-ba9c228ab43d",
   "metadata": {},
   "outputs": [
    {
     "data": {
      "text/latex": [
       "$\\displaystyle 80$"
      ],
      "text/plain": [
       "80"
      ]
     },
     "execution_count": 46,
     "metadata": {},
     "output_type": "execute_result"
    }
   ],
   "source": [
    "# Profitt for bedrift 1 er lik (p - 20)q1:\n",
    "def profitt(q1):\n",
    "    return (demand_1(q1).subs({q1:q1_equ,q2:q2_equ})-20)*q1_equ\n",
    "\n",
    "round(profitt(q1),2)"
   ]
  },
  {
   "cell_type": "code",
   "execution_count": 49,
   "id": "d05239db-216b-4e76-bba4-3d36bb525fdf",
   "metadata": {},
   "outputs": [
    {
     "data": {
      "text/latex": [
       "$\\displaystyle 20$"
      ],
      "text/plain": [
       "20"
      ]
     },
     "execution_count": 49,
     "metadata": {},
     "output_type": "execute_result"
    }
   ],
   "source": [
    "# Profitt for bedrift 2 er lik (p - 20)q1:\n",
    "def profitt(q2):\n",
    "    return (demand_2(q2).subs({q1:q1_equ,q2:q2_equ})-40)*q2_equ\n",
    "\n",
    "round(profitt(q2),2)"
   ]
  }
 ],
 "metadata": {
  "kernelspec": {
   "display_name": "Python 3 (ipykernel)",
   "language": "python",
   "name": "python3"
  },
  "language_info": {
   "codemirror_mode": {
    "name": "ipython",
    "version": 3
   },
   "file_extension": ".py",
   "mimetype": "text/x-python",
   "name": "python",
   "nbconvert_exporter": "python",
   "pygments_lexer": "ipython3",
   "version": "3.9.18"
  }
 },
 "nbformat": 4,
 "nbformat_minor": 5
}
