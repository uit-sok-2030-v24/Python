{
 "cells": [
  {
   "cell_type": "markdown",
   "id": "d26963c5-e891-4b03-892a-39fad33f3228",
   "metadata": {},
   "source": [
    "# Sok-2030 Næringsøkonomi og konkuransestrategi\n",
    "## Del 3 Oligopolmodeller\n",
    "### Cournot modell med asymmetriske bedrifter\n",
    "\n",
    "Invers etterspørsel: P = A - BQ, marginalkostnad til bedrift 1 er lik c1 og bedrift 2 har marginalkostnader på c2"
   ]
  },
  {
   "cell_type": "code",
   "execution_count": 30,
   "id": "45fc06d0-035b-4f39-b1bb-0f9c9f83dae5",
   "metadata": {},
   "outputs": [],
   "source": [
    "import sympy as sp\n",
    "from matplotlib import pyplot as plt\n",
    "import numpy as np"
   ]
  },
  {
   "cell_type": "code",
   "execution_count": 2,
   "id": "d6794f27-8284-44da-b057-35db4b93a495",
   "metadata": {},
   "outputs": [],
   "source": [
    "q1, q2,c1,c2, A, B=symbols('q1 q2 c1 c2 A B')"
   ]
  },
  {
   "cell_type": "code",
   "execution_count": 3,
   "id": "2000f1a7-0482-4985-925b-e2e53828c9b1",
   "metadata": {},
   "outputs": [],
   "source": [
    "def demand_1(q1):\n",
    "           return (A-B*q1-B*q2)"
   ]
  },
  {
   "cell_type": "code",
   "execution_count": 25,
   "id": "e2debc11-4916-4c27-bae7-b2a4c8f9a543",
   "metadata": {},
   "outputs": [],
   "source": [
    "def marginalrevenue_1(q1):\n",
    "    return (A-2*B*q1-B*q2)"
   ]
  },
  {
   "cell_type": "code",
   "execution_count": 4,
   "id": "b94aad85-b451-4444-9eb6-ffee52688896",
   "metadata": {},
   "outputs": [],
   "source": [
    "def demand_2(q2):\n",
    "           return (A-B*q1-B*q2)"
   ]
  },
  {
   "cell_type": "code",
   "execution_count": 26,
   "id": "11930b94-ba70-45d3-9f38-4fd5c9c87167",
   "metadata": {},
   "outputs": [],
   "source": [
    "def marginalrevenue_2(q2):\n",
    "    return (A-B*q1-2*B*q2)"
   ]
  },
  {
   "cell_type": "code",
   "execution_count": 21,
   "id": "422e16cc-aa94-424c-a6e8-da3103d8470c",
   "metadata": {},
   "outputs": [],
   "source": [
    "# Marginalinntekt for q1 og q2\n",
    "mr_q1_eq = A - 2*B*q1 - B*q2\n",
    "mr_q2_eq = A - B*q1 - 2*B*q2"
   ]
  },
  {
   "cell_type": "markdown",
   "id": "977403ca-f546-46b5-928c-ca94b2f33a30",
   "metadata": {},
   "source": [
    "Optimal tilpasning der MR = MC"
   ]
  },
  {
   "cell_type": "code",
   "execution_count": 7,
   "id": "22041cd9-6669-4df0-965e-9c387a824dd4",
   "metadata": {},
   "outputs": [
    {
     "data": {
      "text/latex": [
       "$\\displaystyle A - 2 B q_{1} - B q_{2} = c_{1}$"
      ],
      "text/plain": [
       "Eq(A - 2*B*q1 - B*q2, c1)"
      ]
     },
     "execution_count": 7,
     "metadata": {},
     "output_type": "execute_result"
    }
   ],
   "source": [
    "q1=sp.symbols('q1', real=True, positive=True)\n",
    "equ1=sp.Eq(marginalrevenue_1(q1),c1)\n",
    "equ1"
   ]
  },
  {
   "cell_type": "code",
   "execution_count": 8,
   "id": "eabdb65d-c6b8-4448-938b-8c6decd6dda1",
   "metadata": {},
   "outputs": [
    {
     "data": {
      "text/latex": [
       "$\\displaystyle A - B q_{1} - 2 B q_{2} = c_{2}$"
      ],
      "text/plain": [
       "Eq(A - B*q1 - 2*B*q2, c2)"
      ]
     },
     "execution_count": 8,
     "metadata": {},
     "output_type": "execute_result"
    }
   ],
   "source": [
    "q2=sp.symbols('q2', real=True, positive=True)\n",
    "equ2=sp.Eq(marginalrevenue_2(q2),c2)\n",
    "equ2"
   ]
  },
  {
   "cell_type": "code",
   "execution_count": 9,
   "id": "55b1d2de-d6b7-4f6e-8d49-df74f6d207c3",
   "metadata": {},
   "outputs": [
    {
     "data": {
      "text/latex": [
       "$\\displaystyle \\frac{A - B q_{2} - c_{1}}{2 B}$"
      ],
      "text/plain": [
       "(A - B*q2 - c1)/(2*B)"
      ]
     },
     "execution_count": 9,
     "metadata": {},
     "output_type": "execute_result"
    }
   ],
   "source": [
    "#reaksjonsfunksjon til bedrift 1\n",
    "q1_equ1=sp.solve(equ1,q1)[0]\n",
    "q1_equ1"
   ]
  },
  {
   "cell_type": "code",
   "execution_count": 10,
   "id": "ea5ade13-b353-4631-a141-ce7ffb5e3f9d",
   "metadata": {},
   "outputs": [
    {
     "data": {
      "text/latex": [
       "$\\displaystyle \\frac{A - B q_{1} - c_{2}}{2 B}$"
      ],
      "text/plain": [
       "(A - B*q1 - c2)/(2*B)"
      ]
     },
     "execution_count": 10,
     "metadata": {},
     "output_type": "execute_result"
    }
   ],
   "source": [
    "#reaksjonsfunksjon til bedrift 2\n",
    "q2_equ2=sp.solve(equ2,q2)[0]\n",
    "q2_equ2"
   ]
  },
  {
   "cell_type": "markdown",
   "id": "96320ce2-77b7-4c68-9f9b-e5a89e5a48dc",
   "metadata": {},
   "source": [
    "Nash-likevekten for denne asymmetriske Cournot-modellen finner vi der beste-respons for bedrifte 1 gitt valg av q2 også er beste-respons for bedrift 2:\n",
    "\n",
    "Optimalt kvantum til bedrift 2 finner vi ved å sette RF1 inn i RF2:"
   ]
  },
  {
   "cell_type": "code",
   "execution_count": 44,
   "id": "2ef92659-875b-46be-bba8-eb323425b2bc",
   "metadata": {},
   "outputs": [],
   "source": [
    "# finner uttrykk for q1 og q2 der MR = MC\n",
    "q1_eq = sp.solve(sp.Eq(marginalrevenue_1(q1), c1), q1)[0]\n",
    "q2_eq = sp.solve(sp.Eq(marginalrevenue_2(q2), c2), q2)[0]"
   ]
  },
  {
   "cell_type": "code",
   "execution_count": 45,
   "id": "df2fc58e-a0ac-498a-9c9b-be5935555af5",
   "metadata": {},
   "outputs": [],
   "source": [
    "# setter uttrykk for q1 inn i q2\n",
    "q2_unresv_eq = q2_eq.subs(q1, q1_eq)"
   ]
  },
  {
   "cell_type": "code",
   "execution_count": 46,
   "id": "9a34d3c8-beff-45f4-9875-29b0d46efae2",
   "metadata": {},
   "outputs": [],
   "source": [
    "# setter uttrykk for q2 inn i q1\n",
    "q1_unresv_eq = q1_eq.subs(q2, q2_eq)"
   ]
  },
  {
   "cell_type": "markdown",
   "id": "356dd2da-8b08-44e2-a3aa-36f1ac26dc75",
   "metadata": {},
   "source": [
    "Finner optimalt kvantum for bedrift 2:"
   ]
  },
  {
   "cell_type": "code",
   "execution_count": 47,
   "id": "72187684-4cc9-48ee-9056-487689fa8852",
   "metadata": {},
   "outputs": [
    {
     "data": {
      "text/latex": [
       "$\\displaystyle \\frac{A + c_{1} - 2 c_{2}}{3 B}$"
      ],
      "text/plain": [
       "(A + c1 - 2*c2)/(3*B)"
      ]
     },
     "execution_count": 47,
     "metadata": {},
     "output_type": "execute_result"
    }
   ],
   "source": [
    "# Løser q2\n",
    "sp.solve(sp.Eq(q2_unresv_eq, q2), q2)[0]"
   ]
  },
  {
   "cell_type": "markdown",
   "id": "44c5c287-cc19-4d2b-ba8e-fc35973bc8b2",
   "metadata": {},
   "source": [
    "Tilsvare for bedrift 1, optimalt kvantum blir:"
   ]
  },
  {
   "cell_type": "code",
   "execution_count": 48,
   "id": "01507576-9f58-4788-9575-4b77877960bd",
   "metadata": {},
   "outputs": [
    {
     "data": {
      "text/latex": [
       "$\\displaystyle \\frac{A - 2 c_{1} + c_{2}}{3 B}$"
      ],
      "text/plain": [
       "(A - 2*c1 + c2)/(3*B)"
      ]
     },
     "execution_count": 48,
     "metadata": {},
     "output_type": "execute_result"
    }
   ],
   "source": [
    "# Løser q1\n",
    "sp.solve(sp.Eq(q1_unresv_eq, q1), q1)[0]"
   ]
  }
 ],
 "metadata": {
  "kernelspec": {
   "display_name": "Python 3 (ipykernel)",
   "language": "python",
   "name": "python3"
  },
  "language_info": {
   "codemirror_mode": {
    "name": "ipython",
    "version": 3
   },
   "file_extension": ".py",
   "mimetype": "text/x-python",
   "name": "python",
   "nbconvert_exporter": "python",
   "pygments_lexer": "ipython3",
   "version": "3.9.18"
  }
 },
 "nbformat": 4,
 "nbformat_minor": 5
}
