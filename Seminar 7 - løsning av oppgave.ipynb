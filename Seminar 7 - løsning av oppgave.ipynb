{
 "cells": [
  {
   "cell_type": "markdown",
   "id": "7ef86ebc-b2cf-4194-8e6e-1a767cdaf1d4",
   "metadata": {},
   "source": [
    "## Seminar 7\n",
    "\n",
    "Vi skal her se på caset med bryggeriene Graff Brygghus og Bryggeri 13, og se om det vil lønne seg for disse å inngå et samarbeid.\n",
    "Informasjon om markedet: \n",
    "I markedet for mikroøl har vi to bryggerier i Tromsø, Graff Brygghus og Bryggeri 13. I produksjon av øl velger bedriftene produksjonsvolum i god tid før produktene er på markedet. Etterspørselen i markedet er gitt ved:\n",
    "\tP = 175 – 2Q\n",
    "hvor P er markedspris for mikroøl per flaske, Q er totalt kvantum (antall tusen flasker) og Q = qG + qB, der qG er produsert kvantum for Graff Brygghus og qB er produsert kvantum for Bryggeri 13. I produksjon av mikroøl vil Graff Brygghus og Bryggeri 13 ha konstante marginalkostnader på kr 10 per flaske, og begge bedriftene har årlige faste kostnader på kr 500 000.\n",
    "\n",
    "\n",
    "Ved Cournot konkurranse i dette markedet vil optimal produksjon for hvert av bryggeriene være på 27 500 flasker, til en pris på kr 65 per flaske. Dette vil gi bedriftene en profitt på 1012.500.\r\n",
    "Anta at bryggeriene blir enige om å koordinere sin adferd. De avtaler å sette monopolpris og å dele markedet likt mellom seg. Videre avtaler de at hvis en av dem i en periode avviker fra denne avtalen, vil de begge i alle framtidige perioder opptre som konkurrenter.\r\n",
    "\r\n",
    "a)\tHva vil total produksjon av øl være hvis bryggeriene velger samarbeid og hvor mye vil bryggeriene tjene på dette?\r\n",
    "\r\n",
    "b)\tHvor mye vil Graff Brygghus tjene på å avvike fra samarbeidsavtalen med Bryggeri 13 i en perioe?\r\n",
    "\r\n",
    "c)\tHvor stor må diskonteringsfaktoren være for at bryggeriene skal ha incentiver til å opprettholde samarbeidsavtalen oavtalen?\r\n"
   ]
  },
  {
   "cell_type": "code",
   "execution_count": 2,
   "id": "62b7c140-42cf-49af-8c9e-520ec48fa595",
   "metadata": {},
   "outputs": [],
   "source": [
    "import sympy as sp\n",
    "from sympy import *\n",
    "import numpy as np\n",
    "from matplotlib import pyplot as plt"
   ]
  },
  {
   "cell_type": "markdown",
   "id": "de976af3-c5d2-4107-b2ec-d94c6c8b9589",
   "metadata": {},
   "source": [
    "Monopoltilpasning"
   ]
  },
  {
   "cell_type": "code",
   "execution_count": 3,
   "id": "6bb0e0ae-a49d-4d80-a43e-069fb41b5c38",
   "metadata": {},
   "outputs": [],
   "source": [
    "def demand(Q):\n",
    "    return (175-2*Q)"
   ]
  },
  {
   "cell_type": "code",
   "execution_count": 4,
   "id": "f7b43311-574d-465a-8160-bb78b04153e5",
   "metadata": {},
   "outputs": [],
   "source": [
    "def marginalrevenue(Q):\n",
    "    return (175-4*Q)"
   ]
  },
  {
   "cell_type": "code",
   "execution_count": 5,
   "id": "d9c1b8c1-9b4d-487f-9ea8-9e50a2097716",
   "metadata": {},
   "outputs": [],
   "source": [
    "def marginalcost(Q):\n",
    "    return (10)"
   ]
  },
  {
   "cell_type": "code",
   "execution_count": 6,
   "id": "a46da164-0d75-4f91-bd06-a94300dcb244",
   "metadata": {},
   "outputs": [
    {
     "data": {
      "text/latex": [
       "$\\displaystyle 175 - 4 Q = 10$"
      ],
      "text/plain": [
       "Eq(175 - 4*Q, 10)"
      ]
     },
     "execution_count": 6,
     "metadata": {},
     "output_type": "execute_result"
    }
   ],
   "source": [
    "# Optimal tilpasning der MR = MC\n",
    "Q=sp.symbols('Q', real=True, positive=True)\n",
    "equ=sp.Eq(marginalrevenue(Q),marginalcost(Q))\n",
    "equ"
   ]
  },
  {
   "cell_type": "code",
   "execution_count": 7,
   "id": "d88e7ddc-2e67-4689-befc-6216f47b2382",
   "metadata": {},
   "outputs": [
    {
     "data": {
      "text/latex": [
       "$\\displaystyle 41.25$"
      ],
      "text/plain": [
       "41.25"
      ]
     },
     "execution_count": 7,
     "metadata": {},
     "output_type": "execute_result"
    }
   ],
   "source": [
    "# Optimalt kvantum for monopol\n",
    "Q_equ=sp.solve(equ,Q)[0]\n",
    "Q_equ\n",
    "round(Q_equ,2)"
   ]
  },
  {
   "cell_type": "code",
   "execution_count": 8,
   "id": "b7acdedb-b08b-4548-9e62-187a2f39173d",
   "metadata": {},
   "outputs": [
    {
     "name": "stdout",
     "output_type": "stream",
     "text": [
      "165/8\n"
     ]
    },
    {
     "data": {
      "text/latex": [
       "$\\displaystyle 20.625$"
      ],
      "text/plain": [
       "20.625"
      ]
     },
     "execution_count": 8,
     "metadata": {},
     "output_type": "execute_result"
    }
   ],
   "source": [
    "# Optimalt kvantum for hvert bryggeri\n",
    "print (Q_equ/2)\n",
    "round(Q_equ/2,3)"
   ]
  },
  {
   "cell_type": "code",
   "execution_count": 9,
   "id": "12836830-65e5-457e-9333-8e303560964f",
   "metadata": {},
   "outputs": [
    {
     "data": {
      "text/latex": [
       "$\\displaystyle 92.5$"
      ],
      "text/plain": [
       "92.50"
      ]
     },
     "execution_count": 9,
     "metadata": {},
     "output_type": "execute_result"
    }
   ],
   "source": [
    "# Optimal pris\n",
    "p_eq=demand(Q_equ)\n",
    "p_eq\n",
    "round(p_eq,2)"
   ]
  },
  {
   "cell_type": "code",
   "execution_count": 10,
   "id": "d61b8c51-bc86-43d5-b400-69b5d13a3921",
   "metadata": {},
   "outputs": [
    {
     "data": {
      "text/latex": [
       "$\\displaystyle 3403.1$"
      ],
      "text/plain": [
       "3403.1"
      ]
     },
     "execution_count": 10,
     "metadata": {},
     "output_type": "execute_result"
    }
   ],
   "source": [
    "# Profitt for monopoltilpasning\n",
    "def profitt(Q):\n",
    "    return (demand(Q).subs({Q:Q_equ})-10)*Q_equ\n",
    "round(profitt(Q),1)"
   ]
  },
  {
   "cell_type": "code",
   "execution_count": 11,
   "id": "158f4c52-d7cd-4f00-9b3f-dd70a917387f",
   "metadata": {},
   "outputs": [
    {
     "data": {
      "text/latex": [
       "$\\displaystyle 1201.6$"
      ],
      "text/plain": [
       "1201.6"
      ]
     },
     "execution_count": 11,
     "metadata": {},
     "output_type": "execute_result"
    }
   ],
   "source": [
    "# Profitt ved samarbeid for hvert av bryggeiene\n",
    "def profitt(Q):\n",
    "    return ((demand(Q).subs({Q:Q_equ})-10)*Q_equ)/2-500\n",
    "round(profitt(Q),1)"
   ]
  },
  {
   "cell_type": "markdown",
   "id": "8b2febeb-fd0e-4b8f-9ecf-aa1aa77492dc",
   "metadata": {},
   "source": [
    "## Optimal tilpasning ved Cournot modell"
   ]
  },
  {
   "cell_type": "code",
   "execution_count": 12,
   "id": "399a5419-703b-45d2-8786-97291e301196",
   "metadata": {},
   "outputs": [],
   "source": [
    "# Vi har symmetirske bedrifer hvor løsningen blir qG = qB = q*\n",
    "def demand_G(qG):\n",
    "           return (175-2*qG-2*qB)"
   ]
  },
  {
   "cell_type": "code",
   "execution_count": 13,
   "id": "80265e57-52f8-484a-b4b8-11722bb5b35e",
   "metadata": {},
   "outputs": [],
   "source": [
    "def demand_B(qB):\n",
    "           return ((175-2*qG-2*qB))"
   ]
  },
  {
   "cell_type": "code",
   "execution_count": 14,
   "id": "15244ff4-1fbd-44b3-940d-403a7ad85095",
   "metadata": {},
   "outputs": [],
   "source": [
    "def marginalrevenue_G(qG):\n",
    "    return (175-4*qG-2*qB)"
   ]
  },
  {
   "cell_type": "code",
   "execution_count": 15,
   "id": "afefc014-4b42-4cdf-a45b-cbbe75104e6f",
   "metadata": {},
   "outputs": [],
   "source": [
    "def marginalrevenue_B(qB):\n",
    "    return (175-2*qG-4*qB)\n"
   ]
  },
  {
   "cell_type": "code",
   "execution_count": 16,
   "id": "639ece3a-d3e3-455a-bb95-09ba0c10827c",
   "metadata": {},
   "outputs": [
    {
     "data": {
      "text/latex": [
       "$\\displaystyle - 4 qB - 2 qG + 175 = 10$"
      ],
      "text/plain": [
       "Eq(-4*qB - 2*qG + 175, 10)"
      ]
     },
     "execution_count": 16,
     "metadata": {},
     "output_type": "execute_result"
    }
   ],
   "source": [
    "# marginalkostnaden for begge bedriftene er lik 10 \n",
    "qG=sp.symbols('qG', real=True, positive=True)\n",
    "qB=sp.symbols('qB', real=True, positive=True)\n",
    "equ=sp.Eq(marginalrevenue_B(qB),10)\n",
    "equ"
   ]
  },
  {
   "cell_type": "code",
   "execution_count": 17,
   "id": "3389ba8b-b446-4a1a-9b6d-c080e371caec",
   "metadata": {},
   "outputs": [
    {
     "data": {
      "text/latex": [
       "$\\displaystyle \\frac{165}{4} - \\frac{qG}{2}$"
      ],
      "text/plain": [
       "165/4 - qG/2"
      ]
     },
     "execution_count": 17,
     "metadata": {},
     "output_type": "execute_result"
    }
   ],
   "source": [
    "#reaksjonsfunksjon til Bryggeri 13\n",
    "qB_equ=sp.solve(equ,qB)[0]\n",
    "qB_equ"
   ]
  },
  {
   "cell_type": "code",
   "execution_count": 18,
   "id": "303f1a9e-5b3e-45f3-85d8-3180be102674",
   "metadata": {},
   "outputs": [
    {
     "data": {
      "text/latex": [
       "$\\displaystyle - 2 qB - 4 qG + 175 = 10$"
      ],
      "text/plain": [
       "Eq(-2*qB - 4*qG + 175, 10)"
      ]
     },
     "execution_count": 18,
     "metadata": {},
     "output_type": "execute_result"
    }
   ],
   "source": [
    "qG=sp.symbols('qG', real=True, positive=True)\n",
    "equ=sp.Eq(marginalrevenue_G(qG),10)\n",
    "equ"
   ]
  },
  {
   "cell_type": "code",
   "execution_count": 19,
   "id": "6f137f44-ccd4-41ff-97cf-e5c04b8013b4",
   "metadata": {},
   "outputs": [
    {
     "data": {
      "text/latex": [
       "$\\displaystyle \\frac{165}{4} - \\frac{qB}{2}$"
      ],
      "text/plain": [
       "165/4 - qB/2"
      ]
     },
     "execution_count": 19,
     "metadata": {},
     "output_type": "execute_result"
    }
   ],
   "source": [
    "#reaksjonsfunksjon til Graff bryggerier\n",
    "qG_equ=sp.solve(equ,qG)[0]\n",
    "qG_equ"
   ]
  },
  {
   "cell_type": "markdown",
   "id": "10e40e51-0975-4ed6-b811-e5633e0b592a",
   "metadata": {},
   "source": [
    "### Optimal tilpasning ved avvik når Graff Brygghus produserer avtalt mengde på 41.25/2 = 20.625 og Bryggeri 13 velger å avvike fra avtalen om samarbeid"
   ]
  },
  {
   "cell_type": "code",
   "execution_count": 20,
   "id": "e81fc49d-1dfa-4ca5-a378-fda4d4870b69",
   "metadata": {},
   "outputs": [
    {
     "data": {
      "text/latex": [
       "$\\displaystyle \\frac{495}{16}$"
      ],
      "text/plain": [
       "495/16"
      ]
     },
     "execution_count": 20,
     "metadata": {},
     "output_type": "execute_result"
    }
   ],
   "source": [
    "# Bryggeri 13 vil produsere følgende:\n",
    "qB_equ.subs({qG:Q_equ/2})\n"
   ]
  },
  {
   "cell_type": "code",
   "execution_count": 21,
   "id": "4dd1f588-d0ed-4809-8873-51edeecd579b",
   "metadata": {},
   "outputs": [
    {
     "data": {
      "text/latex": [
       "$\\displaystyle 30.938$"
      ],
      "text/plain": [
       "30.938"
      ]
     },
     "execution_count": 21,
     "metadata": {},
     "output_type": "execute_result"
    }
   ],
   "source": [
    "round(qB_equ.subs({qG:Q_equ/2}),3)"
   ]
  },
  {
   "cell_type": "code",
   "execution_count": 22,
   "id": "1e468d80-a6d7-4c8c-975c-0c79d3f05149",
   "metadata": {},
   "outputs": [
    {
     "data": {
      "text/latex": [
       "$\\displaystyle \\frac{575}{8}$"
      ],
      "text/plain": [
       "575/8"
      ]
     },
     "execution_count": 22,
     "metadata": {},
     "output_type": "execute_result"
    }
   ],
   "source": [
    "# prisen i markedet blir:\n",
    "demand_B(qB).subs({qG:Q_equ/2,qB:qB_equ})\n"
   ]
  },
  {
   "cell_type": "code",
   "execution_count": 23,
   "id": "00b80bfc-8967-4d0b-b8b1-e84bb68ff376",
   "metadata": {},
   "outputs": [
    {
     "data": {
      "text/latex": [
       "$\\displaystyle 71.875$"
      ],
      "text/plain": [
       "71.875"
      ]
     },
     "execution_count": 23,
     "metadata": {},
     "output_type": "execute_result"
    }
   ],
   "source": [
    "round(demand_B(qB).subs({qG:Q_equ/2,qB:qB_equ}),3)"
   ]
  },
  {
   "cell_type": "code",
   "execution_count": 33,
   "id": "5121fc9f-828a-4420-a886-623bed108cdb",
   "metadata": {},
   "outputs": [
    {
     "data": {
      "text/latex": [
       "$\\displaystyle 776.172$"
      ],
      "text/plain": [
       "776.172"
      ]
     },
     "execution_count": 33,
     "metadata": {},
     "output_type": "execute_result"
    }
   ],
   "source": [
    "# profitt til Graff Brygghus er lik (p -c)qG -500:\n",
    "round((demand_B(qB).subs({qG:Q_equ/2,qB:qB_equ})-10)*(Q_equ/2)-500,3)"
   ]
  },
  {
   "cell_type": "code",
   "execution_count": 32,
   "id": "04f8469f-41ea-44c8-91fe-dfb0e169abe1",
   "metadata": {},
   "outputs": [
    {
     "data": {
      "text/latex": [
       "$\\displaystyle 1414.258$"
      ],
      "text/plain": [
       "1414.258"
      ]
     },
     "execution_count": 32,
     "metadata": {},
     "output_type": "execute_result"
    }
   ],
   "source": [
    "# profitt til Bryggeri 13 blir:\n",
    "round((demand_B(qB).subs({qG:Q_equ/2,qB:qB_equ})-10)*(qB_equ.subs({qG:Q_equ/2}))-500,3)"
   ]
  },
  {
   "cell_type": "markdown",
   "id": "ccc6a3cd-6a22-46ef-a78f-0ef41a72fb63",
   "metadata": {},
   "source": [
    "## Gjentatte spill\n",
    "\n",
    "For å se om prissamarbeid vil lønnne seg ved gjentatte spill må vi sammenligne nåverdien av samarbeid (deling av profitt ved monopoltilpasning) med nåverdien ved avvik (profitt ved avvik i en periode og profitt ved Cournot-tilpasning resten av periodene)"
   ]
  },
  {
   "cell_type": "code",
   "execution_count": 1,
   "id": "33dc519f-ffc8-406d-ad83-1f51f3ea7a8d",
   "metadata": {},
   "outputs": [],
   "source": [
    "from sympy import Symbol\n",
    "from sympy.solvers.inequalities import reduce_rational_inequalities"
   ]
  },
  {
   "cell_type": "code",
   "execution_count": 2,
   "id": "92f61765-c3e1-4fee-8ecd-5e2fbc2e4a62",
   "metadata": {},
   "outputs": [],
   "source": [
    "x = Symbol('x', real=True)"
   ]
  },
  {
   "cell_type": "code",
   "execution_count": 3,
   "id": "a43afc2d-cb01-431b-9777-f1d828362b67",
   "metadata": {},
   "outputs": [
    {
     "data": {
      "text/latex": [
       "$\\displaystyle -2 < x$"
      ],
      "text/plain": [
       "-2 < x"
      ]
     },
     "execution_count": 3,
     "metadata": {},
     "output_type": "execute_result"
    }
   ],
   "source": [
    "reduce_rational_inequalities([[x + 2 > 0]], x)"
   ]
  },
  {
   "cell_type": "code",
   "execution_count": 4,
   "id": "8dcdb468-9a6a-46a1-b680-99146661eb7e",
   "metadata": {},
   "outputs": [
    {
     "data": {
      "text/latex": [
       "$\\displaystyle 0.529318644557171 < x \\wedge x < 1.0$"
      ],
      "text/plain": [
       "(0.529318644557171 < x) & (x < 1.0)"
      ]
     },
     "execution_count": 4,
     "metadata": {},
     "output_type": "execute_result"
    }
   ],
   "source": [
    "# Nåverdi ved sammarbeid > nåverdi ved avvik - med p=1\n",
    "reduce_rational_inequalities([[1201.6/(1-x) > 1414.258+(x*1012.5)/(1-x)]], x)"
   ]
  },
  {
   "cell_type": "code",
   "execution_count": 5,
   "id": "8b2b2444-bc5e-4559-b39a-4cad3b71791a",
   "metadata": {},
   "outputs": [],
   "source": [
    "r = Symbol('r', real=True)"
   ]
  },
  {
   "cell_type": "code",
   "execution_count": 9,
   "id": "9dba144e-3275-40c4-94b0-5a5dba87a4c5",
   "metadata": {},
   "outputs": [
    {
     "data": {
      "text/latex": [
       "$\\displaystyle -1.0 < r \\wedge r < 0.889252045115339$"
      ],
      "text/plain": [
       "(-1.0 < r) & (r < 0.889252045115339)"
      ]
     },
     "execution_count": 9,
     "metadata": {},
     "output_type": "execute_result"
    }
   ],
   "source": [
    "reduce_rational_inequalities([[1/(1+r) > 0.52931]], r)"
   ]
  },
  {
   "cell_type": "code",
   "execution_count": 10,
   "id": "9aedccae-3b01-4444-a20f-9af35c08c309",
   "metadata": {},
   "outputs": [
    {
     "data": {
      "text/latex": [
       "$\\displaystyle 0.882352941176471 < x \\wedge x < 1.66666666666667$"
      ],
      "text/plain": [
       "(0.882352941176471 < x) & (x < 1.66666666666667)"
      ]
     },
     "execution_count": 10,
     "metadata": {},
     "output_type": "execute_result"
    }
   ],
   "source": [
    "# Nåverdi ved sammarbeid > nåverdi ved avvik - med p=0.6\n",
    "reduce_rational_inequalities([[1800/(1-(0.6*x)) > 2025+((0.6*x)*1600)/(1-(0.6*x))]], x)"
   ]
  },
  {
   "cell_type": "code",
   "execution_count": 11,
   "id": "8079f90f-98e2-4360-aa7f-d38dea4a25e2",
   "metadata": {},
   "outputs": [
    {
     "data": {
      "text/latex": [
       "$\\displaystyle -1.0 < r \\wedge r < 0.133337111123704$"
      ],
      "text/plain": [
       "(-1.0 < r) & (r < 0.133337111123704)"
      ]
     },
     "execution_count": 11,
     "metadata": {},
     "output_type": "execute_result"
    }
   ],
   "source": [
    "reduce_rational_inequalities([[1/(1+r) > 0.88235]], r)"
   ]
  }
 ],
 "metadata": {
  "kernelspec": {
   "display_name": "Python 3 (ipykernel)",
   "language": "python",
   "name": "python3"
  },
  "language_info": {
   "codemirror_mode": {
    "name": "ipython",
    "version": 3
   },
   "file_extension": ".py",
   "mimetype": "text/x-python",
   "name": "python",
   "nbconvert_exporter": "python",
   "pygments_lexer": "ipython3",
   "version": "3.9.18"
  }
 },
 "nbformat": 4,
 "nbformat_minor": 5
}
