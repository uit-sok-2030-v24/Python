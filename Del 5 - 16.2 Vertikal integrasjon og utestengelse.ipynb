{
 "cells": [
  {
   "cell_type": "markdown",
   "id": "503ebf83-bc7d-446b-b3e3-c7a4c9f54b60",
   "metadata": {},
   "source": [
    "# Sok-2030 Næringsøkonomi og konkuransestrategi\n",
    "## Del 5 Relasjoner mellom bedrifter\n",
    "### Vertikale fusjoner \n",
    "\n",
    "Vi antar et marked bestående av to oppstrømsbedrifter, M1 og M2, og to nedstrømsbedrifter, R1 og R2. Invers ettersprøsel er gitt ved: P(Q) = A - B(q1+q2). Oppstrømsbedriftene produserer innsatsfaktor som selges til nedstrømsbedriftene til pris lik w. Oppstrømsbedriftene har marginalkostnader lik c, og nedstrømsbedriften har marginalkostand lik k, pluss innkjøpskostander på w. \n",
    "### To-trinns spill: \n",
    "    Trinn 1: Oppstrømsbedriftene velger optimal pris til nedstrømsbedriftene; w\n",
    "    Trinn 2: Nedstrømsbedriftene velger optimalt kvantum og pris i sluttbrukermarkedet; P\n",
    "    \n",
    "Vi bruker baklengs indukjon og starter med Trinn 2.\n",
    "\n",
    "Anta nå at M1 og R1 fusjonerer, og at den fusjonerte  bedriften ikke ønsker å selge til R2\n",
    "\n"
   ]
  },
  {
   "cell_type": "code",
   "execution_count": 61,
   "id": "ec4cdcb0-ec73-463a-bd7f-300066ab458a",
   "metadata": {},
   "outputs": [],
   "source": [
    "import sympy as sp\n",
    "from sympy import *\n",
    "import numpy as np\n",
    "from matplotlib import pyplot as plt"
   ]
  },
  {
   "cell_type": "code",
   "execution_count": 62,
   "id": "41b20459-9c80-4870-8c44-2bc972ec2103",
   "metadata": {},
   "outputs": [],
   "source": [
    "qMR1, qR2,  qM2,c,k,w, A, B, QR, QM =symbols('q^MR_1 q^R_2 q^M_2 c k w A B Q^R Q^M ', \n",
    "                                          positive=True)"
   ]
  },
  {
   "attachments": {},
   "cell_type": "markdown",
   "id": "68f1a73a-727d-490b-abf1-9f1dc1523f4a",
   "metadata": {},
   "source": [
    "## Trinn 2: Cournot tilpasning for nedstrømsbedriftene \n",
    "\n",
    "Marginalkostnader til den funksjonerte bedriften: c + k \r\n",
    "\n",
    "Marginalkostnad til R2 er w + k, hvor w > c"
   ]
  },
  {
   "cell_type": "code",
   "execution_count": 84,
   "id": "68cb116d-3b70-4cfc-8c3e-381ebeb01188",
   "metadata": {},
   "outputs": [],
   "source": [
    "def demand_1R(qMR1):\n",
    "           return (A-B*qMR1-B*qR2)"
   ]
  },
  {
   "cell_type": "code",
   "execution_count": 64,
   "id": "44f6f431-42b0-48d7-856f-bb9ed615159c",
   "metadata": {},
   "outputs": [],
   "source": [
    "def demand_2R(qR2):\n",
    "           return (A-B*qMR1-B*qR2)"
   ]
  },
  {
   "cell_type": "code",
   "execution_count": 65,
   "id": "f79092f1-71e9-4a3d-bf8a-005a6222fbef",
   "metadata": {},
   "outputs": [],
   "source": [
    "def marginalrevenue_1R(qMR1):\n",
    "    return (A-2*B*qMR1-B*qR2)"
   ]
  },
  {
   "cell_type": "code",
   "execution_count": 66,
   "id": "9065352a-c0f5-41ca-ae02-b8ddd2ef31e0",
   "metadata": {},
   "outputs": [],
   "source": [
    "def marginalrevenue_2R(qR2):\n",
    "    return (A-B*qMR1-2*B*qR2)"
   ]
  },
  {
   "cell_type": "code",
   "execution_count": 67,
   "id": "21f6e52f-a29c-4ed8-be16-62af4863f579",
   "metadata": {},
   "outputs": [
    {
     "data": {
      "text/latex": [
       "$\\displaystyle A - B q^{MR}_{1} - 2 B q^{R}_{2} = k + w$"
      ],
      "text/plain": [
       "Eq(A - B*q^MR_1 - 2*B*q^R_2, k + w)"
      ]
     },
     "execution_count": 67,
     "metadata": {},
     "output_type": "execute_result"
    }
   ],
   "source": [
    "equ_R2 = sp.Eq(marginalrevenue_2R(qR2),w+k)\n",
    "equ_R2"
   ]
  },
  {
   "cell_type": "code",
   "execution_count": 68,
   "id": "bcbdb1c0-c8e1-434c-b8b1-0338d1abb75f",
   "metadata": {},
   "outputs": [
    {
     "data": {
      "text/latex": [
       "$\\displaystyle A - 2 B q^{MR}_{1} - B q^{R}_{2} = c + k$"
      ],
      "text/plain": [
       "Eq(A - 2*B*q^MR_1 - B*q^R_2, c + k)"
      ]
     },
     "execution_count": 68,
     "metadata": {},
     "output_type": "execute_result"
    }
   ],
   "source": [
    "equ_MR1 = sp.Eq(marginalrevenue_1R(qMR1),c+k)\n",
    "equ_MR1"
   ]
  },
  {
   "cell_type": "code",
   "execution_count": 69,
   "id": "7e2bd4af-d3fc-427d-9593-a252b3ee16b2",
   "metadata": {},
   "outputs": [
    {
     "data": {
      "text/latex": [
       "$\\displaystyle \\frac{A - B q^{R}_{2} - c - k}{2 B}$"
      ],
      "text/plain": [
       "(A - B*q^R_2 - c - k)/(2*B)"
      ]
     },
     "execution_count": 69,
     "metadata": {},
     "output_type": "execute_result"
    }
   ],
   "source": [
    "#reaksjonsfunksjon til bedrift 1\n",
    "qMR1_equ = sp.solve(equ_MR1, qMR1)[0]\n",
    "qMR1_equ"
   ]
  },
  {
   "cell_type": "code",
   "execution_count": 70,
   "id": "9069f646-721c-4cd2-8f34-691b346e8934",
   "metadata": {},
   "outputs": [
    {
     "data": {
      "text/latex": [
       "$\\displaystyle \\frac{A - B q^{MR}_{1} - k - w}{2 B}$"
      ],
      "text/plain": [
       "(A - B*q^MR_1 - k - w)/(2*B)"
      ]
     },
     "execution_count": 70,
     "metadata": {},
     "output_type": "execute_result"
    }
   ],
   "source": [
    "#reaksjonsfunksjon til bedrift 2\n",
    "qR2_equ=sp.solve(equ_R2,qR2)[0]\n",
    "qR2_equ"
   ]
  },
  {
   "cell_type": "code",
   "execution_count": 71,
   "id": "70a07980-4723-4f54-8a6c-aad55690c90c",
   "metadata": {},
   "outputs": [
    {
     "data": {
      "text/latex": [
       "$\\displaystyle \\frac{A + c - k - 2 w}{3 B}$"
      ],
      "text/plain": [
       "(A + c - k - 2*w)/(3*B)"
      ]
     },
     "execution_count": 71,
     "metadata": {},
     "output_type": "execute_result"
    }
   ],
   "source": [
    "# setter uttrykk for q1 inn i q2\n",
    "qR2_unresv_eq = qR2_equ.subs(qMR1, qMR1_equ)\n",
    "qR2_opt = sp.solve(sp.Eq(qR2, qR2_unresv_eq), qR2)[0]\n",
    "qR2_opt"
   ]
  },
  {
   "cell_type": "code",
   "execution_count": 72,
   "id": "bb3e1b61-a13f-45f3-94ed-f087d3468aa4",
   "metadata": {},
   "outputs": [
    {
     "data": {
      "text/latex": [
       "$\\displaystyle q^{R}_{2} = \\frac{A + c - k - 2 w}{3 B}$"
      ],
      "text/plain": [
       "Eq(q^R_2, (A + c - k - 2*w)/(3*B))"
      ]
     },
     "execution_count": 72,
     "metadata": {},
     "output_type": "execute_result"
    }
   ],
   "source": [
    "# Kvantum for R2\n",
    "qR2_unresv = sp.Eq(qR2, qR2_opt)\n",
    "qR2_unresv"
   ]
  },
  {
   "cell_type": "code",
   "execution_count": 73,
   "id": "c2348145-c72b-4624-ab63-048e8d5a21af",
   "metadata": {},
   "outputs": [
    {
     "data": {
      "text/latex": [
       "$\\displaystyle \\frac{A - 2 c - k + w}{3 B}$"
      ],
      "text/plain": [
       "(A - 2*c - k + w)/(3*B)"
      ]
     },
     "execution_count": 73,
     "metadata": {},
     "output_type": "execute_result"
    }
   ],
   "source": [
    "# setter uttrykk for q2 inn i q1\n",
    "qMR1_unresv_eq = qMR1_equ.subs(qR2, qR2_equ)\n",
    "qMR1_opt = sp.solve(sp.Eq(qMR1, qMR1_unresv_eq), qMR1)[0]\n",
    "qMR1_opt"
   ]
  },
  {
   "cell_type": "code",
   "execution_count": 74,
   "id": "9868900e-f011-49ca-aa84-a4ad2e030322",
   "metadata": {},
   "outputs": [
    {
     "data": {
      "text/latex": [
       "$\\displaystyle q^{MR}_{1} = \\frac{A - 2 c - k + w}{3 B}$"
      ],
      "text/plain": [
       "Eq(q^MR_1, (A - 2*c - k + w)/(3*B))"
      ]
     },
     "execution_count": 74,
     "metadata": {},
     "output_type": "execute_result"
    }
   ],
   "source": [
    "# Kvantum for MR1\n",
    "qMR1_unresv = sp.Eq(qMR1, qMR1_opt)\n",
    "qMR1_unresv"
   ]
  },
  {
   "cell_type": "code",
   "execution_count": 75,
   "id": "4fc7f174-a24e-4941-8a02-26d045a74689",
   "metadata": {},
   "outputs": [
    {
     "data": {
      "text/latex": [
       "$\\displaystyle \\frac{A}{2} - \\frac{3 B q^{R}_{2}}{2} + \\frac{c}{2} - \\frac{k}{2}$"
      ],
      "text/plain": [
       "A/2 - 3*B*q^R_2/2 + c/2 - k/2"
      ]
     },
     "execution_count": 75,
     "metadata": {},
     "output_type": "execute_result"
    }
   ],
   "source": [
    "# Invers etterspørsel til M2 vil være lik optimalt kvantum til R2\n",
    "w_equ = sp.solve(qR2_unresv, w)[0]\n",
    "w_equ"
   ]
  },
  {
   "cell_type": "code",
   "execution_count": 76,
   "id": "1431c464-6c92-4272-ac09-35e55dc9ae31",
   "metadata": {},
   "outputs": [
    {
     "data": {
      "text/latex": [
       "$\\displaystyle w = \\frac{A}{2} - \\frac{3 B q^{R}_{2}}{2} + \\frac{c}{2} - \\frac{k}{2}$"
      ],
      "text/plain": [
       "Eq(w, A/2 - 3*B*q^R_2/2 + c/2 - k/2)"
      ]
     },
     "execution_count": 76,
     "metadata": {},
     "output_type": "execute_result"
    }
   ],
   "source": [
    "# Invers etterspørsel til M2\n",
    "w_unresv = sp.Eq(w, w_equ)\n",
    "w_unresv"
   ]
  },
  {
   "cell_type": "markdown",
   "id": "6d490091-2576-46da-b1b9-5691a60eb64a",
   "metadata": {},
   "source": [
    "### Monopoltiplasning for M2"
   ]
  },
  {
   "cell_type": "code",
   "execution_count": 86,
   "id": "8a882cd0-9aba-4d6b-aa45-48444e34b109",
   "metadata": {},
   "outputs": [],
   "source": [
    "def demand_2M(qM2):\n",
    "           return (A-k+c-(3*B*(qM2)/2))"
   ]
  },
  {
   "cell_type": "code",
   "execution_count": 77,
   "id": "88eeff3d-025c-4720-95bf-0c71a7825df9",
   "metadata": {},
   "outputs": [],
   "source": [
    "def marginalrevenue_2M(qM2):\n",
    "    return ((A-k+c)/2-3*B*qM2)"
   ]
  },
  {
   "cell_type": "code",
   "execution_count": 78,
   "id": "f9a52f46-7634-4efa-a027-fb0119e58348",
   "metadata": {},
   "outputs": [
    {
     "data": {
      "text/latex": [
       "$\\displaystyle \\frac{A}{2} - 3 B q^{M}_{2} + \\frac{c}{2} - \\frac{k}{2} = c$"
      ],
      "text/plain": [
       "Eq(A/2 - 3*B*q^M_2 + c/2 - k/2, c)"
      ]
     },
     "execution_count": 78,
     "metadata": {},
     "output_type": "execute_result"
    }
   ],
   "source": [
    "qM2_equ=sp.Eq(marginalrevenue_2M(qM2),c)\n",
    "qM2_equ"
   ]
  },
  {
   "cell_type": "code",
   "execution_count": 79,
   "id": "43afe208-f22d-4c59-b1d3-15d4792c1519",
   "metadata": {},
   "outputs": [
    {
     "data": {
      "text/latex": [
       "$\\displaystyle \\frac{A - c - k}{6 B}$"
      ],
      "text/plain": [
       "(A - c - k)/(6*B)"
      ]
     },
     "execution_count": 79,
     "metadata": {},
     "output_type": "execute_result"
    }
   ],
   "source": [
    "# optimalt kvantum på trinn 2 for M2:\n",
    "qM2_equ=sp.solve(qM2_equ,qM2)[0]\n",
    "qM2_equ"
   ]
  },
  {
   "cell_type": "code",
   "execution_count": 80,
   "id": "28ca9028-e52f-4615-a122-d3cad13452d1",
   "metadata": {},
   "outputs": [
    {
     "data": {
      "text/latex": [
       "$\\displaystyle A = - 3 c + k + 4 w$"
      ],
      "text/plain": [
       "Eq(A, -3*c + k + 4*w)"
      ]
     },
     "execution_count": 80,
     "metadata": {},
     "output_type": "execute_result"
    }
   ],
   "source": [
    "# For å finne pris til nedstømsberiften setter vi inn etterspørselsfunskjonen, som er w = (a-k+c)/2-3B/2*qR2 \n",
    "w_opt=w_unresv.subs({qR2:qM2_equ})\n",
    "sp.simplify(w_opt)"
   ]
  },
  {
   "cell_type": "code",
   "execution_count": 81,
   "id": "c289f160-49a1-4dda-b8f3-6ad0ddc1217e",
   "metadata": {},
   "outputs": [
    {
     "data": {
      "text/latex": [
       "$\\displaystyle \\frac{A}{4} + \\frac{3 c}{4} - \\frac{k}{4}$"
      ],
      "text/plain": [
       "A/4 + 3*c/4 - k/4"
      ]
     },
     "execution_count": 81,
     "metadata": {},
     "output_type": "execute_result"
    }
   ],
   "source": [
    "# Pris på innsatsfaktor til R2\n",
    "w_equ = sp.solve(w_opt, w)[0]\n",
    "w_equ"
   ]
  },
  {
   "cell_type": "code",
   "execution_count": 82,
   "id": "b8fcb763-3037-4e7d-b812-29a4b01e4bcd",
   "metadata": {},
   "outputs": [
    {
     "data": {
      "text/latex": [
       "$\\displaystyle \\frac{5 \\left(A - c - k\\right)}{12 B}$"
      ],
      "text/plain": [
       "5*(A - c - k)/(12*B)"
      ]
     },
     "execution_count": 82,
     "metadata": {},
     "output_type": "execute_result"
    }
   ],
   "source": [
    "# Optimalt kvantum for den vertikalt integrete bedriften: \n",
    "qMR1_opt1=qMR1_opt.subs({w:w_equ})\n",
    "sp.simplify(qMR1_opt1)"
   ]
  },
  {
   "cell_type": "code",
   "execution_count": 85,
   "id": "24c5a9b6-a653-4c95-ad11-47d4f6e665ec",
   "metadata": {},
   "outputs": [
    {
     "data": {
      "text/latex": [
       "$\\displaystyle \\frac{5 A}{12} + \\frac{7 c}{12} + \\frac{7 k}{12}$"
      ],
      "text/plain": [
       "5*A/12 + 7*c/12 + 7*k/12"
      ]
     },
     "execution_count": 85,
     "metadata": {},
     "output_type": "execute_result"
    }
   ],
   "source": [
    "# Optimal pris til sluttbruker\n",
    "demand_1R(qMR1).subs({qMR1:qMR1_opt1,qR2:qM2_equ})"
   ]
  },
  {
   "cell_type": "code",
   "execution_count": 91,
   "id": "9f2efc25-c83f-4316-9fe1-8219ffa9472b",
   "metadata": {},
   "outputs": [
    {
     "data": {
      "text/latex": [
       "$\\displaystyle \\frac{25 \\left(- A + c + k\\right)^{2}}{144 B}$"
      ],
      "text/plain": [
       "25*(-A + c + k)**2/(144*B)"
      ]
     },
     "execution_count": 91,
     "metadata": {},
     "output_type": "execute_result"
    }
   ],
   "source": [
    "# Profitt til MR1 er lik (p-k-c)qRM1:\n",
    "def profitt(qMR1):\n",
    "    return (demand_1R(qMR1).subs({qMR1:qMR1_opt1,qR2:qM2_equ})-k-c)*qMR1_opt1\n",
    "\n",
    "sp.simplify(profitt(qMR1))\n"
   ]
  },
  {
   "cell_type": "code",
   "execution_count": 101,
   "id": "20ea4561-6c1b-4f7f-b189-bd5dd61aedb6",
   "metadata": {},
   "outputs": [
    {
     "data": {
      "text/latex": [
       "$\\displaystyle \\frac{\\left(- A + c + k\\right)^{2}}{36 B}$"
      ],
      "text/plain": [
       "(-A + c + k)**2/(36*B)"
      ]
     },
     "execution_count": 101,
     "metadata": {},
     "output_type": "execute_result"
    }
   ],
   "source": [
    "# Profitt til R2 er lik (p-k-w)qM2:\n",
    "def profitt(qR2):\n",
    "    return (demand_1R(qMR1).subs({qMR1:qMR1_opt1,qR2:qM2_equ})-k-w.subs({w:w_equ}))*qM2_equ\n",
    "\n",
    "sp.simplify(profitt(qR2))\n"
   ]
  },
  {
   "cell_type": "code",
   "execution_count": 98,
   "id": "44c915b5-651b-47cf-a5a0-2df8f3d442a3",
   "metadata": {},
   "outputs": [
    {
     "data": {
      "text/latex": [
       "$\\displaystyle \\frac{\\left(- A + c + k\\right)^{2}}{24 B}$"
      ],
      "text/plain": [
       "(-A + c + k)**2/(24*B)"
      ]
     },
     "execution_count": 98,
     "metadata": {},
     "output_type": "execute_result"
    }
   ],
   "source": [
    "# Profitt til M2 er lik (w-c)qM2:\n",
    "def profitt(qM2):\n",
    "    return (w_equ-c)*qM2_equ\n",
    "\n",
    "sp.simplify(profitt(qM2))"
   ]
  }
 ],
 "metadata": {
  "kernelspec": {
   "display_name": "Python 3 (ipykernel)",
   "language": "python",
   "name": "python3"
  },
  "language_info": {
   "codemirror_mode": {
    "name": "ipython",
    "version": 3
   },
   "file_extension": ".py",
   "mimetype": "text/x-python",
   "name": "python",
   "nbconvert_exporter": "python",
   "pygments_lexer": "ipython3",
   "version": "3.9.18"
  }
 },
 "nbformat": 4,
 "nbformat_minor": 5
}
