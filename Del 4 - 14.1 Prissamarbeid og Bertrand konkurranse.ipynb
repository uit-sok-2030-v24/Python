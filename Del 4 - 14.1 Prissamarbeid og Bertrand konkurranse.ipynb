{
 "cells": [
  {
   "cell_type": "markdown",
   "id": "2b82514d-bc20-49ef-ac75-67fa679e5ba6",
   "metadata": {},
   "source": [
    "# Sok-2030 Næringsøkonomi og konkuransestrategi\n",
    "## Del 4 Prissamarbeid\n",
    "### Bertrand model og \"fangens dilemma\"\n",
    "\n",
    "For å se om prissamarbeid vil lønnne seg må vi sammenligne ulike markedstilpasninger. Vi vil her se på optimal tilpasning ved monopol og Bertrand konkurranse."
   ]
  },
  {
   "cell_type": "code",
   "execution_count": 1,
   "id": "ec047ee5-8952-4c94-b203-6718e65e6a07",
   "metadata": {},
   "outputs": [],
   "source": [
    "import sympy as sp\n",
    "import numpy as np\n",
    "from matplotlib import pyplot as plt"
   ]
  },
  {
   "cell_type": "code",
   "execution_count": 2,
   "id": "1412a1a2-3ea3-4b67-8e84-dacb5856ceb9",
   "metadata": {},
   "outputs": [],
   "source": [
    "# etterspørsel er lik: P=150-Q\n",
    "def demand(Q):\n",
    "    return 150-Q"
   ]
  },
  {
   "cell_type": "code",
   "execution_count": 4,
   "id": "341730a4-1422-4f85-98be-2f6f3da46217",
   "metadata": {},
   "outputs": [],
   "source": [
    "def marginalrevenue(Q):\n",
    "    return 150-2*Q"
   ]
  },
  {
   "cell_type": "code",
   "execution_count": 5,
   "id": "a51df698-6610-4637-9737-78dcef2a4e53",
   "metadata": {},
   "outputs": [],
   "source": [
    "def marginalcost(Q):\n",
    "    return (30)"
   ]
  },
  {
   "cell_type": "code",
   "execution_count": 6,
   "id": "f44661c6-4545-4d32-a37c-44a6d8e16d29",
   "metadata": {},
   "outputs": [
    {
     "data": {
      "text/latex": [
       "$\\displaystyle 150 - 2 Q = 30$"
      ],
      "text/plain": [
       "Eq(150 - 2*Q, 30)"
      ]
     },
     "execution_count": 6,
     "metadata": {},
     "output_type": "execute_result"
    }
   ],
   "source": [
    "Q=sp.symbols('Q', real=True, positive=True)\n",
    "equ=sp.Eq(marginalrevenue(Q),marginalcost(Q))\n",
    "equ"
   ]
  },
  {
   "cell_type": "code",
   "execution_count": 7,
   "id": "197f7bdb-c8ca-4d70-a786-49c2ccd1689d",
   "metadata": {},
   "outputs": [
    {
     "data": {
      "text/latex": [
       "$\\displaystyle 60$"
      ],
      "text/plain": [
       "60"
      ]
     },
     "execution_count": 7,
     "metadata": {},
     "output_type": "execute_result"
    }
   ],
   "source": [
    "# Optimalt kvantum\n",
    "Q_equ=sp.solve(equ,Q)[0]\n",
    "Q_equ"
   ]
  },
  {
   "cell_type": "code",
   "execution_count": 8,
   "id": "cbc38f70-90da-4413-beb9-c85dc46905e6",
   "metadata": {},
   "outputs": [
    {
     "data": {
      "text/latex": [
       "$\\displaystyle 90$"
      ],
      "text/plain": [
       "90"
      ]
     },
     "execution_count": 8,
     "metadata": {},
     "output_type": "execute_result"
    }
   ],
   "source": [
    "# Optimal pris\n",
    "p_eq=demand(Q_equ)\n",
    "p_eq"
   ]
  },
  {
   "cell_type": "code",
   "execution_count": 9,
   "id": "995b3b25-2a39-445d-8d26-c07851da787f",
   "metadata": {},
   "outputs": [
    {
     "name": "stdout",
     "output_type": "stream",
     "text": [
      "3600\n"
     ]
    }
   ],
   "source": [
    "# profitt \n",
    "def profitt(Q):\n",
    "    return (p_eq-marginalcost(Q))*Q\n",
    "print (profitt(Q_equ))"
   ]
  },
  {
   "cell_type": "code",
   "execution_count": null,
   "id": "7f60f837-5133-47f6-9417-f0a4d59612c4",
   "metadata": {},
   "outputs": [],
   "source": []
  }
 ],
 "metadata": {
  "kernelspec": {
   "display_name": "Python 3 (ipykernel)",
   "language": "python",
   "name": "python3"
  },
  "language_info": {
   "codemirror_mode": {
    "name": "ipython",
    "version": 3
   },
   "file_extension": ".py",
   "mimetype": "text/x-python",
   "name": "python",
   "nbconvert_exporter": "python",
   "pygments_lexer": "ipython3",
   "version": "3.9.18"
  }
 },
 "nbformat": 4,
 "nbformat_minor": 5
}
