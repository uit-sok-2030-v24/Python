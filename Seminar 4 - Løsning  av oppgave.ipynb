{
 "cells": [
  {
   "cell_type": "markdown",
   "id": "7a156b0d-18ef-44ef-b692-f55c85cbd657",
   "metadata": {
    "tags": []
   },
   "source": [
    "## Seminar 3 - Cournot modell\n",
    "Oppgave 1: \n",
    "    I markedet for mikroøl har vi to bryggerier i Tromsø, Graff Brygghus og Bryggeri 13. I produksjon av øl velger bedriftene produksjonsvolum i god tid før produktene er på markedet. Etterspørselen i markedet er gitt ved:\n",
    "\tP = 175 – 2Q\n",
    "hvor P er markedspris for mikroøl per flaske, Q er totalt kvantum (antall tusen flasker) og Q = qG + qB, der qG er produsert kvantum for Graff Brygghus og qB er produsert kvantum for Bryggeri 13. I produksjon av mikroøl vil Graff Brygghus og Bryggeri 13 ha konstante marginalkostnader på kr 10 per flaske, og begge bedriftene har årlige faste kostnader på kr 500 000.\n",
    "a)\tHvor mye mikroøl vil det være optimalt for bryggeriene å produsere, og hva blir markedsprisen? \n",
    "\n",
    "Graff Brygghus vurderer å investere i en ny og effektiv tappelinje som vil gi dem reduserte marginalkostnader. Investeringen vil koste bedriften kr 100.000, og vil gi dem marginalkostnad på kr 7 per flaske.\n",
    "b)\tVil du anbefale Graff Brygghus å gjennomføre denne investeringen?\n",
    "\n"
   ]
  },
  {
   "cell_type": "code",
   "execution_count": 18,
   "id": "d16286f3-ebdd-4647-bcd9-afdeaaf62013",
   "metadata": {},
   "outputs": [],
   "source": [
    "import sympy as sp\n",
    "from sympy.solvers import solve\n",
    "from sympy import *\n",
    "import numpy as np\n",
    "from matplotlib import pyplot as plt"
   ]
  },
  {
   "cell_type": "code",
   "execution_count": 89,
   "id": "553be09b-4b07-4b32-92b9-55202bbbfd5f",
   "metadata": {},
   "outputs": [],
   "source": [
    "# I a) har vi symmetirske bedrifer hvor løsningen blir qG = qB = q*\n",
    "def demand(qG,qB):\n",
    "    return (175-2*qG-2*qB)"
   ]
  },
  {
   "cell_type": "code",
   "execution_count": 90,
   "id": "90166d95-62f4-4659-a68a-5518cfbfb831",
   "metadata": {},
   "outputs": [],
   "source": [
    "def marginalrevenue_G(qG):\n",
    "    return (175-4*qG-2*qB)"
   ]
  },
  {
   "cell_type": "code",
   "execution_count": 91,
   "id": "a6135faf-5954-4795-89bc-d7d1d4d95299",
   "metadata": {},
   "outputs": [],
   "source": [
    "def marginalrevenue_B(qB):\n",
    "    return (175-4*qB-2*qG)"
   ]
  },
  {
   "cell_type": "code",
   "execution_count": 92,
   "id": "74a63d37-d038-409b-b371-066dd44ac73e",
   "metadata": {},
   "outputs": [
    {
     "data": {
      "text/latex": [
       "$\\displaystyle - 4 qB - 2 qG + 175 = 10$"
      ],
      "text/plain": [
       "Eq(-4*qB - 2*qG + 175, 10)"
      ]
     },
     "execution_count": 92,
     "metadata": {},
     "output_type": "execute_result"
    }
   ],
   "source": [
    "# marginalkostnaden for begge bedriftene er lik 10 \n",
    "qB=sp.symbols('qB', real=True, positive=True)\n",
    "qG=sp.symbols('qG', real=True, positive=True)\n",
    "equ=sp.Eq(marginalrevenue_B(qB),10)\n",
    "equ"
   ]
  },
  {
   "cell_type": "code",
   "execution_count": 93,
   "id": "0d9663da-7d59-44e2-9629-dfd4f6662c05",
   "metadata": {},
   "outputs": [
    {
     "data": {
      "text/latex": [
       "$\\displaystyle \\frac{165}{4} - \\frac{qG}{2}$"
      ],
      "text/plain": [
       "165/4 - qG/2"
      ]
     },
     "execution_count": 93,
     "metadata": {},
     "output_type": "execute_result"
    }
   ],
   "source": [
    "#reaksjonsfunksjon til Bryggeri 13\n",
    "qB_equ=sp.solve(equ,qB)[0]\n",
    "qB_equ"
   ]
  },
  {
   "cell_type": "code",
   "execution_count": 94,
   "id": "f9ed2933-5e73-4026-bf0b-10d9ff12421a",
   "metadata": {},
   "outputs": [
    {
     "data": {
      "text/latex": [
       "$\\displaystyle - 2 qB - 4 qG + 175 = 10$"
      ],
      "text/plain": [
       "Eq(-2*qB - 4*qG + 175, 10)"
      ]
     },
     "execution_count": 94,
     "metadata": {},
     "output_type": "execute_result"
    }
   ],
   "source": [
    "qG=sp.symbols('qG', real=True, positive=True)\n",
    "equ=sp.Eq(marginalrevenue_G(qG),10)\n",
    "equ"
   ]
  },
  {
   "cell_type": "code",
   "execution_count": 95,
   "id": "d40cd3b0-b5ad-4075-ba51-df6fcf91ca6e",
   "metadata": {},
   "outputs": [
    {
     "data": {
      "text/latex": [
       "$\\displaystyle \\frac{165}{4} - \\frac{qB}{2}$"
      ],
      "text/plain": [
       "165/4 - qB/2"
      ]
     },
     "execution_count": 95,
     "metadata": {},
     "output_type": "execute_result"
    }
   ],
   "source": [
    "#reaksjonsfunksjon til Graff bryggerier\n",
    "qG_equ=sp.solve(equ,qG)[0]\n",
    "qG_equ"
   ]
  },
  {
   "cell_type": "markdown",
   "id": "d8191aa6-3773-4dd1-b9bf-6948e15fe485",
   "metadata": {},
   "source": [
    "### a) Optimal kvantum og pris for Graff Brygghus og Bryggeri 13 blir:"
   ]
  },
  {
   "cell_type": "code",
   "execution_count": 96,
   "id": "8681ebf2-9263-4999-a887-0d1a2cd2f74b",
   "metadata": {},
   "outputs": [],
   "source": [
    "# finner uttrykk for qG og qB\n",
    "qG_eq = sp.solve(sp.Eq(marginalrevenue_G(qG), 10), qG)[0]\n",
    "qB_eq = sp.solve(sp.Eq(marginalrevenue_B(qB), 10), qB)[0]\n",
    "\n",
    "# setter uttrykk for qG inn i qB\n",
    "qB_unresv_eq = qB_eq.subs(qG, qG_eq)\n",
    "\n",
    "# setter uttrykk for qB inn i qG\n",
    "qG_unresv_eq = qG_eq.subs(qB, qB_eq)"
   ]
  },
  {
   "cell_type": "code",
   "execution_count": 97,
   "id": "8ab26604-da66-4ead-bd83-27f73e3c34d7",
   "metadata": {},
   "outputs": [
    {
     "data": {
      "text/latex": [
       "$\\displaystyle 27.5$"
      ],
      "text/plain": [
       "27.50"
      ]
     },
     "execution_count": 97,
     "metadata": {},
     "output_type": "execute_result"
    }
   ],
   "source": [
    "# Løser qB og finner optimalt kvantum for Bryggeri 13\n",
    "qB_equ=sp.solve(sp.Eq(qB_unresv_eq, qB), qB)[0]\n",
    "qB_equ\n",
    "round(qB_equ,2)"
   ]
  },
  {
   "cell_type": "code",
   "execution_count": 98,
   "id": "5136dfdd-d749-46f4-8df6-9bbec38ae1dc",
   "metadata": {},
   "outputs": [
    {
     "data": {
      "text/latex": [
       "$\\displaystyle 27.5$"
      ],
      "text/plain": [
       "27.50"
      ]
     },
     "execution_count": 98,
     "metadata": {},
     "output_type": "execute_result"
    }
   ],
   "source": [
    "# Løser qG og finner optimalt kvantum Graff Bryggerier\n",
    "qG_equ=sp.solve(sp.Eq(qG_unresv_eq, qG), qG)[0]\n",
    "qG_equ\n",
    "round(qG_equ,2)"
   ]
  },
  {
   "cell_type": "code",
   "execution_count": 99,
   "id": "d62c29f1-4968-43b9-a736-3a9d6c77bf20",
   "metadata": {},
   "outputs": [
    {
     "data": {
      "text/latex": [
       "$\\displaystyle 65$"
      ],
      "text/plain": [
       "65"
      ]
     },
     "execution_count": 99,
     "metadata": {},
     "output_type": "execute_result"
    }
   ],
   "source": [
    "# Optimal pris:\n",
    "demand(qG,qB).subs({qG:qG_equ,qB:qB_equ})"
   ]
  },
  {
   "cell_type": "code",
   "execution_count": 118,
   "id": "74094ad4-650f-48ee-a438-3ab11d873322",
   "metadata": {},
   "outputs": [
    {
     "data": {
      "text/latex": [
       "$\\displaystyle 1012.5$"
      ],
      "text/plain": [
       "1012.50"
      ]
     },
     "execution_count": 118,
     "metadata": {},
     "output_type": "execute_result"
    }
   ],
   "source": [
    "# Profitt for bryggeriene er lik (P-c)q - 500 000, hvor q er lik 27 500\n",
    "def profitt(q1):\n",
    "    return (demand(qB,qG).subs({qB:qB_equ,qG:qG_equ})-10)*qG_equ-500\n",
    "round(profitt(qG),2)"
   ]
  },
  {
   "cell_type": "markdown",
   "id": "85a5d514-e3a3-41f8-8f29-4e13af83646c",
   "metadata": {},
   "source": [
    "### b) Optimal kvantum og pris for Graff Brygghus og Bryggeri 13 blir:"
   ]
  },
  {
   "cell_type": "markdown",
   "id": "6b6a73a9-890d-4620-9b0c-178a83359738",
   "metadata": {},
   "source": [
    "Ved å investere i ny tappelinje vil marginalkostnader for Graff Brygghus nå være på kr 7\n",
    "per flaske og for Bryggeri 13 er den på kr 10 per flaske. Bedriftene tilpasser seg simultant,\n",
    "hvor vi finner reaksjonsfunksjonene til hver av bedriftene. "
   ]
  },
  {
   "cell_type": "code",
   "execution_count": 101,
   "id": "05561db4-7b4d-4478-8ab8-cc4ae5cdad48",
   "metadata": {},
   "outputs": [
    {
     "data": {
      "text/latex": [
       "$\\displaystyle \\frac{165}{4} - \\frac{qG}{2}$"
      ],
      "text/plain": [
       "165/4 - qG/2"
      ]
     },
     "execution_count": 101,
     "metadata": {},
     "output_type": "execute_result"
    }
   ],
   "source": [
    "# Reaksjonsfunskjon til Bryggeri 13, med marginalkostnader lik 10:\n",
    "qB_eq2 = sp.solve(sp.Eq(marginalrevenue_B(qB), 10), qB)[0]\n",
    "\n",
    "qB_eq2"
   ]
  },
  {
   "cell_type": "code",
   "execution_count": 102,
   "id": "9088ede3-9437-4947-ab3f-fabae43f80a2",
   "metadata": {
    "scrolled": true
   },
   "outputs": [
    {
     "data": {
      "text/latex": [
       "$\\displaystyle 42 - \\frac{qB}{2}$"
      ],
      "text/plain": [
       "42 - qB/2"
      ]
     },
     "execution_count": 102,
     "metadata": {},
     "output_type": "execute_result"
    }
   ],
   "source": [
    "# Reaksjonsfunskjon til Graff Bryggerer, med marginalkostnader lik 7:\n",
    "qG_eq2 = sp.solve(sp.Eq(marginalrevenue_G(qG), 7), qG)[0]\n",
    "qG_eq2"
   ]
  },
  {
   "cell_type": "code",
   "execution_count": 103,
   "id": "9b2cb5d0-875c-4590-b613-b3eabbb17007",
   "metadata": {},
   "outputs": [],
   "source": [
    "# setter uttrykk for qG inn i qB\n",
    "qB_unresv_eq2 = qB_eq2.subs(qG, qG_eq2)\n",
    "\n",
    "# setter uttrykk for qB inn i qG\n",
    "qG_unresv_eq2 = qG_eq2.subs(qB, qB_eq2)"
   ]
  },
  {
   "cell_type": "code",
   "execution_count": 104,
   "id": "5750b31e-0687-4a28-8794-a1513abf2da1",
   "metadata": {},
   "outputs": [
    {
     "data": {
      "text/latex": [
       "$\\displaystyle 27$"
      ],
      "text/plain": [
       "27"
      ]
     },
     "execution_count": 104,
     "metadata": {},
     "output_type": "execute_result"
    }
   ],
   "source": [
    "# Løser qB og finner optimalt kvantum for Bryggeri 13\n",
    "qB_equ2=sp.solve(sp.Eq(qB_unresv_eq2, qB), qB)[0]\n",
    "qB_equ2\n",
    "round(qB_equ2,2)"
   ]
  },
  {
   "cell_type": "code",
   "execution_count": 105,
   "id": "bd8c198b-141d-4820-a115-fd885eb36b0f",
   "metadata": {},
   "outputs": [
    {
     "data": {
      "text/latex": [
       "$\\displaystyle 28.5$"
      ],
      "text/plain": [
       "28.50"
      ]
     },
     "execution_count": 105,
     "metadata": {},
     "output_type": "execute_result"
    }
   ],
   "source": [
    "# Løser qG og finner optimalt kvantum Graff Bryggerier\n",
    "qG_equ2=sp.solve(sp.Eq(qG_unresv_eq2, qG), qG)[0]\n",
    "qG_equ2\n",
    "round(qG_equ2,2)"
   ]
  },
  {
   "cell_type": "code",
   "execution_count": 106,
   "id": "3a6a686e-f377-4bb8-aa6c-92f2104d2c8f",
   "metadata": {},
   "outputs": [
    {
     "data": {
      "text/latex": [
       "$\\displaystyle 64$"
      ],
      "text/plain": [
       "64"
      ]
     },
     "execution_count": 106,
     "metadata": {},
     "output_type": "execute_result"
    }
   ],
   "source": [
    "# optimal markedspris\n",
    "demand(qG,qB).subs({qB:qB_equ2,qG:qG_equ2})"
   ]
  },
  {
   "cell_type": "code",
   "execution_count": 52,
   "id": "cfde6693-587c-4678-b34b-40244ff975da",
   "metadata": {},
   "outputs": [
    {
     "name": "stdout",
     "output_type": "stream",
     "text": [
      "1124500\n"
     ]
    }
   ],
   "source": [
    "# profitt Graff Brygghus\n",
    "print ((64-7)*28500-500000)"
   ]
  },
  {
   "cell_type": "code",
   "execution_count": 115,
   "id": "38c06b30-1e29-4b9b-87b4-28bca8dcc48f",
   "metadata": {},
   "outputs": [
    {
     "data": {
      "text/latex": [
       "$\\displaystyle 958$"
      ],
      "text/plain": [
       "958"
      ]
     },
     "execution_count": 115,
     "metadata": {},
     "output_type": "execute_result"
    }
   ],
   "source": [
    "# Profitt for Bryggeri 13 er lik (P-c)q - 500 000, hvor q er lik 27 000\n",
    "def profitt(qB):\n",
    "    return (demand(qB,qG).subs({qB:qB_equ2,qG:qG_equ2})-10)*qB_equ2-500\n",
    "round(profitt(qB),2)"
   ]
  },
  {
   "cell_type": "code",
   "execution_count": 116,
   "id": "a1c5e261-ecb1-462b-b5c2-583fd5a5f780",
   "metadata": {},
   "outputs": [
    {
     "data": {
      "text/latex": [
       "$\\displaystyle 1124.5$"
      ],
      "text/plain": [
       "1124.50"
      ]
     },
     "execution_count": 116,
     "metadata": {},
     "output_type": "execute_result"
    }
   ],
   "source": [
    "# Profitt for Graff Brygghus er lik (P-c)q - 500 000, hvor q er lik 28 500\n",
    "def profitt(qG):\n",
    "    return (demand(qB,qG).subs({qB:qB_equ2,qG:qG_equ2})-7)*qG_equ2-500\n",
    "round(profitt(qG),2)"
   ]
  },
  {
   "cell_type": "code",
   "execution_count": 66,
   "id": "d05404ac-04a0-47e1-93a4-d57be4f74087",
   "metadata": {},
   "outputs": [
    {
     "name": "stdout",
     "output_type": "stream",
     "text": [
      "112000\n"
     ]
    }
   ],
   "source": [
    "# Vil du anbefale Graff Brygghus å gjennomføre denne investeringen?\n",
    "# vi må da se på profitt før investering sammenlignet med profitten etter investering\n",
    "print (1124500-(1012500))"
   ]
  }
 ],
 "metadata": {
  "kernelspec": {
   "display_name": "Python 3 (ipykernel)",
   "language": "python",
   "name": "python3"
  },
  "language_info": {
   "codemirror_mode": {
    "name": "ipython",
    "version": 3
   },
   "file_extension": ".py",
   "mimetype": "text/x-python",
   "name": "python",
   "nbconvert_exporter": "python",
   "pygments_lexer": "ipython3",
   "version": "3.9.18"
  }
 },
 "nbformat": 4,
 "nbformat_minor": 5
}
