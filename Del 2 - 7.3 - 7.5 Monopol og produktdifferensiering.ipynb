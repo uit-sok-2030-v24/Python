{
 "cells": [
  {
   "cell_type": "markdown",
   "id": "be283104-b5f3-4426-bd9e-4ccec12766c7",
   "metadata": {},
   "source": [
    "# Sok-2030 Næringsøkonomi og konkuransestrategi\n",
    "## Del 2 Monopol og produktdifferensiering\n",
    "### 7.3 Optimalt valg av antall salgssteder\n"
   ]
  },
  {
   "cell_type": "code",
   "execution_count": 2,
   "id": "1aec66cd-319a-4a53-83e3-8102a569e331",
   "metadata": {},
   "outputs": [],
   "source": [
    "from sympy import *\n",
    "import sympy as sp\n",
    "from matplotlib import pyplot as plt\n",
    "import numpy as np"
   ]
  },
  {
   "cell_type": "code",
   "execution_count": 3,
   "id": "aaf958f7-4532-45a3-90c9-f87eea71d56f",
   "metadata": {},
   "outputs": [],
   "source": [
    "V, t,n,c, F,N=symbols('V t n c F N')"
   ]
  },
  {
   "cell_type": "markdown",
   "id": "9f2a6c41-b730-4a10-920d-3bd6dc4e3e2a",
   "metadata": {},
   "source": [
    "Profitten ved N kunder og n utsalgsteder er lik (V-t/2n-c)N-nF"
   ]
  },
  {
   "cell_type": "code",
   "execution_count": 4,
   "id": "7da365b2-0a9e-4ca2-9a30-c1cf2f3e0eff",
   "metadata": {},
   "outputs": [
    {
     "data": {
      "text/latex": [
       "$\\displaystyle - F n + N \\left(V - c - \\frac{t}{2 n}\\right)$"
      ],
      "text/plain": [
       "-F*n + N*(V - c - t/(2*n))"
      ]
     },
     "execution_count": 4,
     "metadata": {},
     "output_type": "execute_result"
    }
   ],
   "source": [
    "def profit(V,t,c,n,F,N):\n",
    "    return (V-(t/(2*n))-c)*N-n*F\n",
    "profit(V,t,c,n,F,N)"
   ]
  },
  {
   "cell_type": "markdown",
   "id": "80480fa3-3702-417c-ba0a-11653b3507ea",
   "metadata": {},
   "source": [
    "For å finne optimalt antall utsalgsteder så deriverer vi profittfunksjonen med hensyn på n"
   ]
  },
  {
   "cell_type": "code",
   "execution_count": 5,
   "id": "4b45b08b-4a0d-4061-a489-dd06b83ae4ef",
   "metadata": {},
   "outputs": [
    {
     "data": {
      "text/latex": [
       "$\\displaystyle - F + \\frac{N t}{2 n^{2}}$"
      ],
      "text/plain": [
       "-F + N*t/(2*n**2)"
      ]
     },
     "metadata": {},
     "output_type": "display_data"
    }
   ],
   "source": [
    "d_profit=sp.diff(profit(V,t,c,n,F,N),n)\n",
    "\n",
    "display(d_profit)"
   ]
  },
  {
   "cell_type": "markdown",
   "id": "771275ab-ab25-4df4-b6e8-6b70c2c7b32d",
   "metadata": {},
   "source": [
    "Setter den derivert lik 0, og finner optimalt nivå på antall utsalgsteder (n)"
   ]
  },
  {
   "cell_type": "code",
   "execution_count": 6,
   "id": "dbb1eff7-45b5-441d-bd07-35fd5d4a2cb2",
   "metadata": {},
   "outputs": [
    {
     "data": {
      "text/latex": [
       "$\\displaystyle - F + \\frac{N t}{2 n^{2}} = 0$"
      ],
      "text/plain": [
       "Eq(-F + N*t/(2*n**2), 0)"
      ]
     },
     "execution_count": 6,
     "metadata": {},
     "output_type": "execute_result"
    }
   ],
   "source": [
    "foc=sp.Eq(d_profit,0)\n",
    "foc"
   ]
  },
  {
   "cell_type": "code",
   "execution_count": 7,
   "id": "62b1936f-200c-4bc2-b8bc-5cb43d287091",
   "metadata": {},
   "outputs": [
    {
     "data": {
      "text/latex": [
       "$\\displaystyle \\frac{\\sqrt{2} \\sqrt{\\frac{N t}{F}}}{2}$"
      ],
      "text/plain": [
       "sqrt(2)*sqrt(N*t/F)/2"
      ]
     },
     "execution_count": 7,
     "metadata": {},
     "output_type": "execute_result"
    }
   ],
   "source": [
    "from sympy.solvers import solve\n",
    "n_max=solve(foc,n)[1]\n",
    "n_max"
   ]
  },
  {
   "cell_type": "code",
   "execution_count": 9,
   "id": "e8cc1624-b435-4c14-96d8-f3485ad1dabd",
   "metadata": {},
   "outputs": [],
   "source": [
    "num_dict={N:5000000,F:50000,t:1}"
   ]
  },
  {
   "cell_type": "code",
   "execution_count": 10,
   "id": "1beec2ea-f2b4-4310-b319-424f8ad99233",
   "metadata": {},
   "outputs": [
    {
     "data": {
      "text/latex": [
       "$\\displaystyle 5 \\sqrt{2}$"
      ],
      "text/plain": [
       "5*sqrt(2)"
      ]
     },
     "execution_count": 10,
     "metadata": {},
     "output_type": "execute_result"
    }
   ],
   "source": [
    "n_max.subs(num_dict)"
   ]
  },
  {
   "cell_type": "code",
   "execution_count": 11,
   "id": "15659092-f5b6-4f26-8e8d-1fdffd794ad2",
   "metadata": {},
   "outputs": [
    {
     "data": {
      "text/latex": [
       "$\\displaystyle 7.07$"
      ],
      "text/plain": [
       "7.07"
      ]
     },
     "execution_count": 11,
     "metadata": {},
     "output_type": "execute_result"
    }
   ],
   "source": [
    "round(n_max.subs(num_dict),2)"
   ]
  },
  {
   "cell_type": "code",
   "execution_count": null,
   "id": "272ec274-c1bd-43a7-8cbd-a33faa6a40cd",
   "metadata": {},
   "outputs": [],
   "source": [
    "Alternativ måte å kode på derivering på - kode fra SOK 1006 (Derek Clark)"
   ]
  },
  {
   "cell_type": "code",
   "execution_count": 14,
   "id": "2cc2629f-6e9a-46dd-b084-ab85aaaf9c0b",
   "metadata": {},
   "outputs": [
    {
     "data": {
      "text/latex": [
       "$\\displaystyle - F + \\frac{N t}{2 n^{2}} = 0$"
      ],
      "text/plain": [
       "Eq(-F + N*t/(2*n**2), 0)"
      ]
     },
     "execution_count": 14,
     "metadata": {},
     "output_type": "execute_result"
    }
   ],
   "source": [
    "# maksimer mhp n \n",
    "dpi_n=diff(profit(V,t,c,n,F,N),n)\n",
    "foc=Eq(dpi_n,0)\n",
    "foc"
   ]
  },
  {
   "cell_type": "code",
   "execution_count": 8,
   "id": "5e736557-5eca-4f3c-9476-b57dcea5d098",
   "metadata": {},
   "outputs": [
    {
     "data": {
      "text/latex": [
       "$\\displaystyle \\frac{\\sqrt{2} \\sqrt{\\frac{N t}{F}}}{2}$"
      ],
      "text/plain": [
       "sqrt(2)*sqrt(N*t/F)/2"
      ]
     },
     "execution_count": 8,
     "metadata": {},
     "output_type": "execute_result"
    }
   ],
   "source": [
    "n_ks=solve(foc,n)[1]\n",
    "n_ks"
   ]
  },
  {
   "cell_type": "markdown",
   "id": "a0468cf0-98eb-4922-800c-c58f55540d42",
   "metadata": {},
   "source": [
    "## 7.4 Samfunnsøkonomisk optimalt antall utsalg"
   ]
  },
  {
   "cell_type": "markdown",
   "id": "2f41a3b0-3a11-4b42-932d-acf81d0468c5",
   "metadata": {},
   "source": [
    "Sum av transprotkostnad for N kunder og etableringskostnad per utsalg n er lik C(N,n)=TN/4n+nF"
   ]
  },
  {
   "cell_type": "code",
   "execution_count": 31,
   "id": "326e20be-a563-4f35-b9ae-2c1afae61f35",
   "metadata": {},
   "outputs": [
    {
     "data": {
      "text/latex": [
       "$\\displaystyle F n + \\frac{N t}{4 n}$"
      ],
      "text/plain": [
       "F*n + N*t/(4*n)"
      ]
     },
     "execution_count": 31,
     "metadata": {},
     "output_type": "execute_result"
    }
   ],
   "source": [
    "def totalcost(t,n,F,N):\n",
    "    return ((N*t)/(4*n)+n*F)\n",
    "totalcost(t,n,F,N)"
   ]
  },
  {
   "cell_type": "markdown",
   "id": "d910f11a-fb00-459f-a52e-271f919f0e99",
   "metadata": {},
   "source": [
    "For å finne samfunnsoptimalt antall utsalgsteder så deriverer vi \"total cost\" med hensyn på n"
   ]
  },
  {
   "cell_type": "code",
   "execution_count": 44,
   "id": "ccf564b7-5e14-4ee2-b8db-510a0d502072",
   "metadata": {},
   "outputs": [
    {
     "data": {
      "text/latex": [
       "$\\displaystyle F - \\frac{N t}{4 n^{2}}$"
      ],
      "text/plain": [
       "F - N*t/(4*n**2)"
      ]
     },
     "metadata": {},
     "output_type": "display_data"
    }
   ],
   "source": [
    "d_totalcost=sp.diff(totalcost(t,n,F,N),n)\n",
    "\n",
    "display(d_totalcost)"
   ]
  },
  {
   "cell_type": "markdown",
   "id": "85c90066-6d20-4063-b816-44a6fcbaece0",
   "metadata": {},
   "source": [
    "Setter den derivert lik 0, og finner samfunnsøkonomisk optimalt nivå på antall utsalgsteder (n)"
   ]
  },
  {
   "cell_type": "code",
   "execution_count": 45,
   "id": "82fae920-6c6e-4f8b-a326-441fb43eceed",
   "metadata": {},
   "outputs": [
    {
     "data": {
      "text/latex": [
       "$\\displaystyle F - \\frac{N t}{4 n^{2}} = 0$"
      ],
      "text/plain": [
       "Eq(F - N*t/(4*n**2), 0)"
      ]
     },
     "execution_count": 45,
     "metadata": {},
     "output_type": "execute_result"
    }
   ],
   "source": [
    "foc=sp.Eq(d_totalcost,0)\n",
    "foc"
   ]
  },
  {
   "cell_type": "code",
   "execution_count": 12,
   "id": "de1caf23-5e7e-4c2a-9b95-aa7f5e241d60",
   "metadata": {},
   "outputs": [
    {
     "data": {
      "text/latex": [
       "$\\displaystyle \\frac{\\sqrt{2} \\sqrt{\\frac{N t}{F}}}{2}$"
      ],
      "text/plain": [
       "sqrt(2)*sqrt(N*t/F)/2"
      ]
     },
     "execution_count": 12,
     "metadata": {},
     "output_type": "execute_result"
    }
   ],
   "source": [
    "from sympy.solvers import solve\n",
    "n_min=solve(foc,n)[1]\n",
    "n_min\n"
   ]
  },
  {
   "cell_type": "code",
   "execution_count": 13,
   "id": "8340dfd0-ad15-4617-9f8f-07cb95a35da2",
   "metadata": {},
   "outputs": [],
   "source": [
    "num_dict={N:5000000,F:50000,t:1}"
   ]
  },
  {
   "cell_type": "code",
   "execution_count": 14,
   "id": "04a0e343-ecb4-4f38-aa00-d814429de72b",
   "metadata": {},
   "outputs": [
    {
     "data": {
      "text/latex": [
       "$\\displaystyle 5 \\sqrt{2}$"
      ],
      "text/plain": [
       "5*sqrt(2)"
      ]
     },
     "execution_count": 14,
     "metadata": {},
     "output_type": "execute_result"
    }
   ],
   "source": [
    "n_min.subs(num_dict)"
   ]
  },
  {
   "cell_type": "code",
   "execution_count": 15,
   "id": "a913d13d-cee8-45b0-a664-a2493fe69cf0",
   "metadata": {},
   "outputs": [
    {
     "data": {
      "text/latex": [
       "$\\displaystyle 7.07$"
      ],
      "text/plain": [
       "7.07"
      ]
     },
     "execution_count": 15,
     "metadata": {},
     "output_type": "execute_result"
    }
   ],
   "source": [
    "round(n_min.subs(num_dict),2)"
   ]
  },
  {
   "cell_type": "markdown",
   "id": "2e7583f7-bb29-4a30-998e-619775070567",
   "metadata": {},
   "source": [
    "## 7.5 Optimal valg av kvantum og kvalitet"
   ]
  },
  {
   "cell_type": "markdown",
   "id": "9beaffbf-fb77-483c-9c2b-04e586ec521d",
   "metadata": {},
   "source": [
    "Optimalt nivå på kvantum og kvalitet løses ved:\n",
    "    1) først velges optimalt nivå på kvantum \n",
    "    2) deretter velgs optimalt nivå på kvalitet"
   ]
  },
  {
   "cell_type": "markdown",
   "id": "d31761f8-e52a-433b-aa79-bf2118a227a0",
   "metadata": {},
   "source": [
    "Invers etterspørsel: P(Q,Z)=z(50-Q)"
   ]
  },
  {
   "cell_type": "markdown",
   "id": "a97a65f2-dd74-42b4-a924-1554d747f45d",
   "metadata": {},
   "source": [
    "Kostnader: MC=0 og F(Z) = 5z**2\n"
   ]
  },
  {
   "cell_type": "markdown",
   "id": "516748f3-99e6-4831-a2c3-25b5da593157",
   "metadata": {},
   "source": [
    "Profitt: π(Q,Z) = P(Q,Z)Q – F(Z)\n"
   ]
  },
  {
   "cell_type": "markdown",
   "id": "8e632003-eece-4476-8dde-9e96233c92c1",
   "metadata": {},
   "source": [
    "Trinn 1:"
   ]
  },
  {
   "cell_type": "code",
   "execution_count": 7,
   "id": "fca67290-eba1-4a19-9e68-3a921609595a",
   "metadata": {},
   "outputs": [
    {
     "data": {
      "text/latex": [
       "$\\displaystyle - 5 Q^{2} + Q Z \\left(50 - Z\\right)$"
      ],
      "text/plain": [
       "-5*Q**2 + Q*Z*(50 - Z)"
      ]
     },
     "execution_count": 7,
     "metadata": {},
     "output_type": "execute_result"
    }
   ],
   "source": [
    "Z, Q=symbols('Q Z')\n",
    "def profit_Q(Q):\n",
    "    return (Z*(50-Q))*Q-5*Z**2\n",
    "profit_Q(Q)"
   ]
  },
  {
   "cell_type": "markdown",
   "id": "f87eef1c-161b-4c72-b638-863c7fa7849a",
   "metadata": {},
   "source": [
    "Optimalt nivå på kvantum finner vi ved å derivere profittfunksjoen mhp Q"
   ]
  },
  {
   "cell_type": "code",
   "execution_count": 9,
   "id": "ca58712f-913a-4e55-9d3b-265a959bd147",
   "metadata": {},
   "outputs": [
    {
     "data": {
      "text/latex": [
       "$\\displaystyle - Q Z + Q \\left(50 - Z\\right)$"
      ],
      "text/plain": [
       "-Q*Z + Q*(50 - Z)"
      ]
     },
     "metadata": {},
     "output_type": "display_data"
    }
   ],
   "source": [
    "d_profit_Q=sp.diff(profit_Q(Q),Q)\n",
    "\n",
    "display(d_profit_Q)"
   ]
  },
  {
   "cell_type": "markdown",
   "id": "2e9fb732-60a3-4c6c-b714-f431ed061c8d",
   "metadata": {},
   "source": [
    "Setter den deriverte lik O og finner Q*"
   ]
  },
  {
   "cell_type": "code",
   "execution_count": 10,
   "id": "9943f060-d54b-4e50-9337-fb073e37823d",
   "metadata": {},
   "outputs": [
    {
     "data": {
      "text/latex": [
       "$\\displaystyle - Q Z + Q \\left(50 - Z\\right) = 0$"
      ],
      "text/plain": [
       "Eq(-Q*Z + Q*(50 - Z), 0)"
      ]
     },
     "execution_count": 10,
     "metadata": {},
     "output_type": "execute_result"
    }
   ],
   "source": [
    "foc=sp.Eq(d_profit_Q,0)\n",
    "foc"
   ]
  },
  {
   "cell_type": "markdown",
   "id": "33d9127a-cd89-4d0f-8212-b11a4a9c4226",
   "metadata": {},
   "source": [
    "Optimalt nivå på kvantum blir da:"
   ]
  },
  {
   "cell_type": "code",
   "execution_count": 12,
   "id": "82a1d91e-047f-44dd-bc98-8de6ecbf730f",
   "metadata": {},
   "outputs": [
    {
     "data": {
      "text/latex": [
       "$\\displaystyle 25$"
      ],
      "text/plain": [
       "25"
      ]
     },
     "execution_count": 12,
     "metadata": {},
     "output_type": "execute_result"
    }
   ],
   "source": [
    "from sympy.solvers import solve\n",
    "n_max=solve(foc,Q)[0]\n",
    "n_max"
   ]
  },
  {
   "cell_type": "markdown",
   "id": "344d4df9-4a39-40ef-9ab7-e94260ea93e0",
   "metadata": {},
   "source": [
    "Trinn 2:\n",
    "    \n",
    "    Profitt: π(25,Z) = Z(50Q-Q**2)-5Z**2 = Z(50*25-25**2)-5Z**2 = 625-5Z**2"
   ]
  },
  {
   "cell_type": "code",
   "execution_count": 17,
   "id": "70f296f8-2ee6-40f9-a19a-6d7164433df2",
   "metadata": {},
   "outputs": [
    {
     "data": {
      "text/latex": [
       "$\\displaystyle - 5 Z^{2} + 625 Z$"
      ],
      "text/plain": [
       "-5*Z**2 + 625*Z"
      ]
     },
     "execution_count": 17,
     "metadata": {},
     "output_type": "execute_result"
    }
   ],
   "source": [
    "Z=symbols('Z')\n",
    "def profit_Z(Z):\n",
    "    return (625*Z-5*Z**2)\n",
    "profit_Z(Z)"
   ]
  },
  {
   "cell_type": "markdown",
   "id": "8af05c89-0d8c-4fcc-8826-d499a779b8f0",
   "metadata": {},
   "source": [
    "Optimalt nivå på kvalitet finner vi ved å derivere profittfunksjoen mhp Z"
   ]
  },
  {
   "cell_type": "code",
   "execution_count": 18,
   "id": "41b12abe-e6a7-4064-896f-7a92ab9130ce",
   "metadata": {},
   "outputs": [
    {
     "data": {
      "text/latex": [
       "$\\displaystyle 625 - 10 Z$"
      ],
      "text/plain": [
       "625 - 10*Z"
      ]
     },
     "metadata": {},
     "output_type": "display_data"
    }
   ],
   "source": [
    "d_profit_Z=sp.diff(profit_Z(Z),Z)\n",
    "\n",
    "display(d_profit_Z)"
   ]
  },
  {
   "cell_type": "markdown",
   "id": "b04f362a-ca65-4bbb-85e9-a4bba351e080",
   "metadata": {},
   "source": [
    "Setter den deriverte lik O og finner Z*"
   ]
  },
  {
   "cell_type": "code",
   "execution_count": 19,
   "id": "fe234a9a-dfd3-45f2-93da-f03059a31a69",
   "metadata": {},
   "outputs": [
    {
     "data": {
      "text/latex": [
       "$\\displaystyle 625 - 10 Z = 0$"
      ],
      "text/plain": [
       "Eq(625 - 10*Z, 0)"
      ]
     },
     "execution_count": 19,
     "metadata": {},
     "output_type": "execute_result"
    }
   ],
   "source": [
    "foc=sp.Eq(d_profit_Z,0)\n",
    "foc"
   ]
  },
  {
   "cell_type": "markdown",
   "id": "fefcb382-1c4e-4998-9e99-8f31a4dfc970",
   "metadata": {},
   "source": [
    "Optimalt nivå på kvalitet blir da:"
   ]
  },
  {
   "cell_type": "code",
   "execution_count": 20,
   "id": "6d9339c4-6e60-4b5a-81fb-b3c472d1629f",
   "metadata": {},
   "outputs": [
    {
     "data": {
      "text/latex": [
       "$\\displaystyle \\frac{125}{2}$"
      ],
      "text/plain": [
       "125/2"
      ]
     },
     "execution_count": 20,
     "metadata": {},
     "output_type": "execute_result"
    }
   ],
   "source": [
    "from sympy.solvers import solve\n",
    "n_max=solve(foc,Z)[0]\n",
    "n_max"
   ]
  },
  {
   "cell_type": "markdown",
   "id": "e6b18ca1-d356-4b96-af6e-d704eb7ec87e",
   "metadata": {},
   "source": [
    "Optimalt nivå på kvalitet blir da:"
   ]
  },
  {
   "cell_type": "code",
   "execution_count": 22,
   "id": "0828ebfb-3b65-4b6f-9501-42ed18815b33",
   "metadata": {},
   "outputs": [
    {
     "data": {
      "text/latex": [
       "$\\displaystyle 62.5$"
      ],
      "text/plain": [
       "62.50"
      ]
     },
     "execution_count": 22,
     "metadata": {},
     "output_type": "execute_result"
    }
   ],
   "source": [
    "round((n_max),2)"
   ]
  },
  {
   "cell_type": "markdown",
   "id": "4e0640ee-cd0f-4b60-9e09-62228eb58a02",
   "metadata": {},
   "source": [
    "Optimal pris P(25,62.5) = Z(50-Q)"
   ]
  },
  {
   "cell_type": "code",
   "execution_count": 42,
   "id": "f8287cf5-c9e0-46b7-8f2b-a7eb2484da54",
   "metadata": {},
   "outputs": [
    {
     "name": "stdout",
     "output_type": "stream",
     "text": [
      "1562.5\n"
     ]
    }
   ],
   "source": [
    "def price(Z):\n",
    "    return (Z*(50-25))\n",
    "print (price(62.5))"
   ]
  }
 ],
 "metadata": {
  "kernelspec": {
   "display_name": "Python 3 (ipykernel)",
   "language": "python",
   "name": "python3"
  },
  "language_info": {
   "codemirror_mode": {
    "name": "ipython",
    "version": 3
   },
   "file_extension": ".py",
   "mimetype": "text/x-python",
   "name": "python",
   "nbconvert_exporter": "python",
   "pygments_lexer": "ipython3",
   "version": "3.9.15"
  }
 },
 "nbformat": 4,
 "nbformat_minor": 5
}
