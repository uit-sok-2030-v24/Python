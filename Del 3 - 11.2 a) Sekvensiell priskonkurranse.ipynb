{
 "cells": [
  {
   "cell_type": "markdown",
   "id": "8a4f979a-b943-468f-94f8-928dbdfc2c17",
   "metadata": {},
   "source": [
    "# Sok-2030 Næringsøkonomi og konkuransestrategi\n",
    "## Del 3 Oligopolmodeller\n",
    "### Sekvensiell priskonkurranse \n",
    "Ved sekvensiell priskonkurranse er pris bedriftens handlingsvariable og bedriftene gjør sine valg sekvensielt. Lederbedriften velger først sin pris og deretter velger følgerbedriften sin pris. \n",
    "\n",
    "Vi har to bedrifter som konkurrer med pris som strategisk variabel. Vi antar at bedriften har identiske marginalkostnader lik c.\n",
    "\n",
    "Etterspørselsfunksjonen for bedrift 1 er gitt ved: D1(P1,P2) = (Xm((P1,P2)) = [(P2-P1+t)/2t]N \n",
    "\n",
    "Etterspørselsfunksjonen for bedrift 2 er gitt ved: D2(P1,P2) = (1-Xm(P1,P2) = [(P1-P2+t)/2t]N \n",
    "\n",
    "Kode her er basert på notebook fra seminar sok-2030 vår 2022 (Espen Sirnes).\n",
    "\n",
    "### Denne løsningen følger oppsettet i læreboken"
   ]
  },
  {
   "cell_type": "code",
   "execution_count": 1,
   "id": "050f70f6-305f-490d-8762-c3710299b86a",
   "metadata": {},
   "outputs": [],
   "source": [
    "import sympy as sp\n",
    "from sympy import *\n",
    "from matplotlib import pyplot as plt\n",
    "import numpy as np"
   ]
  },
  {
   "cell_type": "markdown",
   "id": "69c8e5be-6b20-4843-acaf-62ead4fb02f6",
   "metadata": {},
   "source": [
    "Modellen løses i to trinn. På trinn 1 velger lederbedriften sin optimal pris og på trinn 2 velger følgerbedriften sin pris. Modellen løses ved baklengs induksjon, dvs av vi starter på trinn 2"
   ]
  },
  {
   "cell_type": "code",
   "execution_count": 2,
   "id": "6f3a2f81-342d-4bf5-a797-b17b8b7307d7",
   "metadata": {},
   "outputs": [],
   "source": [
    "P1, P2,c, N, t=symbols('P1 P2 c N t')\n",
    "\n",
    "def demand_2(P2,P1,t,N):\n",
    "    return (P1-P2+t)/(2*t)*N\n",
    "\n",
    "def profit2(P2,P1,t,N):\n",
    "    return (P2-c)*demand_2(P2,P1,t,N)"
   ]
  },
  {
   "cell_type": "markdown",
   "id": "cf512753-4be4-4e82-8594-7bebb2b5c8e1",
   "metadata": {},
   "source": [
    "Vi dereiverer profittfunksjon til bedrift 2 mhp P2"
   ]
  },
  {
   "cell_type": "code",
   "execution_count": 3,
   "id": "061fc434-d045-42f9-82e8-e40685b5ab14",
   "metadata": {},
   "outputs": [
    {
     "data": {
      "text/latex": [
       "$\\displaystyle - \\frac{N \\left(P_{2} - c\\right)}{2 t} + \\frac{N \\left(P_{1} - P_{2} + t\\right)}{2 t}$"
      ],
      "text/plain": [
       "-N*(P2 - c)/(2*t) + N*(P1 - P2 + t)/(2*t)"
      ]
     },
     "execution_count": 3,
     "metadata": {},
     "output_type": "execute_result"
    }
   ],
   "source": [
    "d_profit2=diff(profit2(P2,P1,t,N),P2)\n",
    "d_profit2"
   ]
  },
  {
   "cell_type": "markdown",
   "id": "d595e36b-10ae-4147-aaee-47dedc235e29",
   "metadata": {},
   "source": [
    "Setter den derivert lik 0 og finner reaksjonsfunkjson til bedrifte 2"
   ]
  },
  {
   "cell_type": "code",
   "execution_count": 4,
   "id": "7d7a824c-06d9-4249-97e0-eab023cfd7e6",
   "metadata": {},
   "outputs": [
    {
     "data": {
      "text/latex": [
       "$\\displaystyle \\frac{P_{1}}{2} + \\frac{c}{2} + \\frac{t}{2}$"
      ],
      "text/plain": [
       "P1/2 + c/2 + t/2"
      ]
     },
     "execution_count": 4,
     "metadata": {},
     "output_type": "execute_result"
    }
   ],
   "source": [
    "P2_sol1=solve(d_profit2,P2)[0]\n",
    "P2_sol1"
   ]
  },
  {
   "cell_type": "markdown",
   "id": "f33165e4-484e-4d09-b9db-df2b22126b57",
   "metadata": {},
   "source": [
    "Vi setter så RF2 inn i etterspørselsfunksjonen til bedrift 1: "
   ]
  },
  {
   "cell_type": "code",
   "execution_count": 5,
   "id": "354a683c-6bc6-4d0a-a70c-44af46c521e1",
   "metadata": {},
   "outputs": [
    {
     "data": {
      "text/latex": [
       "$\\displaystyle \\frac{N \\left(- \\frac{P_{1}}{2} + \\frac{c}{2} + \\frac{3 t}{2}\\right)}{2 t}$"
      ],
      "text/plain": [
       "N*(-P1/2 + c/2 + 3*t/2)/(2*t)"
      ]
     },
     "execution_count": 5,
     "metadata": {},
     "output_type": "execute_result"
    }
   ],
   "source": [
    "def demand_1(P2,P1,t,N):\n",
    "    return (P2_sol1-P1+t)/(2*t)*N\n",
    "demand_1(P2,P1,t,N)"
   ]
  },
  {
   "cell_type": "markdown",
   "id": "903b1b61-7457-417a-bd90-e76560777639",
   "metadata": {},
   "source": [
    "Og får et uttrykk for den direkte etterspørselen til bedrift 1: D1 = (P1,P2*(P1)) = N(c+3t-P1)/4t\n",
    "\n",
    "Invers etterspørsel blir da: P1 = c + 3t - q1(4t/N)\n",
    "\n",
    "Ut i fra denne kan vi finne marginalinntekten til bedrift 1: P1 = c + 3t - q1(8t/N)"
   ]
  },
  {
   "cell_type": "code",
   "execution_count": 6,
   "id": "f5577988-96cb-442d-944f-8262007bd376",
   "metadata": {},
   "outputs": [],
   "source": [
    "q1=sp.symbols('q1', real=True, positive=True)\n",
    "def marginalrevenue(q1):\n",
    "    return c+3*t-q1*8*t/N"
   ]
  },
  {
   "cell_type": "markdown",
   "id": "c8871081-ee4b-49da-b299-ad32a8f669d8",
   "metadata": {},
   "source": [
    "Optimalt nivå på kvantum finner vi ved å sette MR (q1) = MC"
   ]
  },
  {
   "cell_type": "code",
   "execution_count": 7,
   "id": "4f9e7fec-5caa-4b70-8a06-ca97039301e2",
   "metadata": {},
   "outputs": [
    {
     "data": {
      "text/latex": [
       "$\\displaystyle c + 3 t - \\frac{8 q_{1} t}{N} = c$"
      ],
      "text/plain": [
       "Eq(c + 3*t - 8*q1*t/N, c)"
      ]
     },
     "execution_count": 7,
     "metadata": {},
     "output_type": "execute_result"
    }
   ],
   "source": [
    "q1=sp.symbols('q1', real=True, positive=True)\n",
    "equ=sp.Eq(marginalrevenue(q1),c)\n",
    "equ"
   ]
  },
  {
   "cell_type": "markdown",
   "id": "2beca317-461d-4b35-b015-56d3252b5901",
   "metadata": {},
   "source": [
    "Løser denne mhp q1, og finner optimalt kvantum for bedrift 1"
   ]
  },
  {
   "cell_type": "code",
   "execution_count": 8,
   "id": "35d62b22-978d-47fa-8922-d6deb6b9ba75",
   "metadata": {},
   "outputs": [
    {
     "data": {
      "text/latex": [
       "$\\displaystyle \\frac{3 N}{8}$"
      ],
      "text/plain": [
       "3*N/8"
      ]
     },
     "execution_count": 8,
     "metadata": {},
     "output_type": "execute_result"
    }
   ],
   "source": [
    "q1_equ=sp.solve(equ,q1)[0]\n",
    "q1_equ"
   ]
  },
  {
   "cell_type": "markdown",
   "id": "4ab4a233-a3c8-47c7-a494-a2ec91f0f776",
   "metadata": {},
   "source": [
    "Finner optimal pris til bedrift 1 ved å sette q1* inn i den inverse etterspørselsfunksjonenP1 = c + 3t - q1(4t/N)"
   ]
  },
  {
   "cell_type": "code",
   "execution_count": 9,
   "id": "b5d66162-f35d-4f11-96c7-a00e68b15546",
   "metadata": {},
   "outputs": [
    {
     "data": {
      "text/latex": [
       "$\\displaystyle c + \\frac{3 t}{2}$"
      ],
      "text/plain": [
       "c + 3*t/2"
      ]
     },
     "execution_count": 9,
     "metadata": {},
     "output_type": "execute_result"
    }
   ],
   "source": [
    "def demand_1(q1,t,N,c):\n",
    "    return (c+3*t-(q1_equ*4*t)/N)\n",
    "demand_1(q1,t,N,c)"
   ]
  },
  {
   "cell_type": "markdown",
   "id": "10d0fa77-8c27-455f-a00f-9aa1930d34c8",
   "metadata": {},
   "source": [
    "Totalt salg i markedet er N (en enhet til hver kunde)\n",
    "\n",
    "Bedrift 1 sin andel av salget er 3/8, og da vil salget til bedrift 2 være en andel på (1-3/8) = 5/8\n",
    "\n",
    "Vi finner optimal pris for bedrift 2 ved å sette inn p1* = c +3t/2 inn i RF2: P2* = (P1 + c + t)/2"
   ]
  },
  {
   "cell_type": "code",
   "execution_count": 10,
   "id": "c054eb51-445a-482a-8cdb-27f043a05e1a",
   "metadata": {},
   "outputs": [
    {
     "data": {
      "text/latex": [
       "$\\displaystyle \\frac{P_{1}}{2} + \\frac{c}{2} + \\frac{t}{2}$"
      ],
      "text/plain": [
       "P1/2 + c/2 + t/2"
      ]
     },
     "execution_count": 10,
     "metadata": {},
     "output_type": "execute_result"
    }
   ],
   "source": [
    "def RF_2(P2,P1,t,N):\n",
    "    return (P1+c+t)/2\n",
    "RF_2(P2,P1,t,N)"
   ]
  },
  {
   "cell_type": "code",
   "execution_count": 11,
   "id": "53f89849-dbde-4803-b861-d2a2660c424e",
   "metadata": {},
   "outputs": [
    {
     "data": {
      "text/latex": [
       "$\\displaystyle c + \\frac{5 t}{4}$"
      ],
      "text/plain": [
       "c + 5*t/4"
      ]
     },
     "execution_count": 11,
     "metadata": {},
     "output_type": "execute_result"
    }
   ],
   "source": [
    "def RF_2P1(P2,P1,t,N):\n",
    "    return (c+3*t/2+c+t)/2\n",
    "RF_2P1(P2,P1,t,N)\n"
   ]
  }
 ],
 "metadata": {
  "kernelspec": {
   "display_name": "Python 3 (ipykernel)",
   "language": "python",
   "name": "python3"
  },
  "language_info": {
   "codemirror_mode": {
    "name": "ipython",
    "version": 3
   },
   "file_extension": ".py",
   "mimetype": "text/x-python",
   "name": "python",
   "nbconvert_exporter": "python",
   "pygments_lexer": "ipython3",
   "version": "3.9.18"
  }
 },
 "nbformat": 4,
 "nbformat_minor": 5
}
