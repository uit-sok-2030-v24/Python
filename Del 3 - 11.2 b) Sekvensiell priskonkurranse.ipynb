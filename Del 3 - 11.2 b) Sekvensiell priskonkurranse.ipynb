{
 "cells": [
  {
   "cell_type": "markdown",
   "id": "88d74da2-c793-451e-b6c5-84029784050d",
   "metadata": {},
   "source": [
    "# Sok-2030 Næringsøkonomi og konkuransestrategi\n",
    "## Del 3 Oligopolmodeller\n",
    "### Sekvensiell priskonkurranse \n",
    "Ved sekvensiell priskonkurranse er pris bedriftens handlingsvariable og bedriftene gjør sine valg sekvensielt. Lederbedriften velger først sin pris og deretter velger følgerbedriften sin pris. \n",
    "\n",
    "Vi har to bedrifter som konkurrer med pris som strategisk variabel. Vi antar at bedriften har identiske marginalkostnader lik c.\n",
    "\n",
    "Etterspørselsfunksjonen for bedrift 1 er gitt ved: D1(P1,P2) = (Xm((P1,P2)) = [(P2-P1+t)/2t]N \n",
    "\n",
    "Etterspørselsfunksjonen for bedrift 2 er gitt ved: D2(P1,P2) = (1-Xm(P1,P2) = [(P1-P2+t)/2t]N \n",
    "\n",
    "Kode her er basert på notebook fra seminar sok-2030 vår 2022 (Espen Sirnes)."
   ]
  },
  {
   "cell_type": "code",
   "execution_count": 1,
   "id": "f2603353-68c3-4bb9-b6e8-a2e3e6514cf9",
   "metadata": {},
   "outputs": [],
   "source": [
    "from sympy import *\n",
    "from matplotlib import pyplot as plt\n",
    "import numpy as np\n"
   ]
  },
  {
   "cell_type": "markdown",
   "id": "079e9cd6-338e-4a45-95a2-15428858427d",
   "metadata": {},
   "source": [
    "Modellen løses i to trinn. På trinn 1 velger lederbedriften sin optimal pris og på trinn 2 velger følgerbedriften sin pris. Modellen løses ved baklengs induksjon, dvs av vi starter på trinn 2"
   ]
  },
  {
   "cell_type": "code",
   "execution_count": 4,
   "id": "1df59208-47bc-4f59-9365-6f3e6b2ea63c",
   "metadata": {},
   "outputs": [],
   "source": [
    "P1, P2,c, N, t=symbols('P1 P2 c N t')\n",
    "\n",
    "def demand_2(P2,P1,t,N):\n",
    "    return (P1-P2+t)/(2*t)*N\n",
    "\n",
    "def profit2(P2,P1,t,N):\n",
    "    return (P2-c)*demand_2(P2,P1,t,N)"
   ]
  },
  {
   "cell_type": "markdown",
   "id": "6fb16485-cb30-4bb3-86e4-39e656fd8f40",
   "metadata": {},
   "source": [
    "Vi dereiverer profittfunksjon til bedrift 2 mhp P2"
   ]
  },
  {
   "cell_type": "code",
   "execution_count": 5,
   "id": "bbd3ae52-c53c-424b-86bb-537c42a61616",
   "metadata": {},
   "outputs": [
    {
     "data": {
      "text/latex": [
       "$\\displaystyle - \\frac{N \\left(P_{2} - c\\right)}{2 t} + \\frac{N \\left(P_{1} - P_{2} + t\\right)}{2 t}$"
      ],
      "text/plain": [
       "-N*(P2 - c)/(2*t) + N*(P1 - P2 + t)/(2*t)"
      ]
     },
     "execution_count": 5,
     "metadata": {},
     "output_type": "execute_result"
    }
   ],
   "source": [
    "d_profit2=diff(profit2(P2,P1,t,N),P2)\n",
    "d_profit2"
   ]
  },
  {
   "cell_type": "markdown",
   "id": "ae0bea2e-18fe-4cd9-829b-fad39557363a",
   "metadata": {},
   "source": [
    "Setter den derivert lik 0 og finner reaksjonsfunksjon til bedrift 2"
   ]
  },
  {
   "cell_type": "code",
   "execution_count": 6,
   "id": "b8720c01-1792-4a90-b49a-c05fd7eaf75e",
   "metadata": {},
   "outputs": [
    {
     "data": {
      "text/latex": [
       "$\\displaystyle \\frac{P_{1}}{2} + \\frac{c}{2} + \\frac{t}{2}$"
      ],
      "text/plain": [
       "P1/2 + c/2 + t/2"
      ]
     },
     "execution_count": 6,
     "metadata": {},
     "output_type": "execute_result"
    }
   ],
   "source": [
    "P2_sol1=solve(d_profit2,P2)[0]\n",
    "P2_sol1"
   ]
  },
  {
   "cell_type": "code",
   "execution_count": 10,
   "id": "c8af5478-25dc-446d-b1c4-1b1410719a02",
   "metadata": {},
   "outputs": [],
   "source": [
    "def demand_1(P2,P1,t,N):\n",
    "    return (P2-P1+t)/(2*t)*N\n",
    "\n",
    "def profit1(P2,P1,t,N):\n",
    "    return (P1-c)*demand_1(P2,P1,t,N)"
   ]
  },
  {
   "cell_type": "markdown",
   "id": "5b7ff093-364e-49fc-a7c2-9124766dc870",
   "metadata": {},
   "source": [
    "På trinn 1 sette vi reaksjonsfunksjonene til bedrift 2 inn i bedrift 1 sin profittfunksjon, og deriverer dette utrykket mhp P1."
   ]
  },
  {
   "cell_type": "code",
   "execution_count": 12,
   "id": "9ac902a9-78e8-40df-9713-791521ec4900",
   "metadata": {},
   "outputs": [
    {
     "data": {
      "text/latex": [
       "$\\displaystyle - \\frac{N \\left(P_{1} - c\\right)}{4 t} + \\frac{N \\left(- \\frac{P_{1}}{2} + \\frac{c}{2} + \\frac{3 t}{2}\\right)}{2 t}$"
      ],
      "text/plain": [
       "-N*(P1 - c)/(4*t) + N*(-P1/2 + c/2 + 3*t/2)/(2*t)"
      ]
     },
     "execution_count": 12,
     "metadata": {},
     "output_type": "execute_result"
    }
   ],
   "source": [
    "d_profit1=diff(profit1(P2_sol1,P1,t,N),P1)\n",
    "d_profit1"
   ]
  },
  {
   "cell_type": "markdown",
   "id": "eaa2dfce-b247-4a7a-9b67-0439c98daadb",
   "metadata": {},
   "source": [
    "For å finne optimalt pris til lederbedriften setter vi uttrykket over lik 0"
   ]
  },
  {
   "cell_type": "code",
   "execution_count": 19,
   "id": "7fb41de3-aaf0-4a17-ac5a-5e2d50136ef3",
   "metadata": {},
   "outputs": [
    {
     "data": {
      "text/latex": [
       "$\\displaystyle c + \\frac{3 t}{2}$"
      ],
      "text/plain": [
       "c + 3*t/2"
      ]
     },
     "execution_count": 19,
     "metadata": {},
     "output_type": "execute_result"
    }
   ],
   "source": [
    "P1_sol1=solve(d_profit1,P1)[0]\n",
    "P1_sol1"
   ]
  },
  {
   "cell_type": "markdown",
   "id": "d67078e4-0375-4646-9c1f-2c001aed420e",
   "metadata": {},
   "source": [
    "Vi setter så optimalt valg av P1 inn i reaksjonsfunksjonen til bedrift 2 og finner prisen til bedrift 2\n"
   ]
  },
  {
   "cell_type": "code",
   "execution_count": 15,
   "id": "38d49c13-3c68-4b0c-93e0-102d83dcf84b",
   "metadata": {},
   "outputs": [
    {
     "data": {
      "text/latex": [
       "$\\displaystyle c + \\frac{5 t}{4}$"
      ],
      "text/plain": [
       "c + 5*t/4"
      ]
     },
     "execution_count": 15,
     "metadata": {},
     "output_type": "execute_result"
    }
   ],
   "source": [
    "P2_sol2=P2_sol1.subs({P1:P1_sol})\n",
    "P2_sol2"
   ]
  },
  {
   "cell_type": "markdown",
   "id": "c9c698dc-23e4-40e1-af38-1b5719ddf8f5",
   "metadata": {},
   "source": [
    "Til pris lik c + 5t/4 vil bedrift 2 selge følgende kvantum:"
   ]
  },
  {
   "cell_type": "code",
   "execution_count": 20,
   "id": "7396997a-3978-4268-9dcc-da87fb62a51f",
   "metadata": {},
   "outputs": [
    {
     "data": {
      "text/latex": [
       "$\\displaystyle \\frac{5 N}{8}$"
      ],
      "text/plain": [
       "5*N/8"
      ]
     },
     "execution_count": 20,
     "metadata": {},
     "output_type": "execute_result"
    }
   ],
   "source": [
    "demand_2(P2,P1,t,N).subs({P1:P1_sol1,P2:P2_sol2})"
   ]
  },
  {
   "cell_type": "markdown",
   "id": "8e1292dc-7e3f-4883-a490-f452a6fca4a2",
   "metadata": {},
   "source": [
    "og til pris lik c + 3t/2 vil bedrift 1 selge følgende kvantum:"
   ]
  },
  {
   "cell_type": "code",
   "execution_count": 21,
   "id": "969aca25-4316-4b24-8a0b-9fa3c3d487ec",
   "metadata": {},
   "outputs": [
    {
     "data": {
      "text/latex": [
       "$\\displaystyle \\frac{3 N}{8}$"
      ],
      "text/plain": [
       "3*N/8"
      ]
     },
     "execution_count": 21,
     "metadata": {},
     "output_type": "execute_result"
    }
   ],
   "source": [
    "demand_1(P2,P1,t,N).subs({P1:P1_sol1,P2:P2_sol2})"
   ]
  },
  {
   "cell_type": "markdown",
   "id": "09191df1-39a7-473f-a2b0-6f2fc4d22c4c",
   "metadata": {},
   "source": [
    "Profitten til bedrift 2 blir:"
   ]
  },
  {
   "cell_type": "code",
   "execution_count": 23,
   "id": "2c98735a-a00d-4c77-8c4a-e881a508d226",
   "metadata": {},
   "outputs": [
    {
     "data": {
      "text/latex": [
       "$\\displaystyle \\frac{25 N t}{32}$"
      ],
      "text/plain": [
       "25*N*t/32"
      ]
     },
     "execution_count": 23,
     "metadata": {},
     "output_type": "execute_result"
    }
   ],
   "source": [
    "profit2(P2,P1,t,N).subs({P1:P1_sol1,P2:P2_sol2})"
   ]
  },
  {
   "cell_type": "markdown",
   "id": "2c66f458-fe10-49e1-aa05-6d0726370a3e",
   "metadata": {},
   "source": [
    "og bedrift 1 får følgende profit:"
   ]
  },
  {
   "cell_type": "code",
   "execution_count": 24,
   "id": "8a6ab634-a9cf-446c-8a66-9b623a264cb5",
   "metadata": {},
   "outputs": [
    {
     "data": {
      "text/latex": [
       "$\\displaystyle \\frac{9 N t}{16}$"
      ],
      "text/plain": [
       "9*N*t/16"
      ]
     },
     "execution_count": 24,
     "metadata": {},
     "output_type": "execute_result"
    }
   ],
   "source": [
    "profit1(P2,P1,t,N).subs({P1:P1_sol1,P2:P2_sol2})"
   ]
  },
  {
   "cell_type": "code",
   "execution_count": null,
   "id": "490297f4-1eea-473b-b92f-9dedb82bd7d2",
   "metadata": {},
   "outputs": [],
   "source": []
  }
 ],
 "metadata": {
  "kernelspec": {
   "display_name": "Python 3 (ipykernel)",
   "language": "python",
   "name": "python3"
  },
  "language_info": {
   "codemirror_mode": {
    "name": "ipython",
    "version": 3
   },
   "file_extension": ".py",
   "mimetype": "text/x-python",
   "name": "python",
   "nbconvert_exporter": "python",
   "pygments_lexer": "ipython3",
   "version": "3.9.18"
  }
 },
 "nbformat": 4,
 "nbformat_minor": 5
}
