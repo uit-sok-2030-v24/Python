{
 "cells": [
  {
   "cell_type": "markdown",
   "id": "608fc7af-0c76-42b8-9e4f-09644c753a9b",
   "metadata": {},
   "source": [
    "### Seminar 4 - Stackelberg modell\n",
    "\n",
    "For å møte fremtidige vekstmuligheter i markedet har Hurtigruten ASA valgt å spisse de ulike delene av konsernet. Selskapet har opprettet enhetene Hurtigruten Norge, som skal drive ordinær rutetrafikk langs norskekysten, og Hurtigruten Expeditions, som skal drive den internasjonale ekspedisjonscruise-virksomheten.\n",
    "\n",
    "I markedet for ekspedisjonscruise vil Hurtigruten Expeditions være en ledende aktør, hvor de vil ha mulighet til å gjøre sine valg av kapasitet før en eventuell konkurrent kommer inn i markedet. \n",
    "I markedet for ekspedisjonscruise vil total etterspørsel være:\n",
    "\n",
    "P=5000-1/10(qE + qN)\n",
    "\n",
    "hvor qE  er antall passasjerer som vil reise med Hurtigruten Expeditions, qN  er antall passasjerer som vil reise med nykommeren og P er pris på cruise.  På ekspedisjonscruise vil marginalkostnadene per passasjer være noe høyere siden det her er lagt opp til flere utflukter under seilasen. Hurtigruten Expeditions vil ha konstante marginalkostnader på 1500 per passasjer, mens nykommeren er noe mindre effektiv i sin drift og vil ha marginalkostnader på 1800 per passasjer. Faste kostnader for de nye cruiseskipene er på 3 millioner.\n",
    "\n",
    "\tHva blir optimal tilpasning i dette markedet når Hurtigruten Expeditions kan gjøre sitt valg av kapasitet før nykommeren velger sitt kvantum? Vil det være en fordel for Hurtigruten Expeditions å ha mulighet til å gjøre valg av kvantum før konkurrenten? \n",
    "\n",
    "\n",
    "\n"
   ]
  },
  {
   "cell_type": "code",
   "execution_count": 1,
   "id": "d4f45aff-623a-4e4e-9a89-7d542226bad8",
   "metadata": {},
   "outputs": [],
   "source": [
    "from sympy import *\n",
    "from matplotlib import pyplot as plt\n",
    "import numpy as np"
   ]
  },
  {
   "cell_type": "code",
   "execution_count": 32,
   "id": "d328d21b-580a-4e37-a105-ba110826e4da",
   "metadata": {},
   "outputs": [],
   "source": [
    "q1, q2,c, pi,i=symbols('q1 q2 c  pi i')\n",
    "\n",
    "def P_demand(Q):\n",
    "    return 5000-(1/10)*Q\n",
    "\n",
    "def profit_1(q1,q2):\n",
    "    return (P_demand(q1+q2)-1500)*q1-3000000\n",
    "def profit_2(q1,q2):\n",
    "    return (P_demand(q1+q2)-1800)*q2-3000000"
   ]
  },
  {
   "cell_type": "markdown",
   "id": "a5a5cfe6-9da6-43aa-8679-9ec2b28a9892",
   "metadata": {},
   "source": [
    "Modellen løses i to trinn. På trinn 1 velger Hurtigruten Expedition sitt kvantum og på trinn 2 velger nykommeren sitt optimale kvantum. Modellen løses ved baklengs induksjon, dvs av vi starter på trinn 2\n",
    "\n",
    "Vi dereiverer profittfunksjon til bedrift 2 mhp q2: π2 = (P-c)*q2=(5000-1/10(q1+q2)-1800)*q2"
   ]
  },
  {
   "cell_type": "code",
   "execution_count": 11,
   "id": "5f5aa1eb-145c-4104-a0b3-7824e36eeeb9",
   "metadata": {},
   "outputs": [
    {
     "data": {
      "text/latex": [
       "$\\displaystyle - 0.1 q_{1} - 0.2 q_{2} + 3200$"
      ],
      "text/plain": [
       "-0.1*q1 - 0.2*q2 + 3200"
      ]
     },
     "execution_count": 11,
     "metadata": {},
     "output_type": "execute_result"
    }
   ],
   "source": [
    "d_profit_2=diff(profit_2(q2,q1),q2)\n",
    "d_profit_2"
   ]
  },
  {
   "cell_type": "markdown",
   "id": "0f2851ae-c6ce-4eb7-b46d-d22a0bf54325",
   "metadata": {},
   "source": [
    "Setter den derivert lik 0 og finner reaksjonsfunkjson til nykommeren"
   ]
  },
  {
   "cell_type": "code",
   "execution_count": 12,
   "id": "db05d10a-0396-45d3-af51-9ca24b40cc09",
   "metadata": {},
   "outputs": [
    {
     "data": {
      "text/latex": [
       "$\\displaystyle 16000.0 - 0.5 q_{1}$"
      ],
      "text/plain": [
       "16000.0 - 0.5*q1"
      ]
     },
     "execution_count": 12,
     "metadata": {},
     "output_type": "execute_result"
    }
   ],
   "source": [
    "Q2_sol1=solve(d_profit_2,q2)[0]\n",
    "Q2_sol1"
   ]
  },
  {
   "cell_type": "markdown",
   "id": "4938c1a1-10f9-4497-873c-7aeeba8c48ab",
   "metadata": {},
   "source": [
    "På trinn 1 sette vi reaksjonsfunksjonene til nykommeren inn i Hurtigruten Expedition sin profittfunksjon, og deriverer dette utrykket mhp q1. Maks π1 =(5000-1/10(q1+q2)-15)*q1 gitt q2=16000-0.5q1"
   ]
  },
  {
   "cell_type": "code",
   "execution_count": 13,
   "id": "c166c7e2-fe4f-41b8-afac-68c8e5d7e032",
   "metadata": {},
   "outputs": [
    {
     "data": {
      "text/latex": [
       "$\\displaystyle 1900.0 - 0.1 q_{1}$"
      ],
      "text/plain": [
       "1900.0 - 0.1*q1"
      ]
     },
     "execution_count": 13,
     "metadata": {},
     "output_type": "execute_result"
    }
   ],
   "source": [
    "d_profit_1=diff(profit_1(q1,Q2_sol1),q1)\n",
    "d_profit_1"
   ]
  },
  {
   "cell_type": "markdown",
   "id": "9077292c-e655-46e1-bbc1-a8c9f48b8231",
   "metadata": {},
   "source": [
    "For å finne optimalt kvantum til lederbedriften setter vi uttrykket over lik 0"
   ]
  },
  {
   "cell_type": "code",
   "execution_count": 16,
   "id": "5a95244e-8f82-46ff-8730-68710cc6eee3",
   "metadata": {},
   "outputs": [
    {
     "data": {
      "text/latex": [
       "$\\displaystyle 19000.0$"
      ],
      "text/plain": [
       "19000.0000000000"
      ]
     },
     "execution_count": 16,
     "metadata": {},
     "output_type": "execute_result"
    }
   ],
   "source": [
    "Q1_sol=solve(d_profit_1,q1)[0]\n",
    "Q1_sol"
   ]
  },
  {
   "cell_type": "markdown",
   "id": "a639a041-eff1-449f-81c6-4c042eabe2d6",
   "metadata": {},
   "source": [
    "Vi setter så optimalt valg av qE inn i reaksjonsfunksjonen til nykommer"
   ]
  },
  {
   "cell_type": "code",
   "execution_count": 18,
   "id": "d5077d1f-d001-428e-a8e6-664b01326a69",
   "metadata": {},
   "outputs": [
    {
     "data": {
      "text/latex": [
       "$\\displaystyle 6500.0$"
      ],
      "text/plain": [
       "6500.00000000000"
      ]
     },
     "execution_count": 18,
     "metadata": {},
     "output_type": "execute_result"
    }
   ],
   "source": [
    "Q2_sol2=Q2_sol1.subs({q1:Q1_sol})\n",
    "Q2_sol2"
   ]
  },
  {
   "cell_type": "code",
   "execution_count": 20,
   "id": "62683e83-f17d-4179-a0c5-71e848f33c70",
   "metadata": {},
   "outputs": [],
   "source": [
    "def demand(q1,q2):\n",
    "    return (5000-1/10*(q1+q2))"
   ]
  },
  {
   "cell_type": "markdown",
   "id": "7f40daaf-ff77-4771-9d90-bb2b0fafd7f0",
   "metadata": {},
   "source": [
    "Optimalt kvantum settes inn i ettersprøselsfunksjonen, og vi finner markedsprisen:"
   ]
  },
  {
   "cell_type": "code",
   "execution_count": 24,
   "id": "1b77b820-63cb-44bd-a95e-0c458c37afdf",
   "metadata": {},
   "outputs": [
    {
     "data": {
      "text/latex": [
       "$\\displaystyle 2450.0$"
      ],
      "text/plain": [
       "2450.00000000000"
      ]
     },
     "execution_count": 24,
     "metadata": {},
     "output_type": "execute_result"
    }
   ],
   "source": [
    "demand(q1,q2).subs({q1:Q1_sol,q2:Q2_sol2})"
   ]
  },
  {
   "cell_type": "markdown",
   "id": "4cc567c3-08f0-4f88-9801-eb36067f0602",
   "metadata": {},
   "source": [
    "Profitten til bedriftene blir:"
   ]
  },
  {
   "cell_type": "code",
   "execution_count": 29,
   "id": "5648736e-0d9a-4133-b6ab-79918e45f213",
   "metadata": {},
   "outputs": [
    {
     "data": {
      "text/latex": [
       "$\\displaystyle 15050000.0$"
      ],
      "text/plain": [
       "15050000.0000000"
      ]
     },
     "execution_count": 29,
     "metadata": {},
     "output_type": "execute_result"
    }
   ],
   "source": [
    "# for Hurtigruten Expedititon\n",
    "profit_1(q1,q2).subs({q1:Q1_sol,q2:Q2_sol2})"
   ]
  },
  {
   "cell_type": "code",
   "execution_count": 34,
   "id": "13a9e6a4-4b5a-4a6f-998c-da9332a25620",
   "metadata": {},
   "outputs": [
    {
     "data": {
      "text/latex": [
       "$\\displaystyle 1225000.0$"
      ],
      "text/plain": [
       "1225000.00000000"
      ]
     },
     "execution_count": 34,
     "metadata": {},
     "output_type": "execute_result"
    }
   ],
   "source": [
    "# for nykommer\n",
    "profit_2(q1,q2).subs({q1:Q1_sol,q2:Q2_sol2})"
   ]
  },
  {
   "cell_type": "code",
   "execution_count": null,
   "id": "968db246-0929-4604-84a3-bbf01b0288a1",
   "metadata": {},
   "outputs": [],
   "source": []
  }
 ],
 "metadata": {
  "kernelspec": {
   "display_name": "Python 3 (ipykernel)",
   "language": "python",
   "name": "python3"
  },
  "language_info": {
   "codemirror_mode": {
    "name": "ipython",
    "version": 3
   },
   "file_extension": ".py",
   "mimetype": "text/x-python",
   "name": "python",
   "nbconvert_exporter": "python",
   "pygments_lexer": "ipython3",
   "version": "3.9.18"
  }
 },
 "nbformat": 4,
 "nbformat_minor": 5
}
