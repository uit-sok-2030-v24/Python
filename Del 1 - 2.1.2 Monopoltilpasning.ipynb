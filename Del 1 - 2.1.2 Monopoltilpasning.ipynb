{
 "cells": [
  {
   "cell_type": "markdown",
   "id": "57988f8d-8ad6-41e6-963a-a2dbac600432",
   "metadata": {},
   "source": [
    "# Sok-2030 Næringsøkonomi og konkuransestrategi\n",
    "## Del 1 Grunleggende Mikroøkonomi\n",
    "### Optimal tilpasning ved monopol\n",
    "Løsning av Pratice Problem 2.2\n"
   ]
  },
  {
   "cell_type": "code",
   "execution_count": 2,
   "id": "d83a74f8-bd6a-46fb-86b3-34d42e669430",
   "metadata": {},
   "outputs": [],
   "source": [
    "import sympy as sp\n",
    "import numpy as np\n",
    "from matplotlib import pyplot as plt"
   ]
  },
  {
   "cell_type": "code",
   "execution_count": 3,
   "id": "b97decf1-5940-44e3-b588-9f26f3a0cde9",
   "metadata": {},
   "outputs": [],
   "source": [
    "def marginalrevenue(Q):\n",
    "    return (120-18*Q/50)"
   ]
  },
  {
   "cell_type": "code",
   "execution_count": 4,
   "id": "5e916a23-1b0e-4717-9456-31ff367ba08d",
   "metadata": {},
   "outputs": [],
   "source": [
    "def marginalcost(Q):\n",
    "    return (10+Q/25)"
   ]
  },
  {
   "cell_type": "code",
   "execution_count": 5,
   "id": "0525741b-f86c-4de7-909a-19f57c486a57",
   "metadata": {},
   "outputs": [
    {
     "data": {
      "text/latex": [
       "$\\displaystyle 120 - \\frac{9 Q}{25} = \\frac{Q}{25} + 10$"
      ],
      "text/plain": [
       "Eq(120 - 9*Q/25, Q/25 + 10)"
      ]
     },
     "execution_count": 5,
     "metadata": {},
     "output_type": "execute_result"
    }
   ],
   "source": [
    "Q=sp.symbols('Q', real=True, positive=True)\n",
    "equ=sp.Eq(marginalrevenue(Q),marginalcost(Q))\n",
    "equ"
   ]
  },
  {
   "cell_type": "markdown",
   "id": "180de198-b09f-4510-b9fb-2b418eae858f",
   "metadata": {},
   "source": [
    "### Optimal kvantum og pris for monopolbedriften er:"
   ]
  },
  {
   "cell_type": "code",
   "execution_count": 6,
   "id": "4e3ecb1d-94d9-4319-ad55-aa8fbbb25f28",
   "metadata": {},
   "outputs": [
    {
     "data": {
      "text/latex": [
       "$\\displaystyle 275$"
      ],
      "text/plain": [
       "275"
      ]
     },
     "execution_count": 6,
     "metadata": {},
     "output_type": "execute_result"
    }
   ],
   "source": [
    "Q_equ=sp.solve(equ,Q)[0]\n",
    "Q_equ"
   ]
  },
  {
   "cell_type": "code",
   "execution_count": 7,
   "id": "e552cd44-3329-44aa-aef4-00b9e64f8d30",
   "metadata": {},
   "outputs": [],
   "source": [
    "def demand(Q):\n",
    "    return (120-9*Q/50)"
   ]
  },
  {
   "cell_type": "code",
   "execution_count": 8,
   "id": "2db1a960-9288-417b-89b3-4a743d4df84b",
   "metadata": {},
   "outputs": [
    {
     "data": {
      "text/latex": [
       "$\\displaystyle 70.5$"
      ],
      "text/plain": [
       "70.50"
      ]
     },
     "execution_count": 8,
     "metadata": {},
     "output_type": "execute_result"
    }
   ],
   "source": [
    "p_eq=demand(Q_equ)\n",
    "p_eq\n",
    "round(p_eq,2)"
   ]
  },
  {
   "cell_type": "code",
   "execution_count": 10,
   "id": "41e351f1-071f-4111-a3bd-35f63ada41a6",
   "metadata": {},
   "outputs": [
    {
     "data": {
      "text/plain": [
       "(-2.0, 130.0)"
      ]
     },
     "execution_count": 10,
     "metadata": {},
     "output_type": "execute_result"
    },
    {
     "data": {
      "image/png": "[encoded data removed]",
      "text/plain": [
       "<Figure size 432x288 with 1 Axes>"
      ]
     },
     "metadata": {
      "needs_background": "light"
     },
     "output_type": "display_data"
    }
   ],
   "source": [
    "#drawing 800 points in the interval 0.0 to 800\n",
    "Q = np.linspace(1,800,800)\n",
    "\n",
    "#drawing marginalrevenue\n",
    "plt.plot(Q,marginalrevenue(Q),label='MR')\n",
    "\n",
    "#drawing marginalcost\n",
    "plt.plot(Q,marginalcost(Q),label='MC')\n",
    "#drawing demand\n",
    "plt.plot(Q,demand(Q),color='green',label='Etterspørsel')\n",
    "\n",
    "#adding legend:\n",
    "plt.legend(loc='lower right')\n",
    "\n",
    "#setting the axis lables\n",
    "plt.ylabel('Pris')\n",
    "plt.xlabel('Enheter')\n",
    "\n",
    "#setting the range of y values (the price) to be between 0 and 30, so that we can more\n",
    "#easily see the equilibrium price\n",
    "plt.ylim((-2,130))\n"
   ]
  },
  {
   "cell_type": "code",
   "execution_count": null,
   "id": "8b2b6fdd-ef37-48d8-a94a-8dfc5ced7a55",
   "metadata": {},
   "outputs": [],
   "source": []
  }
 ],
 "metadata": {
  "kernelspec": {
   "display_name": "Python 3 (ipykernel)",
   "language": "python",
   "name": "python3"
  },
  "language_info": {
   "codemirror_mode": {
    "name": "ipython",
    "version": 3
   },
   "file_extension": ".py",
   "mimetype": "text/x-python",
   "name": "python",
   "nbconvert_exporter": "python",
   "pygments_lexer": "ipython3",
   "version": "3.9.18"
  }
 },
 "nbformat": 4,
 "nbformat_minor": 5
}
