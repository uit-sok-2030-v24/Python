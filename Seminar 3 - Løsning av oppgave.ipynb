{
 "cells": [
  {
   "cell_type": "markdown",
   "id": "bcaeb2c4-c004-4a8c-a269-44aada09b420",
   "metadata": {},
   "source": [
    "##### Seminar 2 - Monopol og lokaliseringsmodell\n",
    "\n",
    "Kaffebønna er lokalisert i Tromsø med flere utsalgssteder. I første omgang antar vi at Kaffebønna er monopolist i sitt marked hvor kundene er horisontalt differensiert (den linære byen). Anta at Kaffebønna har 30 000 kunder (N=30 000) som er jevnt fordelt langs lokaliseringsområdet til utsalgsstedene, og at hver kunde kjøper en kopp kaffe per dag. Kostnaden ved å produsere en kopp kaffe er NOK 5, og bedriften har faste kostnader per utsalgssted på NOK 25 000. Transportkostnadene for kundene er på NOK 50. \n",
    "\n",
    "Hva er optimalt antall utsalgssteder for Kaffebønna i Tromsø?\n",
    "\n"
   ]
  },
  {
   "cell_type": "code",
   "execution_count": 1,
   "id": "5724f4ca-375d-4e07-9fa8-f8e2b0c02739",
   "metadata": {},
   "outputs": [],
   "source": [
    "from sympy import *\n",
    "import sympy as sp\n",
    "from matplotlib import pyplot as plt\n",
    "import numpy as np"
   ]
  },
  {
   "cell_type": "markdown",
   "id": "b36bcca9-d39e-45c3-bcc7-ccc3a5088f5d",
   "metadata": {},
   "source": [
    "Profitten til Kaffebønna er: (V - t/2n -c)N - nF\n",
    "\n",
    "hvor V er reservasjonspris, t er transportkostnad, c er marginalkostnad, n er antall utsalg og N er totalt antall kunder"
   ]
  },
  {
   "cell_type": "code",
   "execution_count": 3,
   "id": "ed8a026d-86f6-42a8-b196-2748834241f4",
   "metadata": {},
   "outputs": [
    {
     "data": {
      "text/latex": [
       "$\\displaystyle 30000 V - 25000 n - 150000 - \\frac{750000}{n}$"
      ],
      "text/plain": [
       "30000*V - 25000*n - 150000 - 750000/n"
      ]
     },
     "execution_count": 3,
     "metadata": {},
     "output_type": "execute_result"
    }
   ],
   "source": [
    "V, n=symbols('V n')\n",
    "def profit(V,n):\n",
    "    return (V-(50/(2*n))-5)*30000-n*25000\n",
    "profit(V,n)"
   ]
  },
  {
   "cell_type": "markdown",
   "id": "22edf25d-6d14-4ce9-9c76-0a18a48c83a8",
   "metadata": {},
   "source": [
    "For å finne optimalt antall utsalgsteder så deriverer vi profittfunksjonen med hensyn på n"
   ]
  },
  {
   "cell_type": "code",
   "execution_count": 4,
   "id": "1eead3f6-cce1-412f-8e35-30603444e86f",
   "metadata": {},
   "outputs": [
    {
     "data": {
      "text/latex": [
       "$\\displaystyle -25000 + \\frac{750000}{n^{2}}$"
      ],
      "text/plain": [
       "-25000 + 750000/n**2"
      ]
     },
     "metadata": {},
     "output_type": "display_data"
    }
   ],
   "source": [
    "d_profit=sp.diff(profit(V,n),n)\n",
    "\n",
    "display(d_profit)"
   ]
  },
  {
   "cell_type": "markdown",
   "id": "a70ac05f-ffb2-41a0-a1d3-92fdc6c46ea2",
   "metadata": {},
   "source": [
    "Setter den derivert lik 0, og finner optimalt nivå på antall utsalgsteder (n)"
   ]
  },
  {
   "cell_type": "code",
   "execution_count": 5,
   "id": "e4c98463-ed14-49ce-945f-81d4f212ca58",
   "metadata": {},
   "outputs": [
    {
     "data": {
      "text/latex": [
       "$\\displaystyle -25000 + \\frac{750000}{n^{2}} = 0$"
      ],
      "text/plain": [
       "Eq(-25000 + 750000/n**2, 0)"
      ]
     },
     "execution_count": 5,
     "metadata": {},
     "output_type": "execute_result"
    }
   ],
   "source": [
    "foc=sp.Eq(d_profit,0)\n",
    "foc"
   ]
  },
  {
   "cell_type": "code",
   "execution_count": 6,
   "id": "42f25108-e391-40d3-9e78-b49d5573addd",
   "metadata": {},
   "outputs": [
    {
     "data": {
      "text/latex": [
       "$\\displaystyle \\sqrt{30}$"
      ],
      "text/plain": [
       "sqrt(30)"
      ]
     },
     "execution_count": 6,
     "metadata": {},
     "output_type": "execute_result"
    }
   ],
   "source": [
    "from sympy.solvers import solve\n",
    "n_max=solve(foc,n)[1]\n",
    "n_max"
   ]
  },
  {
   "cell_type": "code",
   "execution_count": 7,
   "id": "9f5cafa7-5343-41d8-88de-4649606aceff",
   "metadata": {},
   "outputs": [
    {
     "data": {
      "text/latex": [
       "$\\displaystyle 5.48$"
      ],
      "text/plain": [
       "5.48"
      ]
     },
     "execution_count": 7,
     "metadata": {},
     "output_type": "execute_result"
    }
   ],
   "source": [
    "round((n_max),2)"
   ]
  }
 ],
 "metadata": {
  "kernelspec": {
   "display_name": "Python 3 (ipykernel)",
   "language": "python",
   "name": "python3"
  },
  "language_info": {
   "codemirror_mode": {
    "name": "ipython",
    "version": 3
   },
   "file_extension": ".py",
   "mimetype": "text/x-python",
   "name": "python",
   "nbconvert_exporter": "python",
   "pygments_lexer": "ipython3",
   "version": "3.9.18"
  }
 },
 "nbformat": 4,
 "nbformat_minor": 5
}
