{
 "cells": [
  {
   "cell_type": "markdown",
   "id": "4b009b68-5e19-464b-9fc8-5f9474af7493",
   "metadata": {
    "tags": []
   },
   "source": [
    "# Sok-2030 Næringsøkonomi og konkuransestrategi\n",
    "## Del 5 Relasjoner mellom bedrifter\n",
    "### Vertikale fusjoner og dobbel-marginalisering\n",
    "\n",
    "Vi antar at vi har to bedrifter, en oppstrømsbedrift U og en nedstrømsbedrift D.Invers ettersprøsel er gitt ved: P(Q) = A - BQ. Oppstrømsbedriften produserer innsatsfaktor som selges til nedstrømsbedriften til pris lik r. Oppstrømsbedriften har marginalkostnader lik c, og nedstrømsbedriften har kun innkjøpskostander på r. \n",
    "### To-trinns spill: \n",
    "    Trinn 1: Oppstrømsbedriften velger optimal pris r\n",
    "    Trinn 2: Nedstrømsbedriften velger kvantum og pris i sluttbrukermarkedet\n",
    "    \n",
    "Vi bruker baklengs indukjon og starter med Trinn 2."
   ]
  },
  {
   "cell_type": "code",
   "execution_count": 2,
   "id": "772f99a9-c84e-4061-bbc7-a4339877cbfd",
   "metadata": {},
   "outputs": [],
   "source": [
    "import sympy as sp\n",
    "from sympy import *\n",
    "import numpy as np\n",
    "from matplotlib import pyplot as plt"
   ]
  },
  {
   "cell_type": "code",
   "execution_count": 3,
   "id": "9b26cf48-7d58-4b5b-a0a6-0ecd67cff545",
   "metadata": {},
   "outputs": [],
   "source": [
    "A, B,Qd,Qr,QI,P,c, r=symbols('A B Qd Qr QI P c r')"
   ]
  },
  {
   "cell_type": "code",
   "execution_count": 4,
   "id": "a4a9c212-1646-4387-8a8a-f12425a4d8ba",
   "metadata": {},
   "outputs": [],
   "source": [
    "def marginalrevenue(Qd):\n",
    "    return (A-2*B*Qd)\n",
    "\n",
    "def marginalcost(r):\n",
    "    return (r)\n"
   ]
  },
  {
   "cell_type": "code",
   "execution_count": 5,
   "id": "9ee21f68-6248-412b-9188-eda9806761b7",
   "metadata": {},
   "outputs": [
    {
     "data": {
      "text/latex": [
       "$\\displaystyle A - 2 B Qd = r$"
      ],
      "text/plain": [
       "Eq(A - 2*B*Qd, r)"
      ]
     },
     "execution_count": 5,
     "metadata": {},
     "output_type": "execute_result"
    }
   ],
   "source": [
    "Q=sp.symbols('Qd', real=True, positive=True)\n",
    "equ=sp.Eq(marginalrevenue(Qd),marginalcost(r))\n",
    "equ"
   ]
  },
  {
   "cell_type": "markdown",
   "id": "eef268be-3754-4a5b-b221-173c7f4fb655",
   "metadata": {},
   "source": [
    "### Optimalt kvantum og pris for nedstrømsbedriften"
   ]
  },
  {
   "cell_type": "code",
   "execution_count": 6,
   "id": "ff112db8-35c1-4ec1-b1f5-60dd1e289df6",
   "metadata": {},
   "outputs": [
    {
     "data": {
      "text/latex": [
       "$\\displaystyle \\frac{A - r}{2 B}$"
      ],
      "text/plain": [
       "(A - r)/(2*B)"
      ]
     },
     "execution_count": 6,
     "metadata": {},
     "output_type": "execute_result"
    }
   ],
   "source": [
    "Qd_equ=sp.solve(equ,Qd)[0]\n",
    "Qd_equ"
   ]
  },
  {
   "cell_type": "code",
   "execution_count": 7,
   "id": "856918a9-da4d-4ad7-b032-512b6d0bf465",
   "metadata": {},
   "outputs": [],
   "source": [
    "def demand(Qd):\n",
    "    return (A-B*Qd)"
   ]
  },
  {
   "cell_type": "code",
   "execution_count": 8,
   "id": "5c667178-7777-43cd-9134-6d66667eef50",
   "metadata": {},
   "outputs": [
    {
     "data": {
      "text/latex": [
       "$\\displaystyle \\frac{A}{2} + \\frac{r}{2}$"
      ],
      "text/plain": [
       "A/2 + r/2"
      ]
     },
     "execution_count": 8,
     "metadata": {},
     "output_type": "execute_result"
    }
   ],
   "source": [
    "P_eq=demand(Qd_equ)\n",
    "P_eq"
   ]
  },
  {
   "cell_type": "markdown",
   "id": "e214a0ca-51b6-4c89-9338-22bff5f30ecf",
   "metadata": {},
   "source": [
    "### Trinn 1. Optimal valg av r\n",
    "Oppstrømsbedriften selger samme kvantum som nedstrømsbedriften(Qd) og står ovenfor etterspørsel lik Q=(A-r)/2B. Invers etter blir da r=A-2BQ."
   ]
  },
  {
   "cell_type": "code",
   "execution_count": 9,
   "id": "002c0d5b-a932-4eb0-a110-1e005f8b3915",
   "metadata": {},
   "outputs": [],
   "source": [
    "def demand(Qr):\n",
    "    return (A-2*B*Qr)\n",
    "\n",
    "def marginalrevenue(Qr):\n",
    "    return (A-4*B*Qr)\n",
    "\n",
    "def marginalcost(c):\n",
    "    return (c)\n"
   ]
  },
  {
   "cell_type": "code",
   "execution_count": 10,
   "id": "473d1be8-95e3-4f2b-b49f-33214af3e5c1",
   "metadata": {},
   "outputs": [
    {
     "data": {
      "text/latex": [
       "$\\displaystyle A - 4 B Qr = c$"
      ],
      "text/plain": [
       "Eq(A - 4*B*Qr, c)"
      ]
     },
     "execution_count": 10,
     "metadata": {},
     "output_type": "execute_result"
    }
   ],
   "source": [
    "Qr=sp.symbols('Qr', real=True, positive=True)\n",
    "equ=sp.Eq(marginalrevenue(Qr),marginalcost(c))\n",
    "equ"
   ]
  },
  {
   "cell_type": "code",
   "execution_count": 11,
   "id": "5b693912-a383-4c2f-a5e4-958535568d76",
   "metadata": {},
   "outputs": [
    {
     "data": {
      "text/latex": [
       "$\\displaystyle \\frac{A - c}{4 B}$"
      ],
      "text/plain": [
       "(A - c)/(4*B)"
      ]
     },
     "execution_count": 11,
     "metadata": {},
     "output_type": "execute_result"
    }
   ],
   "source": [
    "Qr_equ=sp.solve(equ,Qr)[0]\n",
    "Qr_equ"
   ]
  },
  {
   "cell_type": "code",
   "execution_count": 12,
   "id": "04987f25-1ddf-41a4-8de7-b75e07cf2ea3",
   "metadata": {},
   "outputs": [
    {
     "data": {
      "text/latex": [
       "$\\displaystyle \\frac{A}{2} + \\frac{c}{2}$"
      ],
      "text/plain": [
       "A/2 + c/2"
      ]
     },
     "execution_count": 12,
     "metadata": {},
     "output_type": "execute_result"
    }
   ],
   "source": [
    "# optimal pris fra oppstrømsbedriften\n",
    "r_eq=demand(Qr_equ)\n",
    "r_eq"
   ]
  },
  {
   "cell_type": "code",
   "execution_count": 13,
   "id": "e605a2d1-8987-4965-9554-c62f3bf24290",
   "metadata": {},
   "outputs": [
    {
     "data": {
      "text/latex": [
       "$\\displaystyle \\frac{3 A}{4} + \\frac{c}{4}$"
      ],
      "text/plain": [
       "3*A/4 + c/4"
      ]
     },
     "execution_count": 13,
     "metadata": {},
     "output_type": "execute_result"
    }
   ],
   "source": [
    "# Finner pris ved å sette totalt kvantum og pris fra oppstrømsbedriften inn i etterspørselen til nedstrømsbedriften\n",
    "P_eq.subs({Qd:Qd_equ,r:r_eq})"
   ]
  },
  {
   "cell_type": "code",
   "execution_count": 17,
   "id": "f4352933-4dfa-476d-98f7-f5e1a28a262d",
   "metadata": {},
   "outputs": [
    {
     "data": {
      "text/latex": [
       "$\\displaystyle \\frac{A - c}{4 B}$"
      ],
      "text/plain": [
       "(A - c)/(4*B)"
      ]
     },
     "execution_count": 17,
     "metadata": {},
     "output_type": "execute_result"
    }
   ],
   "source": [
    "# Optimal kvantum i sluttmarkedet:\n",
    "Qd_opt=Qd_equ.subs({r:r_eq})\n",
    "sp.simplify(Qd_opt)"
   ]
  },
  {
   "cell_type": "code",
   "execution_count": 24,
   "id": "b738fc51-1df7-4024-bf39-08ca4e55b4db",
   "metadata": {},
   "outputs": [
    {
     "data": {
      "text/latex": [
       "$\\displaystyle \\frac{\\left(A - c\\right)^{2}}{8 B}$"
      ],
      "text/plain": [
       "(A - c)**2/(8*B)"
      ]
     },
     "execution_count": 24,
     "metadata": {},
     "output_type": "execute_result"
    }
   ],
   "source": [
    "# profitt for oppstrømsbedriften\n",
    "def profitt(Qr):\n",
    "    return (r_eq-marginalcost(c))*Qr_equ\n",
    "\n",
    "sp.simplify(profitt(Qr_equ))"
   ]
  },
  {
   "cell_type": "code",
   "execution_count": 26,
   "id": "eedb2947-7dd3-41a1-9cb8-57729c773293",
   "metadata": {},
   "outputs": [
    {
     "data": {
      "text/latex": [
       "$\\displaystyle \\frac{\\left(A - c\\right)^{2}}{16 B}$"
      ],
      "text/plain": [
       "(A - c)**2/(16*B)"
      ]
     },
     "execution_count": 26,
     "metadata": {},
     "output_type": "execute_result"
    }
   ],
   "source": [
    "# profitt for nedstrømsbedriften\n",
    "def profitt(Qd):\n",
    "    return (P_eq.subs({Qd:Qd_equ,r:r_eq})-r_eq)*Qd_equ.subs({Qd:Qd_equ,r:r_eq})\n",
    "\n",
    "sp.simplify(profitt(Qr_equ))"
   ]
  },
  {
   "cell_type": "markdown",
   "id": "d283a1ae-430f-4515-8d2c-2025d517d6be",
   "metadata": {},
   "source": [
    "## Vertikal integrasjon\n",
    "Anta at oppstrøms- og nedstrømabedriften fusjonerer, og vil da opptre som en monopolist."
   ]
  },
  {
   "cell_type": "code",
   "execution_count": 27,
   "id": "2a170129-b37e-4b0f-ab37-527a15dee82d",
   "metadata": {},
   "outputs": [],
   "source": [
    "def demand(QI):\n",
    "    return (A-B*QI)\n",
    "\n",
    "def marginalrevenue(QI):\n",
    "    return (A-2*B*QI)\n",
    "\n",
    "def marginalcost(c):\n",
    "    return (c)"
   ]
  },
  {
   "cell_type": "code",
   "execution_count": 28,
   "id": "fbb517f5-387a-4985-9208-fa6de189ee30",
   "metadata": {},
   "outputs": [
    {
     "data": {
      "text/latex": [
       "$\\displaystyle A - 2 B QI = c$"
      ],
      "text/plain": [
       "Eq(A - 2*B*QI, c)"
      ]
     },
     "execution_count": 28,
     "metadata": {},
     "output_type": "execute_result"
    }
   ],
   "source": [
    "QI=sp.symbols('QI', real=True, positive=True)\n",
    "equ=sp.Eq(marginalrevenue(QI),marginalcost(c))\n",
    "equ"
   ]
  },
  {
   "cell_type": "markdown",
   "id": "5f105a41-bec6-40ba-80dc-c577b1cdaf88",
   "metadata": {},
   "source": [
    "Optimal kvantum og pris for monopolisten:"
   ]
  },
  {
   "cell_type": "code",
   "execution_count": 29,
   "id": "615163f5-691c-46be-95d4-9c3706392b5c",
   "metadata": {},
   "outputs": [
    {
     "data": {
      "text/latex": [
       "$\\displaystyle \\frac{A - c}{2 B}$"
      ],
      "text/plain": [
       "(A - c)/(2*B)"
      ]
     },
     "execution_count": 29,
     "metadata": {},
     "output_type": "execute_result"
    }
   ],
   "source": [
    "QI_equ=sp.solve(equ,QI)[0]\n",
    "QI_equ"
   ]
  },
  {
   "cell_type": "code",
   "execution_count": 30,
   "id": "60a61620-8d3f-4a75-8a5b-11cd295c62c3",
   "metadata": {},
   "outputs": [
    {
     "data": {
      "text/latex": [
       "$\\displaystyle \\frac{A}{2} + \\frac{c}{2}$"
      ],
      "text/plain": [
       "A/2 + c/2"
      ]
     },
     "execution_count": 30,
     "metadata": {},
     "output_type": "execute_result"
    }
   ],
   "source": [
    "P_eq=demand(QI_equ)\n",
    "P_eq"
   ]
  },
  {
   "cell_type": "code",
   "execution_count": 33,
   "id": "1b57f140-087c-43c2-a2b4-2c996b1362b0",
   "metadata": {},
   "outputs": [
    {
     "data": {
      "text/latex": [
       "$\\displaystyle \\frac{\\left(A - c\\right)^{2}}{4 B}$"
      ],
      "text/plain": [
       "(A - c)**2/(4*B)"
      ]
     },
     "execution_count": 33,
     "metadata": {},
     "output_type": "execute_result"
    }
   ],
   "source": [
    "# profitt for den integrerte bedriften\n",
    "def profitt(Qr):\n",
    "    return (P_eq-marginalcost(c))*QI_equ\n",
    "\n",
    "sp.simplify(profitt(Qr_equ))"
   ]
  },
  {
   "cell_type": "code",
   "execution_count": null,
   "id": "860ef207-6093-4344-bff2-06751480f25b",
   "metadata": {},
   "outputs": [],
   "source": []
  }
 ],
 "metadata": {
  "kernelspec": {
   "display_name": "Python 3 (ipykernel)",
   "language": "python",
   "name": "python3"
  },
  "language_info": {
   "codemirror_mode": {
    "name": "ipython",
    "version": 3
   },
   "file_extension": ".py",
   "mimetype": "text/x-python",
   "name": "python",
   "nbconvert_exporter": "python",
   "pygments_lexer": "ipython3",
   "version": "3.9.18"
  }
 },
 "nbformat": 4,
 "nbformat_minor": 5
}
