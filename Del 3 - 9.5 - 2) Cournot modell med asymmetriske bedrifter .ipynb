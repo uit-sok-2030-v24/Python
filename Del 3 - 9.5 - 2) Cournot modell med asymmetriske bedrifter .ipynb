{
 "cells": [
  {
   "cell_type": "markdown",
   "id": "ae624248-9e0f-4a2d-b39a-b6e08fccf051",
   "metadata": {
    "tags": []
   },
   "source": [
    "# Sok-2030 Næringsøkonomi og konkuransestrategi\n",
    "## Del 3 Oligopolmodeller\n",
    "### Cournot modell med asymmetriske bedrifter\n",
    "\n",
    "Nummerisk eksempel: Invers etterspørsel: P = 120 - 20Q, marginalkostnad til bedrift 1 er lik 20 og bedrift 2 har marginalkostnader på 40\n"
   ]
  },
  {
   "cell_type": "code",
   "execution_count": 2,
   "id": "da0a30f2-b514-45cc-8f5c-d8bbaab1c91a",
   "metadata": {},
   "outputs": [],
   "source": [
    "import sympy as sp\n",
    "import numpy as np\n",
    "from matplotlib import pyplot as plt"
   ]
  },
  {
   "cell_type": "code",
   "execution_count": 2,
   "id": "46cd149d-9c80-4c34-b93e-022460d0783a",
   "metadata": {},
   "outputs": [],
   "source": [
    "def demand_1(q1):\n",
    "           return (120-20*q1-20*q2)"
   ]
  },
  {
   "cell_type": "code",
   "execution_count": 3,
   "id": "ea7049cc-ab47-4dec-84e5-8339f6cc9020",
   "metadata": {},
   "outputs": [],
   "source": [
    "def demand_2(q2):\n",
    "           return (120-20*q1-20*q2)"
   ]
  },
  {
   "cell_type": "code",
   "execution_count": 4,
   "id": "b61c9f33-2755-458c-aec1-99ea467cc27b",
   "metadata": {},
   "outputs": [],
   "source": [
    "def marginalrevenue_1(q1):\n",
    "    return (120-40*q1-20*q2)"
   ]
  },
  {
   "cell_type": "code",
   "execution_count": 5,
   "id": "c78569c0-d7eb-43f7-8db5-aba50d144e0e",
   "metadata": {},
   "outputs": [],
   "source": [
    "def marginalrevenue_2(q2):\n",
    "    return (120-20*q1-40*q2)"
   ]
  },
  {
   "cell_type": "markdown",
   "id": "8d78c376-d55b-450b-8556-5d698d346198",
   "metadata": {},
   "source": [
    "Optimal tilpasning der MR = MC"
   ]
  },
  {
   "cell_type": "code",
   "execution_count": 9,
   "id": "171d34cc-4ba0-46a7-868a-909f4ba32561",
   "metadata": {},
   "outputs": [
    {
     "data": {
      "text/latex": [
       "$\\displaystyle - 20 q_{1} - 40 q_{2} + 120 = 40$"
      ],
      "text/plain": [
       "Eq(-20*q1 - 40*q2 + 120, 40)"
      ]
     },
     "execution_count": 9,
     "metadata": {},
     "output_type": "execute_result"
    }
   ],
   "source": [
    "q2=sp.symbols('q2', real=True, positive=True)\n",
    "q1=sp.symbols('q1', real=True, positive=True)\n",
    "equ=sp.Eq(marginalrevenue_2(q2),40)\n",
    "equ"
   ]
  },
  {
   "cell_type": "code",
   "execution_count": 14,
   "id": "b30bc32e-cf33-43b8-a7c3-6b357d104a14",
   "metadata": {},
   "outputs": [
    {
     "data": {
      "text/latex": [
       "$\\displaystyle 2 - \\frac{q_{1}}{2}$"
      ],
      "text/plain": [
       "2 - q1/2"
      ]
     },
     "execution_count": 14,
     "metadata": {},
     "output_type": "execute_result"
    }
   ],
   "source": [
    "#reaksjonsfunksjon til bedrift 2\n",
    "q2_equ=sp.solve(equ,q2)[0]\n",
    "q2_equ"
   ]
  },
  {
   "cell_type": "code",
   "execution_count": 19,
   "id": "b9cc8f8b-771a-4459-9ee2-431b9c4ab3d4",
   "metadata": {},
   "outputs": [
    {
     "data": {
      "text/latex": [
       "$\\displaystyle - 40 q_{1} - 20 q_{2} + 120 = 20$"
      ],
      "text/plain": [
       "Eq(-40*q1 - 20*q2 + 120, 20)"
      ]
     },
     "execution_count": 19,
     "metadata": {},
     "output_type": "execute_result"
    }
   ],
   "source": [
    "q1=sp.symbols('q1', real=True, positive=True)\n",
    "equ=sp.Eq(marginalrevenue_1(q1),20)\n",
    "equ"
   ]
  },
  {
   "cell_type": "code",
   "execution_count": 20,
   "id": "96913f16-7a65-4243-9ccd-68f387aa76cb",
   "metadata": {},
   "outputs": [
    {
     "data": {
      "text/latex": [
       "$\\displaystyle \\frac{5}{2} - \\frac{q_{2}}{2}$"
      ],
      "text/plain": [
       "5/2 - q2/2"
      ]
     },
     "execution_count": 20,
     "metadata": {},
     "output_type": "execute_result"
    }
   ],
   "source": [
    "#reaksjonsfunksjon til bedrift 1\n",
    "q1_equ=sp.solve(equ,q1)[0]\n",
    "q1_equ"
   ]
  },
  {
   "cell_type": "markdown",
   "id": "3e3d2faf-40e6-41ef-bdec-86e3b2ba1897",
   "metadata": {},
   "source": [
    "\n",
    "Cournot likevekt finner vi ved å sette RF2 inn i RF1 \n"
   ]
  },
  {
   "cell_type": "code",
   "execution_count": 13,
   "id": "69859f30-6955-4945-a1cd-61d794f1e2d5",
   "metadata": {},
   "outputs": [],
   "source": [
    "from sympy.solvers import solve"
   ]
  },
  {
   "cell_type": "code",
   "execution_count": 3,
   "id": "94597c4c-9639-4732-8249-dd1f0db5c268",
   "metadata": {},
   "outputs": [],
   "source": [
    "q1,q2=sp.symbols(\"q1 q2\")\n",
    "symbols=[q1,q2]\n",
    "equations=[\n",
    "    sp.Eq(5/2-0.5*q2-q1,0),\n",
    "    sp.Eq(2-0.5*q1-q2,0)\n",
    "]"
   ]
  },
  {
   "cell_type": "code",
   "execution_count": 16,
   "id": "bca9af75-132e-4130-a99b-51a4d609320c",
   "metadata": {},
   "outputs": [
    {
     "data": {
      "text/plain": [
       "{q1: 2.00000000000000, q2: 1.00000000000000}"
      ]
     },
     "execution_count": 16,
     "metadata": {},
     "output_type": "execute_result"
    }
   ],
   "source": [
    "# Optimalt kvantum\n",
    "solve(equations,symbols)"
   ]
  },
  {
   "cell_type": "code",
   "execution_count": 11,
   "id": "d9a3b4c0-ee8a-493a-9cc3-6f50a14e4c86",
   "metadata": {},
   "outputs": [
    {
     "name": "stdout",
     "output_type": "stream",
     "text": [
      "60\n"
     ]
    }
   ],
   "source": [
    "# Optimal pris\n",
    "print (120-20*(2+1))"
   ]
  },
  {
   "cell_type": "code",
   "execution_count": 13,
   "id": "e113d109-b461-4cd1-8f92-bbd806b4537a",
   "metadata": {},
   "outputs": [
    {
     "name": "stdout",
     "output_type": "stream",
     "text": [
      "80\n"
     ]
    }
   ],
   "source": [
    "# Profitt for bedrift 1:\n",
    "print((60-20)*2)"
   ]
  },
  {
   "cell_type": "code",
   "execution_count": 14,
   "id": "3884d051-6011-4124-babd-49a746cc40e4",
   "metadata": {},
   "outputs": [
    {
     "name": "stdout",
     "output_type": "stream",
     "text": [
      "20\n"
     ]
    }
   ],
   "source": [
    "# Profitt for bedrift 1:\n",
    "print((60-40)*1)"
   ]
  },
  {
   "cell_type": "code",
   "execution_count": null,
   "id": "3cf0269d-0780-4da4-9129-e0a23c874094",
   "metadata": {},
   "outputs": [],
   "source": []
  }
 ],
 "metadata": {
  "kernelspec": {
   "display_name": "Python 3 (ipykernel)",
   "language": "python",
   "name": "python3"
  },
  "language_info": {
   "codemirror_mode": {
    "name": "ipython",
    "version": 3
   },
   "file_extension": ".py",
   "mimetype": "text/x-python",
   "name": "python",
   "nbconvert_exporter": "python",
   "pygments_lexer": "ipython3",
   "version": "3.9.18"
  }
 },
 "nbformat": 4,
 "nbformat_minor": 5
}
