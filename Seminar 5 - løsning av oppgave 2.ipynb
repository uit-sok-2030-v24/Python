{
 "cells": [
  {
   "cell_type": "markdown",
   "id": "4f22532c-c787-43ce-a266-7656ed6eed79",
   "metadata": {},
   "source": [
    "### Seminar 4 - Oppgaver oligopolmodeller\n",
    "\n",
    "\n",
    "Oppgave 1 \n",
    "\n",
    "I denne oppgaven skal du anta at den «lineære byen» er ved Strandtorget hvor Kaffebønna er lokalisert i den ene enden av gata og Risø mat & kaffebar er lokalisert i den andre enden av gata. Anta at det er 30 000 kunder (N=30 000) som er jevnt fordelt langs lokaliseringsområdet til utsalgsstedene, og at hver kunde kjøper en kopp kaffe per dag. Kostnaden ved å produsere en kopp kaffe er NOK 5, og bedriftene har faste kostnader per utsalgssted på NOK 25 000. Transportkostnadene for kundene er på NOK 50. \n",
    "\n",
    "a)\tBruk en Hotelling modell og vis hvordan disse to kaffebarene vil tilpasse seg i dette markedet. Hva er optimal pris på en kopp kaffe og hva blir profitten til Kaffebønna og Risø?\n"
   ]
  },
  {
   "cell_type": "code",
   "execution_count": 1,
   "id": "56525a57-21df-48fb-a1c8-ea626bd55923",
   "metadata": {},
   "outputs": [],
   "source": [
    "from sympy import *\n",
    "import sympy as sp\n",
    "from matplotlib import pyplot as plt\n",
    "import numpy as np"
   ]
  },
  {
   "cell_type": "code",
   "execution_count": 2,
   "id": "819e6faa-7c14-47f4-9c5a-01aae9b8147d",
   "metadata": {},
   "outputs": [],
   "source": [
    "P1, P2=symbols('P1 P2')"
   ]
  },
  {
   "cell_type": "code",
   "execution_count": 4,
   "id": "88c37074-73a2-416c-bdae-c6fa844c8378",
   "metadata": {},
   "outputs": [
    {
     "data": {
      "text/latex": [
       "$\\displaystyle 300 \\left(P_{1} - 5\\right) \\left(- P_{1} + P_{2} + 50\\right)$"
      ],
      "text/plain": [
       "300*(P1 - 5)*(-P1 + P2 + 50)"
      ]
     },
     "execution_count": 4,
     "metadata": {},
     "output_type": "execute_result"
    }
   ],
   "source": [
    "def profitt1(P1,P2):\n",
    "    return ((P1-5)*(P2-P1+50)*300)\n",
    "profitt1(P1,P2)"
   ]
  },
  {
   "cell_type": "code",
   "execution_count": 5,
   "id": "13c2075e-7bc2-4dcf-89f0-0e643c5f03bc",
   "metadata": {},
   "outputs": [
    {
     "data": {
      "text/latex": [
       "$\\displaystyle 300 \\left(P_{2} - 5\\right) \\left(P_{1} - P_{2} + 50\\right)$"
      ],
      "text/plain": [
       "300*(P2 - 5)*(P1 - P2 + 50)"
      ]
     },
     "execution_count": 5,
     "metadata": {},
     "output_type": "execute_result"
    }
   ],
   "source": [
    "def profitt2(P1,P2):\n",
    "    return ((P2-5)*(P1-P2+50)*300)\n",
    "profitt2(P1,P2)"
   ]
  },
  {
   "cell_type": "code",
   "execution_count": 6,
   "id": "2f6f057d-ca08-4e19-b2c8-cbdcc64989ca",
   "metadata": {},
   "outputs": [
    {
     "data": {
      "text/latex": [
       "$\\displaystyle - 600 P_{1} + 300 P_{2} + 16500$"
      ],
      "text/plain": [
       "-600*P1 + 300*P2 + 16500"
      ]
     },
     "metadata": {},
     "output_type": "display_data"
    },
    {
     "data": {
      "text/latex": [
       "$\\displaystyle 300 P_{1} - 600 P_{2} + 16500$"
      ],
      "text/plain": [
       "300*P1 - 600*P2 + 16500"
      ]
     },
     "metadata": {},
     "output_type": "display_data"
    }
   ],
   "source": [
    "# den deriverte av profittfunksjonen mhp P1 og P2\n",
    "d_profitt1=diff(profitt1(P1,P2),P1)\n",
    "d_profitt2=diff(profitt2(P1,P2),P2)\n",
    "\n",
    "display(d_profitt1)\n",
    "display(d_profitt2)"
   ]
  },
  {
   "cell_type": "code",
   "execution_count": 7,
   "id": "f3ef104f-e101-4fa9-a94c-5a1a888b1329",
   "metadata": {},
   "outputs": [
    {
     "data": {
      "text/latex": [
       "$\\displaystyle \\frac{P_{2}}{2} + \\frac{55}{2}$"
      ],
      "text/plain": [
       "P2/2 + 55/2"
      ]
     },
     "execution_count": 7,
     "metadata": {},
     "output_type": "execute_result"
    }
   ],
   "source": [
    "#reaksjonsfunksjon til bedrift 1\n",
    "P1_equ=sp.solve(d_profitt1,P1)[0]\n",
    "P1_equ"
   ]
  },
  {
   "cell_type": "code",
   "execution_count": 8,
   "id": "9defa636-003a-4f1e-8542-833deeb77537",
   "metadata": {},
   "outputs": [
    {
     "data": {
      "text/latex": [
       "$\\displaystyle \\frac{P_{1}}{2} + \\frac{55}{2}$"
      ],
      "text/plain": [
       "P1/2 + 55/2"
      ]
     },
     "execution_count": 8,
     "metadata": {},
     "output_type": "execute_result"
    }
   ],
   "source": [
    "#reaksjonsfunksjon til bedrift 2\n",
    "P2_equ=sp.solve(d_profitt2,P2)[0]\n",
    "P2_equ"
   ]
  },
  {
   "cell_type": "code",
   "execution_count": 9,
   "id": "3dfcfb72-f7e4-43c4-8cc6-cf7a7f535b52",
   "metadata": {},
   "outputs": [
    {
     "data": {
      "text/latex": [
       "$\\displaystyle 55$"
      ],
      "text/plain": [
       "55"
      ]
     },
     "metadata": {},
     "output_type": "display_data"
    },
    {
     "data": {
      "text/latex": [
       "$\\displaystyle 55$"
      ],
      "text/plain": [
       "55"
      ]
     },
     "metadata": {},
     "output_type": "display_data"
    }
   ],
   "source": [
    "# Optimal pris for bedrift 1 og 2\n",
    "sol=solve([d_profitt1,d_profitt2],[P1,P2])\n",
    "\n",
    "display(sol[P1])\n",
    "display(sol[P2])"
   ]
  }
 ],
 "metadata": {
  "kernelspec": {
   "display_name": "Python 3 (ipykernel)",
   "language": "python",
   "name": "python3"
  },
  "language_info": {
   "codemirror_mode": {
    "name": "ipython",
    "version": 3
   },
   "file_extension": ".py",
   "mimetype": "text/x-python",
   "name": "python",
   "nbconvert_exporter": "python",
   "pygments_lexer": "ipython3",
   "version": "3.9.18"
  }
 },
 "nbformat": 4,
 "nbformat_minor": 5
}
