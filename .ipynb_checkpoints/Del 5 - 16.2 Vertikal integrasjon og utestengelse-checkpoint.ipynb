{
 "cells": [
  {
   "cell_type": "code",
   "execution_count": 1,
   "id": "ec4cdcb0-ec73-463a-bd7f-300066ab458a",
   "metadata": {},
   "outputs": [],
   "source": [
    "import sympy as sp\n",
    "from sympy import *\n",
    "import numpy as np\n",
    "from matplotlib import pyplot as plt"
   ]
  },
  {
   "cell_type": "code",
   "execution_count": 3,
   "id": "41b20459-9c80-4870-8c44-2bc972ec2103",
   "metadata": {},
   "outputs": [],
   "source": [
    "qMR1, qR2, qM2,c,k,w, A, B, QR, QM =symbols('q^MR_1 q^R_2 q^M_2 c k w A B Q^R Q^M ', \n",
    "                                          positive=True)"
   ]
  },
  {
   "cell_type": "code",
   "execution_count": null,
   "id": "68cb116d-3b70-4cfc-8c3e-381ebeb01188",
   "metadata": {},
   "outputs": [],
   "source": [
    "def demand_1R(qMR1):\n",
    "           return (A-B*qR1-B*qR2)"
   ]
  },
  {
   "cell_type": "code",
   "execution_count": null,
   "id": "44f6f431-42b0-48d7-856f-bb9ed615159c",
   "metadata": {},
   "outputs": [],
   "source": [
    "def demand_2R(qR2):\n",
    "           return (A-B*qMR1-B*qR2)"
   ]
  },
  {
   "cell_type": "code",
   "execution_count": 4,
   "id": "f79092f1-71e9-4a3d-bf8a-005a6222fbef",
   "metadata": {},
   "outputs": [],
   "source": [
    "def marginalrevenue_1R(qMR1):\n",
    "    return (A-2*B*qMR1-B*qR2)"
   ]
  },
  {
   "cell_type": "code",
   "execution_count": 5,
   "id": "9065352a-c0f5-41ca-ae02-b8ddd2ef31e0",
   "metadata": {},
   "outputs": [],
   "source": [
    "def marginalrevenue_2R(qR2):\n",
    "    return (A-B*qMR1-2*B*qR2)"
   ]
  },
  {
   "cell_type": "code",
   "execution_count": 6,
   "id": "21f6e52f-a29c-4ed8-be16-62af4863f579",
   "metadata": {},
   "outputs": [
    {
     "data": {
      "text/latex": [
       "$\\displaystyle A - B q^{MR}_{1} - 2 B q^{R}_{2} = k + w$"
      ],
      "text/plain": [
       "Eq(A - B*q^MR_1 - 2*B*q^R_2, k + w)"
      ]
     },
     "execution_count": 6,
     "metadata": {},
     "output_type": "execute_result"
    }
   ],
   "source": [
    "equ_R2 = sp.Eq(marginalrevenue_2R(qR2),w+k)\n",
    "equ_R2"
   ]
  },
  {
   "cell_type": "code",
   "execution_count": 10,
   "id": "bcbdb1c0-c8e1-434c-b8b1-0338d1abb75f",
   "metadata": {},
   "outputs": [
    {
     "data": {
      "text/latex": [
       "$\\displaystyle A - 2 B q^{MR}_{1} - B q^{R}_{2} = c + k$"
      ],
      "text/plain": [
       "Eq(A - 2*B*q^MR_1 - B*q^R_2, c + k)"
      ]
     },
     "execution_count": 10,
     "metadata": {},
     "output_type": "execute_result"
    }
   ],
   "source": [
    "equ_MR1 = sp.Eq(marginalrevenue_1R(qMR1),c+k)\n",
    "equ_MR1"
   ]
  },
  {
   "cell_type": "code",
   "execution_count": 11,
   "id": "7e2bd4af-d3fc-427d-9593-a252b3ee16b2",
   "metadata": {},
   "outputs": [
    {
     "data": {
      "text/latex": [
       "$\\displaystyle \\frac{A - B q^{R}_{2} - c - k}{2 B}$"
      ],
      "text/plain": [
       "(A - B*q^R_2 - c - k)/(2*B)"
      ]
     },
     "execution_count": 11,
     "metadata": {},
     "output_type": "execute_result"
    }
   ],
   "source": [
    "#reaksjonsfunksjon til bedrift 1\n",
    "qMR1_equ = sp.solve(equ_MR1, qMR1)[0]\n",
    "qMR1_equ"
   ]
  },
  {
   "cell_type": "code",
   "execution_count": 12,
   "id": "9069f646-721c-4cd2-8f34-691b346e8934",
   "metadata": {},
   "outputs": [
    {
     "data": {
      "text/latex": [
       "$\\displaystyle \\frac{A - B q^{MR}_{1} - k - w}{2 B}$"
      ],
      "text/plain": [
       "(A - B*q^MR_1 - k - w)/(2*B)"
      ]
     },
     "execution_count": 12,
     "metadata": {},
     "output_type": "execute_result"
    }
   ],
   "source": [
    "#reaksjonsfunksjon til bedrift 2\n",
    "qR2_equ=sp.solve(equ_R2,qR2)[0]\n",
    "qR2_equ"
   ]
  },
  {
   "cell_type": "code",
   "execution_count": 14,
   "id": "70a07980-4723-4f54-8a6c-aad55690c90c",
   "metadata": {},
   "outputs": [
    {
     "data": {
      "text/latex": [
       "$\\displaystyle \\frac{A + c - k - 2 w}{3 B}$"
      ],
      "text/plain": [
       "(A + c - k - 2*w)/(3*B)"
      ]
     },
     "execution_count": 14,
     "metadata": {},
     "output_type": "execute_result"
    }
   ],
   "source": [
    "# setter uttrykk for q1 inn i q2\n",
    "qR2_unresv_eq = qR2_equ.subs(qMR1, qMR1_equ)\n",
    "qR2_opt = sp.solve(sp.Eq(qR2, qR2_unresv_eq), qR2)[0]\n",
    "qR2_opt"
   ]
  },
  {
   "cell_type": "code",
   "execution_count": 16,
   "id": "bb3e1b61-a13f-45f3-94ed-f087d3468aa4",
   "metadata": {},
   "outputs": [
    {
     "data": {
      "text/latex": [
       "$\\displaystyle q^{R}_{2} = \\frac{A + c - k - 2 w}{3 B}$"
      ],
      "text/plain": [
       "Eq(q^R_2, (A + c - k - 2*w)/(3*B))"
      ]
     },
     "execution_count": 16,
     "metadata": {},
     "output_type": "execute_result"
    }
   ],
   "source": [
    "# Kvantum for R2\n",
    "qR2_unresv = sp.Eq(qR2, qR2_opt)\n",
    "qR2_unresv"
   ]
  },
  {
   "cell_type": "code",
   "execution_count": 17,
   "id": "c2348145-c72b-4624-ab63-048e8d5a21af",
   "metadata": {},
   "outputs": [
    {
     "data": {
      "text/latex": [
       "$\\displaystyle \\frac{A - 2 c - k + w}{3 B}$"
      ],
      "text/plain": [
       "(A - 2*c - k + w)/(3*B)"
      ]
     },
     "execution_count": 17,
     "metadata": {},
     "output_type": "execute_result"
    }
   ],
   "source": [
    "# setter uttrykk for q2 inn i q1\n",
    "qMR1_unresv_eq = qMR1_equ.subs(qR2, qR2_equ)\n",
    "qMR1_opt = sp.solve(sp.Eq(qMR1, qMR1_unresv_eq), qMR1)[0]\n",
    "qMR1_opt"
   ]
  },
  {
   "cell_type": "code",
   "execution_count": 18,
   "id": "9868900e-f011-49ca-aa84-a4ad2e030322",
   "metadata": {},
   "outputs": [
    {
     "data": {
      "text/latex": [
       "$\\displaystyle q^{MR}_{1} = \\frac{A - 2 c - k + w}{3 B}$"
      ],
      "text/plain": [
       "Eq(q^MR_1, (A - 2*c - k + w)/(3*B))"
      ]
     },
     "execution_count": 18,
     "metadata": {},
     "output_type": "execute_result"
    }
   ],
   "source": [
    "# Kvantum for MR1\n",
    "qMR1_unresv = sp.Eq(qMR1, qMR1_opt)\n",
    "qMR1_unresv"
   ]
  },
  {
   "cell_type": "code",
   "execution_count": 19,
   "id": "4fc7f174-a24e-4941-8a02-26d045a74689",
   "metadata": {},
   "outputs": [
    {
     "data": {
      "text/latex": [
       "$\\displaystyle \\frac{A}{2} - \\frac{3 B q^{R}_{2}}{2} + \\frac{c}{2} - \\frac{k}{2}$"
      ],
      "text/plain": [
       "A/2 - 3*B*q^R_2/2 + c/2 - k/2"
      ]
     },
     "execution_count": 19,
     "metadata": {},
     "output_type": "execute_result"
    }
   ],
   "source": [
    "# Invers etterspørsel til M2 vil være lik optimalt kvantum til R2\n",
    "w_equ = sp.solve(qR2_unresv, w)[0]\n",
    "w_equ"
   ]
  },
  {
   "cell_type": "code",
   "execution_count": null,
   "id": "c628ff0a-9f3c-488b-bf16-7291cb1ab7fa",
   "metadata": {},
   "outputs": [],
   "source": [
    "# Kvantum for MR1\n",
    "qMR1_unresv = sp.Eq(qMR1, qMR1_opt)\n",
    "qMR1_unresv"
   ]
  }
 ],
 "metadata": {
  "kernelspec": {
   "display_name": "Python 3 (ipykernel)",
   "language": "python",
   "name": "python3"
  },
  "language_info": {
   "codemirror_mode": {
    "name": "ipython",
    "version": 3
   },
   "file_extension": ".py",
   "mimetype": "text/x-python",
   "name": "python",
   "nbconvert_exporter": "python",
   "pygments_lexer": "ipython3",
   "version": "3.9.18"
  }
 },
 "nbformat": 4,
 "nbformat_minor": 5
}
