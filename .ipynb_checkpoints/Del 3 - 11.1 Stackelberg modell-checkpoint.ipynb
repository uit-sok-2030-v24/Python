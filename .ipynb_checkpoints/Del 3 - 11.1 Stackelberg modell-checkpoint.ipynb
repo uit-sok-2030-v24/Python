{
 "cells": [
  {
   "cell_type": "markdown",
   "id": "2588f39d-f57c-4569-bffa-3f7571ca90e0",
   "metadata": {},
   "source": [
    "# Sok-2030 Næringsøkonomi og konkuransestrategi\n",
    "## Del 3 Oligopolmodeller\n",
    "### Stackelberg \n",
    "Ved Stackelberg modell er kvantum bedriftens handlingsvariable og bedriftene gjør sine valg sekvensielt. Lederbedriften velger først hvor mye den vil produser og deretter velger følgerbedriften sitt volum. Prisen er gitt ved etterspørselsfunksjonen.\n",
    "\n",
    "Vi antar at vi har to bedrifter som konkurrer med kvantum som strategisk variabel. Invers ettersprøsel er gitt ved: P(Q) = a-bQ = a-bq1 -bq2. Vi antar at bedriften har identiske marginalkostnader lik c, \n",
    "\n",
    "Kode her er basert på notebook fra seminar sok-2030 vår 2022 (Espen Sirnes)."
   ]
  },
  {
   "cell_type": "code",
   "execution_count": 2,
   "id": "d0bbbf9e-c0bd-4ea6-80df-9ab766d6a885",
   "metadata": {},
   "outputs": [],
   "source": [
    "from sympy import *\n",
    "from matplotlib import pyplot as plt\n",
    "import numpy as np"
   ]
  },
  {
   "cell_type": "code",
   "execution_count": 27,
   "id": "9effad66-4eb1-4954-956a-2af5c47a08dd",
   "metadata": {},
   "outputs": [],
   "source": [
    "q1, q2,c, a, b, pi,i=symbols('q1 q2 c a b pi i')\n",
    "\n",
    "def P_demand(Q,a,b):\n",
    "    return a-b*Q\n",
    "\n",
    "def profit(q1,q2,c,a,b):\n",
    "    return (P_demand(q1+q2,a,b)-c)*q1"
   ]
  },
  {
   "cell_type": "markdown",
   "id": "fdb875a8-eafd-4a7e-9861-797834651972",
   "metadata": {
    "tags": []
   },
   "source": [
    "Modellen løses i to trinn. På trinn 1 velger lederbedriften sitt kvantum og på trinn 2 velger følgerbedriften sitt optimale kvantum. Modellen løses ved baklengs induksjon, dvs av vi starter på trinn 2"
   ]
  },
  {
   "cell_type": "markdown",
   "id": "124c144f-75b8-49e3-b1a3-51f389439f8e",
   "metadata": {},
   "source": [
    "Vi dereiverer profittfunksjon til bedrift 2 mhp q2: π2 = (P-c)*q2=(a-b(q1+q2)-c)*q2"
   ]
  },
  {
   "cell_type": "code",
   "execution_count": 28,
   "id": "126384d6-2b30-4af2-ac94-cb58f5287416",
   "metadata": {},
   "outputs": [
    {
     "data": {
      "text/latex": [
       "$\\displaystyle a - b q_{2} - b \\left(q_{1} + q_{2}\\right) - c$"
      ],
      "text/plain": [
       "a - b*q2 - b*(q1 + q2) - c"
      ]
     },
     "execution_count": 28,
     "metadata": {},
     "output_type": "execute_result"
    }
   ],
   "source": [
    "d_profit2_Q=diff(profit(q2,q1,c,a,b),q2)\n",
    "d_profit2_Q"
   ]
  },
  {
   "cell_type": "markdown",
   "id": "ac677db4-c134-452b-ba89-9e85eaaf5131",
   "metadata": {},
   "source": [
    "Setter den derivert lik 0 og finner reaksjonsfunksjon til bedrift 2"
   ]
  },
  {
   "cell_type": "code",
   "execution_count": 29,
   "id": "bfa1c208-4b6d-4cc4-9372-1b6be878e480",
   "metadata": {},
   "outputs": [
    {
     "data": {
      "text/latex": [
       "$\\displaystyle \\frac{a - b q_{1} - c}{2 b}$"
      ],
      "text/plain": [
       "(a - b*q1 - c)/(2*b)"
      ]
     },
     "execution_count": 29,
     "metadata": {},
     "output_type": "execute_result"
    }
   ],
   "source": [
    "Q2_sol1=solve(d_profit2_Q,q2)[0]\n",
    "Q2_sol1"
   ]
  },
  {
   "cell_type": "markdown",
   "id": "01c9b80c-d7f6-4b07-8b8f-4c129b24bc9d",
   "metadata": {},
   "source": [
    "På trinn 1 sette vi reaksjonsfunksjonene til bedrift 2 inn i bedrift 1 sin profittfunksjon, og deriverer dette utrykket mhp q1. Maks π1 =(a-b(q1+q2)-c)*q1 gitt q2=(a-bq1-c)/2b"
   ]
  },
  {
   "cell_type": "code",
   "execution_count": 30,
   "id": "b7b50b2f-eeb9-4d71-a3cf-6fa848961dad",
   "metadata": {},
   "outputs": [
    {
     "data": {
      "text/latex": [
       "$\\displaystyle a - \\frac{b q_{1}}{2} - b \\left(q_{1} + \\frac{a - b q_{1} - c}{2 b}\\right) - c$"
      ],
      "text/plain": [
       "a - b*q1/2 - b*(q1 + (a - b*q1 - c)/(2*b)) - c"
      ]
     },
     "execution_count": 30,
     "metadata": {},
     "output_type": "execute_result"
    }
   ],
   "source": [
    "d_profit1_Q=diff(profit(q1,Q2_sol1,c,a,b),q1)\n",
    "d_profit1_Q"
   ]
  },
  {
   "cell_type": "markdown",
   "id": "c7123706-c327-4b16-a879-57f5f2a38cfb",
   "metadata": {},
   "source": [
    "For å finne optimalt kvantum til lederbedriften setter vi uttrykket over lik 0"
   ]
  },
  {
   "cell_type": "code",
   "execution_count": 31,
   "id": "2b4c9985-40b3-4dae-9958-ec89c9de18bc",
   "metadata": {},
   "outputs": [
    {
     "data": {
      "text/latex": [
       "$\\displaystyle \\frac{a - c}{2 b}$"
      ],
      "text/plain": [
       "(a - c)/(2*b)"
      ]
     },
     "execution_count": 31,
     "metadata": {},
     "output_type": "execute_result"
    }
   ],
   "source": [
    "Q1_sol=solve(d_profit1_Q,q1)[0]\n",
    "Q1_sol"
   ]
  },
  {
   "cell_type": "markdown",
   "id": "3f50fcbd-2d39-45b4-885f-62a02c4ecc50",
   "metadata": {},
   "source": [
    "Vi setter så optimalt valg av q1 inn i reaksjonsfunksjonen til bedrift 2"
   ]
  },
  {
   "cell_type": "code",
   "execution_count": 32,
   "id": "b09567d7-f71c-46ee-b5b2-85fd3f21e718",
   "metadata": {},
   "outputs": [
    {
     "data": {
      "text/latex": [
       "$\\displaystyle \\frac{\\frac{a}{2} - \\frac{c}{2}}{2 b}$"
      ],
      "text/plain": [
       "(a/2 - c/2)/(2*b)"
      ]
     },
     "execution_count": 32,
     "metadata": {},
     "output_type": "execute_result"
    }
   ],
   "source": [
    "Q2_sol2=Q2_sol1.subs({q1:Q1_sol})\n",
    "Q2_sol2"
   ]
  },
  {
   "cell_type": "code",
   "execution_count": 28,
   "id": "6f35aa07-8c44-457d-b297-b4a95a4ea4a2",
   "metadata": {},
   "outputs": [],
   "source": [
    "stackelberg=lambdify(\n",
    "    (a,b,c), \n",
    "    (Q1_sol,Q2_sol2)\n",
    ")"
   ]
  },
  {
   "cell_type": "code",
   "execution_count": 30,
   "id": "0fe6449c-62d0-4e5c-b1d2-817f2821daba",
   "metadata": {},
   "outputs": [
    {
     "data": {
      "text/plain": [
       "(70.0, 35.0)"
      ]
     },
     "execution_count": 30,
     "metadata": {},
     "output_type": "execute_result"
    }
   ],
   "source": [
    "stackelberg(200,1,60)"
   ]
  },
  {
   "cell_type": "code",
   "execution_count": 31,
   "id": "e208d613-72fc-456e-bd8b-c3950abc7b6f",
   "metadata": {},
   "outputs": [
    {
     "data": {
      "text/plain": [
       "(122.5, 61.25)"
      ]
     },
     "execution_count": 31,
     "metadata": {},
     "output_type": "execute_result"
    }
   ],
   "source": [
    "stackelberg(1000,4,20)"
   ]
  }
 ],
 "metadata": {
  "kernelspec": {
   "display_name": "Python 3 (ipykernel)",
   "language": "python",
   "name": "python3"
  },
  "language_info": {
   "codemirror_mode": {
    "name": "ipython",
    "version": 3
   },
   "file_extension": ".py",
   "mimetype": "text/x-python",
   "name": "python",
   "nbconvert_exporter": "python",
   "pygments_lexer": "ipython3",
   "version": "3.9.18"
  }
 },
 "nbformat": 4,
 "nbformat_minor": 5
}
