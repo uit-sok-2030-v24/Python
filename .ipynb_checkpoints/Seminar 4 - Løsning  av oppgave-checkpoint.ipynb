{
 "cells": [
  {
   "cell_type": "markdown",
   "id": "7a156b0d-18ef-44ef-b692-f55c85cbd657",
   "metadata": {
    "jupyter": {
     "source_hidden": true
    },
    "tags": []
   },
   "source": [
    "## Seminar 3 - Cournot modell\n",
    "Oppgave 1: \n",
    "    I markedet for mikroøl har vi to bryggerier i Tromsø, Graff Brygghus og Bryggeri 13. I produksjon av øl velger bedriftene produksjonsvolum i god tid før produktene er på markedet. Etterspørselen i markedet er gitt ved:\n",
    "\tP = 175 – 2Q\n",
    "hvor P er markedspris for mikroøl per flaske, Q er totalt kvantum (antall tusen flasker) og Q = qG + qB, der qG er produsert kvantum for Graff Brygghus og qB er produsert kvantum for Bryggeri 13. I produksjon av mikroøl vil Graff Brygghus og Bryggeri 13 ha konstante marginalkostnader på kr 10 per flaske, og begge bedriftene har årlige faste kostnader på kr 500 000.\n",
    "a)\tHvor mye mikroøl vil det være optimalt for bryggeriene å produsere, og hva blir markedsprisen? \n",
    "\n",
    "Graff Brygghus vurderer å investere i en ny og effektiv tappelinje som vil gi dem reduserte marginalkostnader. Investeringen vil koste bedriften kr 100.000, og vil gi dem marginalkostnad på kr 7 per flaske.\n",
    "b)\tVil du anbefale Graff Brygghus å gjennomføre denne investeringen?\n",
    "\n"
   ]
  },
  {
   "cell_type": "code",
   "execution_count": 2,
   "id": "d16286f3-ebdd-4647-bcd9-afdeaaf62013",
   "metadata": {},
   "outputs": [],
   "source": [
    "import sympy as sp\n",
    "from sympy import *\n",
    "import numpy as np\n",
    "from matplotlib import pyplot as plt"
   ]
  },
  {
   "cell_type": "code",
   "execution_count": 3,
   "id": "553be09b-4b07-4b32-92b9-55202bbbfd5f",
   "metadata": {},
   "outputs": [],
   "source": [
    "# I a) har vi symmetirske bedrifer hvor løsningen blir qG = qB = q\n",
    "def demand(q):\n",
    "    return (175-2*q-2*q)"
   ]
  },
  {
   "cell_type": "code",
   "execution_count": 4,
   "id": "90166d95-62f4-4659-a68a-5518cfbfb831",
   "metadata": {},
   "outputs": [],
   "source": [
    "def marginalrevenue(q):\n",
    "    return (175-4*q-2*q)"
   ]
  },
  {
   "cell_type": "code",
   "execution_count": 5,
   "id": "a3ea176d-d868-4a8a-96e0-6b344394bcd8",
   "metadata": {},
   "outputs": [
    {
     "data": {
      "text/latex": [
       "$\\displaystyle 175 - 6 q = 10$"
      ],
      "text/plain": [
       "Eq(175 - 6*q, 10)"
      ]
     },
     "execution_count": 5,
     "metadata": {},
     "output_type": "execute_result"
    }
   ],
   "source": [
    "# marginalkostnaden for begge bedriftene er lik 10 \n",
    "q=sp.symbols('q', real=True, positive=True)\n",
    "equ=sp.Eq(marginalrevenue(q),10)\n",
    "equ"
   ]
  },
  {
   "cell_type": "markdown",
   "id": "d8191aa6-3773-4dd1-b9bf-6948e15fe485",
   "metadata": {},
   "source": [
    "### a) Optimal kvantum og pris for Graff Brygghus og Bryggeri 13 blir:"
   ]
  },
  {
   "cell_type": "code",
   "execution_count": 6,
   "id": "b6a4c2be-020a-4ea7-ba0c-c11a5032a6c1",
   "metadata": {},
   "outputs": [
    {
     "data": {
      "text/latex": [
       "$\\displaystyle \\frac{55}{2}$"
      ],
      "text/plain": [
       "55/2"
      ]
     },
     "execution_count": 6,
     "metadata": {},
     "output_type": "execute_result"
    }
   ],
   "source": [
    "q_equ=sp.solve(equ,q)[0]\n",
    "q_equ"
   ]
  },
  {
   "cell_type": "code",
   "execution_count": 7,
   "id": "57464fd8-a818-400c-9722-ca930f53da07",
   "metadata": {},
   "outputs": [
    {
     "data": {
      "text/latex": [
       "$\\displaystyle 65$"
      ],
      "text/plain": [
       "65"
      ]
     },
     "execution_count": 7,
     "metadata": {},
     "output_type": "execute_result"
    }
   ],
   "source": [
    "p_eq=demand(q_equ)\n",
    "p_eq"
   ]
  },
  {
   "cell_type": "code",
   "execution_count": 8,
   "id": "74094ad4-650f-48ee-a438-3ab11d873322",
   "metadata": {},
   "outputs": [
    {
     "name": "stdout",
     "output_type": "stream",
     "text": [
      "2025/2\n"
     ]
    }
   ],
   "source": [
    "# Profitt for bryggeriene\n",
    "def profitt(Q):\n",
    "    return (p_eq-10)*q_equ-500\n",
    "print (profitt(q_equ))"
   ]
  },
  {
   "cell_type": "markdown",
   "id": "85a5d514-e3a3-41f8-8f29-4e13af83646c",
   "metadata": {},
   "source": [
    "### b) Optimal kvantum og pris for Graff Brygghus og Bryggeri 13 blir:"
   ]
  },
  {
   "cell_type": "markdown",
   "id": "6b6a73a9-890d-4620-9b0c-178a83359738",
   "metadata": {},
   "source": [
    "Ved å investere i ny tappelinje vil marginalkostnader for Graff Brygghus nå være på kr 7\n",
    "per flaske og for Bryggeri 13 er den på kr 10 per flaske. Bedriftene tilpasser seg simultant,\n",
    "hvor vi finner reaksjonsfunksjonene til hver av bedriftene. "
   ]
  },
  {
   "cell_type": "code",
   "execution_count": 9,
   "id": "c7fd7806-da50-4527-8bbe-fa426adffc6a",
   "metadata": {},
   "outputs": [],
   "source": [
    "# Residualetterspørsel for Graff Bryghus\n",
    "def demand(qG):\n",
    "           return ((175-2*qB)-2*qG)"
   ]
  },
  {
   "cell_type": "code",
   "execution_count": 10,
   "id": "e63c9c25-f139-4ddd-802f-f5cd20e0d395",
   "metadata": {},
   "outputs": [],
   "source": [
    "def marginalrevenue(qG):\n",
    "    return ((175-2*qB)-4*qG)"
   ]
  },
  {
   "cell_type": "code",
   "execution_count": 21,
   "id": "6de84d0c-a099-4713-8b76-7c0edca91a28",
   "metadata": {},
   "outputs": [],
   "source": [
    "# Residualetterspørsel for Bryggeri 13\n",
    "def demand(qB):\n",
    "           return ((175-2*qG)-2*qB)"
   ]
  },
  {
   "cell_type": "code",
   "execution_count": 32,
   "id": "b8c26ef3-16df-4621-89c6-b04c860c683c",
   "metadata": {},
   "outputs": [],
   "source": [
    "def marginalrevenue(qB):\n",
    "    return ((175-2*qG)-4*qB)"
   ]
  },
  {
   "cell_type": "code",
   "execution_count": 26,
   "id": "2c475b7d-75da-4adf-bb5d-d00b72037018",
   "metadata": {},
   "outputs": [
    {
     "data": {
      "text/latex": [
       "$\\displaystyle - 2 qB - 4 qG + 175 = 7$"
      ],
      "text/plain": [
       "Eq(-2*qB - 4*qG + 175, 7)"
      ]
     },
     "execution_count": 26,
     "metadata": {},
     "output_type": "execute_result"
    }
   ],
   "source": [
    "# marginalkostnader for Graff Brygghus er lik 7\n",
    "qG=sp.symbols('qG', real=True, positive=True)\n",
    "equ=sp.Eq(marginalrevenue(qG),7)\n",
    "equ"
   ]
  },
  {
   "cell_type": "code",
   "execution_count": 27,
   "id": "984f47ae-0fd0-4174-a0d9-4ba187a49070",
   "metadata": {},
   "outputs": [
    {
     "data": {
      "text/latex": [
       "$\\displaystyle 42 - \\frac{qB}{2}$"
      ],
      "text/plain": [
       "42 - qB/2"
      ]
     },
     "execution_count": 27,
     "metadata": {},
     "output_type": "execute_result"
    }
   ],
   "source": [
    "#reaksjonsfunksjon til Graff Brygghus\n",
    "qG_equ=sp.solve(equ,qG)[0]\n",
    "qG_equ"
   ]
  },
  {
   "cell_type": "code",
   "execution_count": 33,
   "id": "ea1dbfa4-2b01-493f-8907-7eebe6a7563a",
   "metadata": {},
   "outputs": [
    {
     "data": {
      "text/latex": [
       "$\\displaystyle - 4 qB - 2 qG + 175 = 10$"
      ],
      "text/plain": [
       "Eq(-4*qB - 2*qG + 175, 10)"
      ]
     },
     "execution_count": 33,
     "metadata": {},
     "output_type": "execute_result"
    }
   ],
   "source": [
    "# marginalkostnader for Bryggeri 13 er lik 10\n",
    "qB=sp.symbols('qB', real=True, positive=True)\n",
    "equ=sp.Eq(marginalrevenue(qB),10)\n",
    "equ"
   ]
  },
  {
   "cell_type": "code",
   "execution_count": 34,
   "id": "bb60adf9-c3ed-4334-b2db-460c499ac48f",
   "metadata": {},
   "outputs": [
    {
     "data": {
      "text/latex": [
       "$\\displaystyle \\frac{165}{4} - \\frac{qG}{2}$"
      ],
      "text/plain": [
       "165/4 - qG/2"
      ]
     },
     "execution_count": 34,
     "metadata": {},
     "output_type": "execute_result"
    }
   ],
   "source": [
    "#reaksjonsfunksjon til Bryggeri 13\n",
    "qB_equ=sp.solve(equ,qB)[0]\n",
    "qB_equ"
   ]
  },
  {
   "cell_type": "code",
   "execution_count": 44,
   "id": "415c768d-b13a-4309-9e09-7f0b652383fa",
   "metadata": {},
   "outputs": [],
   "source": [
    "# Finner løsning ved å setter RF for Graff lik RF for Bryggeri 13 - hvordan gjøres det??"
   ]
  },
  {
   "cell_type": "code",
   "execution_count": 38,
   "id": "a0e97770-0cea-4c26-a528-183a5ef707f6",
   "metadata": {},
   "outputs": [],
   "source": [
    "def RFg(qB):\n",
    "    return 42-0.5*qB"
   ]
  },
  {
   "cell_type": "code",
   "execution_count": 37,
   "id": "3cdb8650-f633-4e47-85a5-784b1000ff96",
   "metadata": {},
   "outputs": [],
   "source": [
    "def RFb(qG):\n",
    "    return 165/4-0.5*qG"
   ]
  },
  {
   "cell_type": "code",
   "execution_count": 39,
   "id": "49ad847e-ab38-4232-94ef-762656e93258",
   "metadata": {},
   "outputs": [
    {
     "data": {
      "text/latex": [
       "$\\displaystyle 42 - 0.5 qB = 41.25 - 0.5 qG$"
      ],
      "text/plain": [
       "Eq(42 - 0.5*qB, 41.25 - 0.5*qG)"
      ]
     },
     "execution_count": 39,
     "metadata": {},
     "output_type": "execute_result"
    }
   ],
   "source": [
    "qB=sp.symbols('qB', real=True, positive=True)\n",
    "equ=sp.Eq(RFg(qB),RFb(qG))\n",
    "equ"
   ]
  },
  {
   "cell_type": "code",
   "execution_count": 45,
   "id": "120ae05b-bf9f-43fd-86df-86b26828ab29",
   "metadata": {},
   "outputs": [],
   "source": [
    "from sympy.solvers import solve"
   ]
  },
  {
   "cell_type": "code",
   "execution_count": 48,
   "id": "bc60cba9-e45a-44e7-ac48-4af968cdab0c",
   "metadata": {},
   "outputs": [],
   "source": [
    "qB,qG=sp.symbols(\"qB qG\")\n",
    "symbols=[qB,qG]\n",
    "equations=[\n",
    "    sp.Eq(42-0.5*qB-qG,0),\n",
    "    sp.Eq(41.25-0.5*qG-qB,0)\n",
    "]"
   ]
  },
  {
   "cell_type": "code",
   "execution_count": 50,
   "id": "bdf93ad8-e88b-454f-ab34-fd582fac4f0d",
   "metadata": {},
   "outputs": [
    {
     "data": {
      "text/plain": [
       "{qB: 27.0000000000000, qG: 28.5000000000000}"
      ]
     },
     "execution_count": 50,
     "metadata": {},
     "output_type": "execute_result"
    }
   ],
   "source": [
    "# optimalt kvantum\n",
    "solve(equations,symbols)"
   ]
  },
  {
   "cell_type": "code",
   "execution_count": 51,
   "id": "b8ce5eba-a68a-4b27-8944-ce6eade84a0e",
   "metadata": {},
   "outputs": [
    {
     "name": "stdout",
     "output_type": "stream",
     "text": [
      "64.0\n"
     ]
    }
   ],
   "source": [
    "# optimal pris\n",
    "print (175 -2*(28.5+27))"
   ]
  },
  {
   "cell_type": "code",
   "execution_count": 52,
   "id": "cfde6693-587c-4678-b34b-40244ff975da",
   "metadata": {},
   "outputs": [
    {
     "name": "stdout",
     "output_type": "stream",
     "text": [
      "1124500\n"
     ]
    }
   ],
   "source": [
    "# profitt Graff Brygghus\n",
    "print ((64-7)*28500-500000)"
   ]
  },
  {
   "cell_type": "code",
   "execution_count": 53,
   "id": "a1c5e261-ecb1-462b-b5c2-583fd5a5f780",
   "metadata": {},
   "outputs": [
    {
     "name": "stdout",
     "output_type": "stream",
     "text": [
      "958000\n"
     ]
    }
   ],
   "source": [
    "# profitt Bryggeri 13\n",
    "print ((64-10)*27000-500000)"
   ]
  },
  {
   "cell_type": "code",
   "execution_count": 54,
   "id": "d05404ac-04a0-47e1-93a4-d57be4f74087",
   "metadata": {},
   "outputs": [
    {
     "name": "stdout",
     "output_type": "stream",
     "text": [
      "112000.0\n"
     ]
    }
   ],
   "source": [
    "# Vil du anbefale Graff Brygghus å gjennomføre denne investeringen?\n",
    "# vi må da se på profitt før investering sammenlignet med profitten etter investering\n",
    "print (1124500-(2025000/2))"
   ]
  }
 ],
 "metadata": {
  "kernelspec": {
   "display_name": "Python 3 (ipykernel)",
   "language": "python",
   "name": "python3"
  },
  "language_info": {
   "codemirror_mode": {
    "name": "ipython",
    "version": 3
   },
   "file_extension": ".py",
   "mimetype": "text/x-python",
   "name": "python",
   "nbconvert_exporter": "python",
   "pygments_lexer": "ipython3",
   "version": "3.9.13"
  }
 },
 "nbformat": 4,
 "nbformat_minor": 5
}
