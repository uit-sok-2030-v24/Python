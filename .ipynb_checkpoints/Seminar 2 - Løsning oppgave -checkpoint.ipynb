{
 "cells": [
  {
   "cell_type": "markdown",
   "id": "f6750f64-0093-4825-80ec-fba77a5a91c4",
   "metadata": {},
   "source": [
    "## Seminar 2 - Monopol og prisdiskriminering\n",
    "\n",
    "a)\tVis hvordan en monopolist, som tilbyr sitt produkt til ulike kundesegmenter eller i ulike geografiske områder (med ulik betalingsvillighet), kan bruke prismekanismen til å øke bedriftens lønnsomhet.\n",
    "\n",
    "b)\tForklar hvordan de ulike markedstilpasninger til monopolbedriften vil påvirke det samfunnsøkonomiske overskuddet. \n",
    "\n",
    "Som styremedlem i hotellet på Sommarøy mener du at bedriften bør bruke prismekanismen til å maksimere sitt overskudd. Erfaringer viser at etterspørselen etter hotellrom er høyere i sommersesongen og noe lavere på vinteren. Hotellet er den eneste tilbyderen av hotellrom i dette området, og står ovenfor følgende etterspørsel: \n",
    "\n",
    "Etterspørsel sommer: Qs = 4200 - Ps \n",
    "\n",
    "Etterspørsel vinter: Qv = 1500 - Pv/2 \n",
    "\n",
    "Som følge av investeringer i nytt hotellbygg har bedriften faste kostander på NOK 2 millioner per år, og konstante variable kostnader på NOK 600 per rom (til vask av rom og sengetøy). Ledelsen ved hotellet skal gjøre en vurdering av sin prisstrategi, hvor de vurderer enten en uniform prising, med lik pris gjennom hele året, eller en diskriminering av pris for de ulike sesongene. \n",
    "\n",
    "c)\tHvilken strategi vil du anbefale ledelsen? Hva blir overskuddet til bedriften ved de to ulike prisstrategiene?\n",
    "\n"
   ]
  },
  {
   "cell_type": "code",
   "execution_count": 2,
   "id": "29cd84b9-bbda-4c0f-9a1e-01d47f43ec39",
   "metadata": {},
   "outputs": [],
   "source": [
    "import sympy as sp\n",
    "import numpy as np\n",
    "from matplotlib import pyplot as plt"
   ]
  },
  {
   "cell_type": "markdown",
   "id": "6b95666d-b0f4-4be2-8154-2258c84a0280",
   "metadata": {},
   "source": [
    "Sum etterspørsel for hele året Qs + Qv => Q = 5700 - P3/2\n",
    "\n",
    "Invers etterspørsel blir da: P = (5700 - Q)2/3 = 3800 - 2/3*Q \n",
    "    "
   ]
  },
  {
   "cell_type": "code",
   "execution_count": 3,
   "id": "b1c1996d-a0c8-43c7-a371-10a1bc6719b5",
   "metadata": {},
   "outputs": [],
   "source": [
    "def demand(Q):\n",
    "    return 3800-(2/3)*Q"
   ]
  },
  {
   "cell_type": "code",
   "execution_count": 4,
   "id": "46dba064-2fcf-496b-8e65-a9f37de78fa4",
   "metadata": {},
   "outputs": [],
   "source": [
    "def marginalrevenue(Q):\n",
    "    return 3800-(4/3)*Q"
   ]
  },
  {
   "cell_type": "markdown",
   "id": "967284c0-b9b9-4707-a82d-80783fabc37d",
   "metadata": {},
   "source": [
    "Optimal tilpasning der MR = MC\n",
    "\n",
    "Når vi konstante variable kostnader på 600, så vil også marginalkostnaden være konstant og lik 600"
   ]
  },
  {
   "cell_type": "code",
   "execution_count": 7,
   "id": "0d26d12b-84b9-4ae7-a7aa-27acdd1d7728",
   "metadata": {},
   "outputs": [
    {
     "data": {
      "text/latex": [
       "$\\displaystyle 3800 - 1.33333333333333 Q = 600$"
      ],
      "text/plain": [
       "Eq(3800 - 1.33333333333333*Q, 600)"
      ]
     },
     "execution_count": 7,
     "metadata": {},
     "output_type": "execute_result"
    }
   ],
   "source": [
    "Q=sp.symbols('Q', real=True, positive=True)\n",
    "equ=sp.Eq(marginalrevenue(Q),600)\n",
    "equ"
   ]
  },
  {
   "cell_type": "markdown",
   "id": "3cfd5baf-4f19-4f37-991e-bc7bb888a1c4",
   "metadata": {},
   "source": [
    "### Optimal tilpasning ved uniform prising:"
   ]
  },
  {
   "cell_type": "code",
   "execution_count": 9,
   "id": "a818e0e0-0b30-42a6-9d62-719d2a663aa4",
   "metadata": {},
   "outputs": [
    {
     "data": {
      "text/latex": [
       "$\\displaystyle 2400.0$"
      ],
      "text/plain": [
       "2400.00000000000"
      ]
     },
     "execution_count": 9,
     "metadata": {},
     "output_type": "execute_result"
    }
   ],
   "source": [
    "Q_equ=sp.solve(equ,Q)[0]\n",
    "Q_equ"
   ]
  },
  {
   "cell_type": "code",
   "execution_count": 10,
   "id": "4a11e8a4-066b-4d60-b2c7-002fb7822267",
   "metadata": {},
   "outputs": [
    {
     "data": {
      "text/latex": [
       "$\\displaystyle 2200.0$"
      ],
      "text/plain": [
       "2200.00000000000"
      ]
     },
     "execution_count": 10,
     "metadata": {},
     "output_type": "execute_result"
    }
   ],
   "source": [
    "p_eq=demand(Q_equ)\n",
    "p_eq"
   ]
  },
  {
   "cell_type": "code",
   "execution_count": 20,
   "id": "ca20fbea-f227-42c0-ad06-aabcc723b4ea",
   "metadata": {},
   "outputs": [
    {
     "data": {
      "text/latex": [
       "$\\displaystyle 1840000.0$"
      ],
      "text/plain": [
       "1840000.00000000"
      ]
     },
     "execution_count": 20,
     "metadata": {},
     "output_type": "execute_result"
    }
   ],
   "source": [
    "def profitt(Q):\n",
    "    return ((p_eq-600)*Q_equ-2000000)\n",
    "round(profitt(Q_equ),2)"
   ]
  },
  {
   "cell_type": "markdown",
   "id": "6b25475d-0967-4f66-8134-2e4a5714af51",
   "metadata": {},
   "source": [
    "### Monopolløsning med prisdiskriminering - en pris for sommer og en for vinter\n"
   ]
  },
  {
   "cell_type": "code",
   "execution_count": null,
   "id": "11307bf6-a393-41d9-998b-44b8ac690e9a",
   "metadata": {},
   "outputs": [],
   "source": [
    "Etterspørsel sommer Qs = 4200 - Ps\n",
    "\n",
    "Invers etterspørsel sommer Ps = 4200 - Qs"
   ]
  },
  {
   "cell_type": "code",
   "execution_count": 21,
   "id": "e73b89f8-4d37-4922-9016-22e0838bc36b",
   "metadata": {},
   "outputs": [],
   "source": [
    "def demandS(Qs):\n",
    "    return 4200 - Qs"
   ]
  },
  {
   "cell_type": "code",
   "execution_count": 38,
   "id": "fe6fa440-4c10-46f2-8119-68431224769e",
   "metadata": {},
   "outputs": [],
   "source": [
    "# Marginalinntekt sommer - MR = 4200 - 2Qs\n",
    "def marginalrevenueS(Qs):\n",
    "    return 4200 - 2*Qs"
   ]
  },
  {
   "cell_type": "markdown",
   "id": "615a784d-6d1f-4003-a738-2f9bd73f475b",
   "metadata": {},
   "source": [
    "Optimal tilpasning der MR = MC"
   ]
  },
  {
   "cell_type": "code",
   "execution_count": 29,
   "id": "56af52e9-7ed3-443e-bb7f-7f9de9fa9fe7",
   "metadata": {},
   "outputs": [
    {
     "data": {
      "text/latex": [
       "$\\displaystyle 4200 - 2 Qs = 600$"
      ],
      "text/plain": [
       "Eq(4200 - 2*Qs, 600)"
      ]
     },
     "execution_count": 29,
     "metadata": {},
     "output_type": "execute_result"
    }
   ],
   "source": [
    "Qs=sp.symbols('Qs', real=True, positive=True)\n",
    "equ=sp.Eq(marginalrevenueS(Qs),600)\n",
    "equ"
   ]
  },
  {
   "cell_type": "code",
   "execution_count": 31,
   "id": "7e3f9847-7b09-4e72-bf52-11f2d8ae9d7d",
   "metadata": {},
   "outputs": [
    {
     "data": {
      "text/latex": [
       "$\\displaystyle 1800$"
      ],
      "text/plain": [
       "1800"
      ]
     },
     "execution_count": 31,
     "metadata": {},
     "output_type": "execute_result"
    }
   ],
   "source": [
    "# Optimalt antall hotellrom solgt på sommeren\n",
    "Qs_equ=sp.solve(equ,Qs)[0]\n",
    "Qs_equ"
   ]
  },
  {
   "cell_type": "code",
   "execution_count": 33,
   "id": "bfee2a84-176f-443f-96ac-788a1e954740",
   "metadata": {},
   "outputs": [
    {
     "data": {
      "text/latex": [
       "$\\displaystyle 2400$"
      ],
      "text/plain": [
       "2400"
      ]
     },
     "execution_count": 33,
     "metadata": {},
     "output_type": "execute_result"
    }
   ],
   "source": [
    "# optimal pris for rom på sommeren:\n",
    "ps_eq=demandS(Qs_equ)\n",
    "ps_eq"
   ]
  },
  {
   "cell_type": "code",
   "execution_count": 53,
   "id": "9219d088-e5eb-4092-bffd-26e5934afc92",
   "metadata": {},
   "outputs": [
    {
     "data": {
      "text/latex": [
       "$\\displaystyle 2160000$"
      ],
      "text/plain": [
       "2160000"
      ]
     },
     "execution_count": 53,
     "metadata": {},
     "output_type": "execute_result"
    }
   ],
   "source": [
    "# Profitt for sommeren:\n",
    "def profittS(Qs):\n",
    "    return (ps_eq-600)*Qs\n",
    "round (profittV(Qs_equ))"
   ]
  },
  {
   "cell_type": "markdown",
   "id": "7698365f-9d8f-4ee2-b7e8-87fc16543fa9",
   "metadata": {},
   "source": [
    "### Optimal pris og mengde for hotellrom på vinteren\n",
    "\n",
    "Etterspørsel vinter Qv = 1500 - Pv/2\n",
    "\n",
    "Invers etterspørsel sommer Pv = (1500 - Qv)*2 = 3000 - Qv*2"
   ]
  },
  {
   "cell_type": "code",
   "execution_count": 45,
   "id": "299142cf-309a-42ac-b093-dc8df20137be",
   "metadata": {},
   "outputs": [],
   "source": [
    "def demandV(Qv):\n",
    "    return 3000 - 2*Qv"
   ]
  },
  {
   "cell_type": "code",
   "execution_count": 46,
   "id": "c8607602-7324-48f0-9ce0-d16fe27329ef",
   "metadata": {},
   "outputs": [],
   "source": [
    "# Marginalinntekt vinter - MR = 750 - Qv\n",
    "def marginalrevenueV(Qv):\n",
    "    return 3000 - 4*Qv"
   ]
  },
  {
   "cell_type": "code",
   "execution_count": 47,
   "id": "a0ebc9c8-6156-409a-8fde-18aa46f5e0e7",
   "metadata": {},
   "outputs": [
    {
     "data": {
      "text/latex": [
       "$\\displaystyle 3000 - 4 Qv = 600$"
      ],
      "text/plain": [
       "Eq(3000 - 4*Qv, 600)"
      ]
     },
     "execution_count": 47,
     "metadata": {},
     "output_type": "execute_result"
    }
   ],
   "source": [
    "Qv=sp.symbols('Qv', real=True, positive=True)\n",
    "equ=sp.Eq(marginalrevenueV(Qv),600)\n",
    "equ"
   ]
  },
  {
   "cell_type": "code",
   "execution_count": 48,
   "id": "623161a0-acb7-4483-a57a-5bc3411007b6",
   "metadata": {},
   "outputs": [
    {
     "data": {
      "text/latex": [
       "$\\displaystyle 600$"
      ],
      "text/plain": [
       "600"
      ]
     },
     "execution_count": 48,
     "metadata": {},
     "output_type": "execute_result"
    }
   ],
   "source": [
    "# Optimalt antall hotellrom solgt på vinteren:\n",
    "Qv_equ=sp.solve(equ,Qv)[0]\n",
    "Qv_equ"
   ]
  },
  {
   "cell_type": "code",
   "execution_count": 50,
   "id": "a9e80ca8-0be9-42fc-b292-2abbf82f7175",
   "metadata": {},
   "outputs": [
    {
     "data": {
      "text/latex": [
       "$\\displaystyle 1800$"
      ],
      "text/plain": [
       "1800"
      ]
     },
     "execution_count": 50,
     "metadata": {},
     "output_type": "execute_result"
    }
   ],
   "source": [
    "# optimal pris for rom på vinteren:\n",
    "pv_eq=demandV(Qv_equ)\n",
    "pv_eq"
   ]
  },
  {
   "cell_type": "code",
   "execution_count": 52,
   "id": "e6b32624-20e1-4868-a7a5-4d618f730444",
   "metadata": {},
   "outputs": [
    {
     "data": {
      "text/latex": [
       "$\\displaystyle 720000$"
      ],
      "text/plain": [
       "720000"
      ]
     },
     "execution_count": 52,
     "metadata": {},
     "output_type": "execute_result"
    }
   ],
   "source": [
    "# Profitt for sommeren:\n",
    "def profittV(Qv):\n",
    "    return (pv_eq-600)*Qv\n",
    "round (profittV(Qv_equ))"
   ]
  },
  {
   "cell_type": "code",
   "execution_count": 57,
   "id": "b48137a7-fc75-4c47-a001-af23249e7418",
   "metadata": {},
   "outputs": [
    {
     "data": {
      "text/latex": [
       "$\\displaystyle 1960000$"
      ],
      "text/plain": [
       "1960000"
      ]
     },
     "execution_count": 57,
     "metadata": {},
     "output_type": "execute_result"
    }
   ],
   "source": [
    "# total profitt for hotellet\n",
    "round (profittV(Qv_equ))+(profittS(Qs_equ))-2000000"
   ]
  }
 ],
 "metadata": {
  "kernelspec": {
   "display_name": "Python 3 (ipykernel)",
   "language": "python",
   "name": "python3"
  },
  "language_info": {
   "codemirror_mode": {
    "name": "ipython",
    "version": 3
   },
   "file_extension": ".py",
   "mimetype": "text/x-python",
   "name": "python",
   "nbconvert_exporter": "python",
   "pygments_lexer": "ipython3",
   "version": "3.9.15"
  },
  "toc-showcode": false
 },
 "nbformat": 4,
 "nbformat_minor": 5
}
