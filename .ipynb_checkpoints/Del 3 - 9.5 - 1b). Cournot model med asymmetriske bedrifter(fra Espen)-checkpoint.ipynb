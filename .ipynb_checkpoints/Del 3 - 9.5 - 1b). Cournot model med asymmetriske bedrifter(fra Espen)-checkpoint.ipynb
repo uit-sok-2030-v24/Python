{
 "cells": [
  {
   "cell_type": "markdown",
   "id": "20330823-0c26-4ef8-bc0b-5b654dd085dd",
   "metadata": {},
   "source": [
    "## Cournot \n",
    "Ved Cournot-konkurranse er kvantum bedriftens handlingsvariable og bedriftene gjør sine valg simultant. Hver bedrift fastsette hvor mye de skal produsere. Prisen er gitt ved etterspørselsfunksjonen.\n",
    "\n",
    "Når bedriftene skal sette kvantum, må de ta hensyn til at eget kvantum endrer på prisen i det felles markedet. \n",
    "\n",
    "Vi antar at vi har to bedrifter som konkurrer med kvantum som strategisk variabel. Invers ettersprøsel er gitt ved: P(Q) = a-bQ = a-b(q1+q2)\n",
    "\n",
    "Kode her er basert på notebook fra seminar sok-2030 vår 2022 (Espen Sirnes)."
   ]
  },
  {
   "cell_type": "code",
   "execution_count": 2,
   "id": "9beeff7e-93ba-4d7a-8bab-9dd76c57484a",
   "metadata": {},
   "outputs": [],
   "source": [
    "import sympy as sp\n",
    "from sympy import *\n",
    "from matplotlib import pyplot as plt\n",
    "import numpy as np"
   ]
  },
  {
   "cell_type": "markdown",
   "id": "209f00e1-a575-48c9-8b8e-9a046807ac58",
   "metadata": {},
   "source": [
    "Vi definerer så symbolene vi trenger. I Cournotkonkurranse fastsettes kvantum for bedrift 1 og 2,Q1 og Q2. Hver bedrift har marginalkostnader c1 og c2. Etterspørselsfunksjonen har et konstantledd a og negativt stignignstall med absoluttverdi b. Vi definerer derfor følgende variabler for modellen:"
   ]
  },
  {
   "cell_type": "code",
   "execution_count": 3,
   "id": "ddd4a435-e023-4f65-b5e2-8e291c38662b",
   "metadata": {},
   "outputs": [],
   "source": [
    "q1, q2,c1,c2, a, b=symbols('q1 q2 c1 c2 a b')"
   ]
  },
  {
   "cell_type": "markdown",
   "id": "417725f6-e06b-4c2c-9bbd-b57b2bbb9f6a",
   "metadata": {},
   "source": [
    "Vi kan nå definere de to funksjonene vi skal bruke. Profitt til bedriftene er lik: \n",
    "π1 = (P-c1)*q1=(a-b(q1+q2)-c1)*q1 og π2 = (P-c2)*q2=(a-b(q1+q2)-c2)*q2"
   ]
  },
  {
   "cell_type": "code",
   "execution_count": 4,
   "id": "298ddf5b-f1ed-4f55-b15c-7a9b97ce762d",
   "metadata": {},
   "outputs": [],
   "source": [
    "def P_demand(Q,a,b):\n",
    "    return a-b*Q\n",
    "\n",
    "def profit(q1,q2,c,a,b):\n",
    "    return (P_demand(q1+q2,a,b)-c)*q1"
   ]
  },
  {
   "cell_type": "markdown",
   "id": "46e76560-ae97-47b9-835c-9a5868b7ce2a",
   "metadata": {},
   "source": [
    "Førsteordensbetingelsen finner vi ved å derivere profittfunksjonene med hensyn på henholdsvis q1 og q2"
   ]
  },
  {
   "cell_type": "code",
   "execution_count": 5,
   "id": "27f457a3-b300-44f6-9300-346cb583269c",
   "metadata": {},
   "outputs": [
    {
     "data": {
      "text/latex": [
       "$\\displaystyle a - b q_{1} - b \\left(q_{1} + q_{2}\\right) - c_{1}$"
      ],
      "text/plain": [
       "a - b*q1 - b*(q1 + q2) - c1"
      ]
     },
     "metadata": {},
     "output_type": "display_data"
    },
    {
     "data": {
      "text/latex": [
       "$\\displaystyle a - b q_{2} - b \\left(q_{1} + q_{2}\\right) - c_{2}$"
      ],
      "text/plain": [
       "a - b*q2 - b*(q1 + q2) - c2"
      ]
     },
     "metadata": {},
     "output_type": "display_data"
    }
   ],
   "source": [
    "d_profit1_Q=diff(profit(q1,q2,c1,a,b),q1)\n",
    "d_profit2_Q=diff(profit(q2,q1,c2,a,b),q2)\n",
    "\n",
    "display(d_profit1_Q)\n",
    "display(d_profit2_Q)"
   ]
  },
  {
   "cell_type": "code",
   "execution_count": 6,
   "id": "a24a52dd-48c8-4db9-9144-17623bf7967d",
   "metadata": {},
   "outputs": [
    {
     "data": {
      "text/latex": [
       "$\\displaystyle \\frac{a - 2 c_{1} + c_{2}}{3 b}$"
      ],
      "text/plain": [
       "(a - 2*c1 + c2)/(3*b)"
      ]
     },
     "metadata": {},
     "output_type": "display_data"
    },
    {
     "data": {
      "text/latex": [
       "$\\displaystyle \\frac{a + c_{1} - 2 c_{2}}{3 b}$"
      ],
      "text/plain": [
       "(a + c1 - 2*c2)/(3*b)"
      ]
     },
     "metadata": {},
     "output_type": "display_data"
    }
   ],
   "source": [
    "sol=solve([d_profit1_Q,d_profit2_Q],[q1,q2])\n",
    "\n",
    "display(sol[q1])\n",
    "display(sol[q2])"
   ]
  },
  {
   "cell_type": "code",
   "execution_count": 7,
   "id": "4d602b2f-d74f-4e7d-a787-454dd149933c",
   "metadata": {},
   "outputs": [],
   "source": [
    "R1=solve(d_profit1_Q,q1)\n",
    "R2=solve(d_profit2_Q,q1)"
   ]
  },
  {
   "cell_type": "code",
   "execution_count": 8,
   "id": "00cf048d-9b05-48a0-b35b-c5b561b31774",
   "metadata": {},
   "outputs": [
    {
     "data": {
      "text/latex": [
       "$\\displaystyle \\frac{a - b q_{2} - c_{1}}{2 b}$"
      ],
      "text/plain": [
       "(a - b*q2 - c1)/(2*b)"
      ]
     },
     "execution_count": 8,
     "metadata": {},
     "output_type": "execute_result"
    }
   ],
   "source": [
    "#reaksjonsfunksjon til bedrift 1\n",
    "q1_equ=sp.solve(d_profit1_Q,q1)[0]\n",
    "q1_equ"
   ]
  },
  {
   "cell_type": "code",
   "execution_count": 9,
   "id": "b2fc9798-b62e-4a8b-9b4c-720674310e20",
   "metadata": {},
   "outputs": [
    {
     "data": {
      "text/latex": [
       "$\\displaystyle \\frac{a - b q_{1} - c_{2}}{2 b}$"
      ],
      "text/plain": [
       "(a - b*q1 - c2)/(2*b)"
      ]
     },
     "execution_count": 9,
     "metadata": {},
     "output_type": "execute_result"
    }
   ],
   "source": [
    "#reaksjonsfunksjon til bedrift 2\n",
    "q2_equ=sp.solve(d_profit2_Q,q2)[0]\n",
    "q2_equ"
   ]
  },
  {
   "cell_type": "markdown",
   "id": "59784270-4b6e-453d-8e23-18b161ca3f2f",
   "metadata": {},
   "source": [
    "Setter vi RF1 = RF2 finner vi optimalt kvantum for bedrifte 1 og 2"
   ]
  },
  {
   "cell_type": "code",
   "execution_count": 10,
   "id": "a044ac02-4302-4bf2-98d0-13f7698cead7",
   "metadata": {},
   "outputs": [
    {
     "data": {
      "text/plain": [
       "{q1: (a - 2*c1 + c2)/(3*b), q2: (a + c1 - 2*c2)/(3*b)}"
      ]
     },
     "execution_count": 10,
     "metadata": {},
     "output_type": "execute_result"
    }
   ],
   "source": [
    "sol=solve([d_profit1_Q,d_profit2_Q],[q1,q2])\n",
    "\n",
    "sol"
   ]
  },
  {
   "cell_type": "code",
   "execution_count": 11,
   "id": "8c7d8013-a80a-416c-bc72-3da028a2a668",
   "metadata": {},
   "outputs": [
    {
     "data": {
      "text/latex": [
       "$\\displaystyle \\frac{a - 2 c_{1} + c_{2}}{3 b}$"
      ],
      "text/plain": [
       "(a - 2*c1 + c2)/(3*b)"
      ]
     },
     "metadata": {},
     "output_type": "display_data"
    },
    {
     "data": {
      "text/latex": [
       "$\\displaystyle \\frac{a + c_{1} - 2 c_{2}}{3 b}$"
      ],
      "text/plain": [
       "(a + c1 - 2*c2)/(3*b)"
      ]
     },
     "metadata": {},
     "output_type": "display_data"
    }
   ],
   "source": [
    "sol=solve([d_profit1_Q,d_profit2_Q],[q1,q2])\n",
    "\n",
    "display(sol[q1])\n",
    "display(sol[q2])"
   ]
  },
  {
   "cell_type": "markdown",
   "id": "7d088e91-580c-437e-9f22-3c1cafa63824",
   "metadata": {},
   "source": [
    "Vi kan nå lage en funksjon som gir den nummeriske løsningen gitt nummeriske argumenter, for sympy-uttrykkene over. Vi bruker lambdify-funksjonen i sympy for å lage en slik funksjon:"
   ]
  },
  {
   "cell_type": "code",
   "execution_count": 15,
   "id": "bf28c5c3-5364-489c-9c9f-d5b3edf5c11b",
   "metadata": {},
   "outputs": [],
   "source": [
    "cournot=lambdify(\n",
    "    (a,b,c1,c2), \n",
    "    (sol[q1],sol[q2])\n",
    ")"
   ]
  },
  {
   "cell_type": "markdown",
   "id": "3057f970-a5a2-4cb0-b161-3f0fc5a26b36",
   "metadata": {},
   "source": [
    "For eksempel kan vi regne ut løsning ved en symmertisk likevekt der etterspørsel er P = 120 - 20Q, og marginalkosten til begge bedriftene er lik 20. Kvantum, q1 og q2, blir da henholdsvis:"
   ]
  },
  {
   "cell_type": "code",
   "execution_count": 16,
   "id": "23cdf177-77a2-419e-a46f-6e5168cb1ff0",
   "metadata": {},
   "outputs": [
    {
     "data": {
      "text/plain": [
       "(1.6666666666666665, 1.6666666666666665)"
      ]
     },
     "execution_count": 16,
     "metadata": {},
     "output_type": "execute_result"
    }
   ],
   "source": [
    "cournot(120,20,20,20)"
   ]
  },
  {
   "cell_type": "markdown",
   "id": "cd4d2869-e80a-445b-9557-88a890cd8678",
   "metadata": {},
   "source": [
    "Et eksempel med asymmetriske bedrifter, der c1 = 20 og c2 = 40 gir følgende likevektskvantum:"
   ]
  },
  {
   "cell_type": "code",
   "execution_count": 17,
   "id": "85fba968-a9a7-48e7-9c48-41cf803214a7",
   "metadata": {},
   "outputs": [
    {
     "data": {
      "text/plain": [
       "(2.0, 1.0)"
      ]
     },
     "execution_count": 17,
     "metadata": {},
     "output_type": "execute_result"
    }
   ],
   "source": [
    "cournot(120,20,20,40)"
   ]
  },
  {
   "cell_type": "markdown",
   "id": "9ee0d0d9-4fc3-49d0-98e9-2c5515575d1d",
   "metadata": {},
   "source": [
    "### Andvendelse og figur"
   ]
  },
  {
   "cell_type": "code",
   "execution_count": 18,
   "id": "e4505ddf-2580-4626-810c-2c72ab86bd36",
   "metadata": {},
   "outputs": [
    {
     "data": {
      "text/latex": [
       "$\\displaystyle \\frac{a - 2 b q_{2} - c_{1}}{b}$"
      ],
      "text/plain": [
       "(a - 2*b*q2 - c1)/b"
      ]
     },
     "metadata": {},
     "output_type": "display_data"
    },
    {
     "data": {
      "text/latex": [
       "$\\displaystyle \\frac{0.5 a - 0.5 b q_{2} - 0.5 c_{2}}{b}$"
      ],
      "text/plain": [
       "(0.5*a - 0.5*b*q2 - 0.5*c2)/b"
      ]
     },
     "metadata": {},
     "output_type": "display_data"
    }
   ],
   "source": [
    "R1=solve(d_profit1_Q,q2)\n",
    "R2=solve(d_profit2_Q,q2)\n",
    "\n",
    "R1=lambdify(\n",
    "    (q1,a,b,c1), \n",
    "    R1[0]\n",
    ")\n",
    "\n",
    "R2=lambdify(\n",
    "    (q1,a,b,c2), \n",
    "    R2[0]\n",
    ")\n",
    "\n",
    "display(R1(q2,a,b,c1))\n",
    "display(R2(q2,a,b,c2))"
   ]
  },
  {
   "cell_type": "code",
   "execution_count": 19,
   "id": "ac1ca61a-060d-42a0-a6cd-f766f3b41d3f",
   "metadata": {},
   "outputs": [],
   "source": [
    "q = np.linspace(0,30,100)\n",
    "a_value=40\n",
    "b_value=1\n",
    "c1_value=10\n",
    "c2_value=10"
   ]
  },
  {
   "cell_type": "code",
   "execution_count": 20,
   "id": "1c249ea1-41df-4d58-8990-880337f52d99",
   "metadata": {},
   "outputs": [
    {
     "data": {
      "text/plain": [
       "(10.0, 10.0)"
      ]
     },
     "execution_count": 20,
     "metadata": {},
     "output_type": "execute_result"
    }
   ],
   "source": [
    "cournot(a_value,b_value,c1_value,c2_value)"
   ]
  },
  {
   "cell_type": "code",
   "execution_count": 21,
   "id": "e89df70f-1431-4146-8240-997062bce1b4",
   "metadata": {},
   "outputs": [
    {
     "data": {
      "image/png": "[encoded data removed]",
      "text/plain": [
       "<Figure size 432x288 with 1 Axes>"
      ]
     },
     "metadata": {
      "needs_background": "light"
     },
     "output_type": "display_data"
    }
   ],
   "source": [
    "fig,ax=plt.subplots()\n",
    "ax.set_ylabel('Kvantum bedrift 2 q2')\n",
    "ax.set_xlabel('Kvantum bedrift 1 q1')\n",
    "\n",
    "\n",
    "#drawing respons curves\n",
    "ax.plot(q,\n",
    "        R1(q,a_value,b_value,c1_value),\n",
    "        label='Responskurve bedrift 1'\n",
    "       )\n",
    "\n",
    "ax.plot(q,\n",
    "        R2(q,a_value,b_value,c2_value),\n",
    "        label='Responskurve bedrift 2'\n",
    "       )\n",
    "\n",
    "#setting range for y-axis. \n",
    "plt.ylim((0,30))\n",
    "\n",
    "#adding legend:\n",
    "ax.legend(loc='upper right',frameon=False)\n",
    "\n",
    "Q1sol, Q2sol=cournot(a_value,b_value,c1_value,c2_value)"
   ]
  },
  {
   "cell_type": "code",
   "execution_count": 22,
   "id": "9535cd0f-784c-4079-83ef-8d76c439510e",
   "metadata": {},
   "outputs": [
    {
     "name": "stdout",
     "output_type": "stream",
     "text": [
      "20.0\n"
     ]
    }
   ],
   "source": [
    "print (P_demand(Q1sol+Q2sol,a_value,b_value))"
   ]
  },
  {
   "cell_type": "code",
   "execution_count": 24,
   "id": "db3943ca-d9a3-4252-aea5-a6f3894c343d",
   "metadata": {},
   "outputs": [
    {
     "name": "stdout",
     "output_type": "stream",
     "text": [
      "Løsningen er at \n",
      "bedrift 1 produserer 10.0 med profitt 100.0 og \n",
      "bedrift 2 produserer 10.0 med profitt 100.0\n",
      "prisen blir 20.0\n"
     ]
    }
   ],
   "source": [
    "print(f\"\"\"Løsningen er at \n",
    "bedrift 1 produserer {Q1sol} med profitt {profit(Q1sol,Q2sol,c1_value,a_value,b_value)} og \n",
    "bedrift 2 produserer {Q2sol} med profitt {profit(Q2sol,Q1sol,c2_value,a_value,b_value)}\n",
    "prisen blir {P_demand(Q1sol+Q2sol,a_value,b_value)}\"\"\")"
   ]
  },
  {
   "cell_type": "code",
   "execution_count": null,
   "id": "d6050fbf-3cf9-4cc7-b1ea-39d2d70ee00c",
   "metadata": {},
   "outputs": [],
   "source": []
  }
 ],
 "metadata": {
  "kernelspec": {
   "display_name": "Python 3 (ipykernel)",
   "language": "python",
   "name": "python3"
  },
  "language_info": {
   "codemirror_mode": {
    "name": "ipython",
    "version": 3
   },
   "file_extension": ".py",
   "mimetype": "text/x-python",
   "name": "python",
   "nbconvert_exporter": "python",
   "pygments_lexer": "ipython3",
   "version": "3.9.15"
  }
 },
 "nbformat": 4,
 "nbformat_minor": 5
}
