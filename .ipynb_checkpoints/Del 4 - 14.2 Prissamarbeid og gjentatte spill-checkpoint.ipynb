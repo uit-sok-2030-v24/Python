{
 "cells": [
  {
   "cell_type": "markdown",
   "id": "c6371217-64a5-4e2d-8f9b-c9a4d236b7c1",
   "metadata": {},
   "source": [
    "# Sok-2030 Næringsøkonomi og konkuransestrategi\n",
    "## Del 4 Prissamarbeid\n",
    "### Gjentatte spill\n",
    "\n",
    "For å se om prissamarbeid vil lønnne seg ved gjentatte spill må vi sammenligne nåverdien av samarbeid (deling av profitt ved monopoltilpasning) med nåverdien ved avvik (profitt ved avvik i en periode og profitt ved Cournot-tilpasning resten av periodene)\n",
    "\n",
    "   Kode her er basert oppsett: https://docs.sympy.org/latest/modules/solvers/inequalities.html"
   ]
  },
  {
   "cell_type": "code",
   "execution_count": 11,
   "id": "1b2048d2-a2e2-4dbb-9d43-c0e1437d6719",
   "metadata": {},
   "outputs": [],
   "source": [
    "from sympy import Symbol\n",
    "from sympy.solvers.inequalities import reduce_rational_inequalities"
   ]
  },
  {
   "cell_type": "code",
   "execution_count": 12,
   "id": "7dd384cd-32ea-46d2-a42c-5af9815b7da2",
   "metadata": {},
   "outputs": [],
   "source": [
    "x = Symbol('x', real=True)"
   ]
  },
  {
   "cell_type": "code",
   "execution_count": 14,
   "id": "a76cc563-039a-465d-a616-62df6fd03990",
   "metadata": {},
   "outputs": [
    {
     "data": {
      "text/latex": [
       "$\\displaystyle -2 < x$"
      ],
      "text/plain": [
       "-2 < x"
      ]
     },
     "execution_count": 14,
     "metadata": {},
     "output_type": "execute_result"
    }
   ],
   "source": [
    "reduce_rational_inequalities([[x + 2 > 0]], x)"
   ]
  },
  {
   "cell_type": "code",
   "execution_count": 27,
   "id": "c11f70a7-32db-48bc-9051-ee166926535f",
   "metadata": {},
   "outputs": [
    {
     "data": {
      "text/latex": [
       "$\\displaystyle \\frac{9}{17} < x \\wedge x < 1$"
      ],
      "text/plain": [
       "(9/17 < x) & (x < 1)"
      ]
     },
     "execution_count": 27,
     "metadata": {},
     "output_type": "execute_result"
    }
   ],
   "source": [
    "# Nåverdi ved sammarbeid > nåverdi ved avvik - med p=1\n",
    "reduce_rational_inequalities([[1800/(1-x) > 2025+(x*1600)/(1-x)]], x)"
   ]
  },
  {
   "cell_type": "code",
   "execution_count": 17,
   "id": "5f975d96-1b82-4a3f-ba2d-f616cd914ea2",
   "metadata": {},
   "outputs": [],
   "source": [
    "r = Symbol('r', real=True)"
   ]
  },
  {
   "cell_type": "code",
   "execution_count": 21,
   "id": "df8890a3-98cb-415b-950c-a1272fde2477",
   "metadata": {},
   "outputs": [
    {
     "data": {
      "text/latex": [
       "$\\displaystyle -1.0 < r \\wedge r < 0.888888888888889$"
      ],
      "text/plain": [
       "(-1.0 < r) & (r < 0.888888888888889)"
      ]
     },
     "execution_count": 21,
     "metadata": {},
     "output_type": "execute_result"
    }
   ],
   "source": [
    "reduce_rational_inequalities([[1/(1+r) > 9/17]], r)"
   ]
  },
  {
   "cell_type": "code",
   "execution_count": 23,
   "id": "76952c0d-71c1-40a2-93aa-fdb1c1e9fe58",
   "metadata": {},
   "outputs": [
    {
     "data": {
      "text/latex": [
       "$\\displaystyle 0.882352941176471 < x \\wedge x < 1.66666666666667$"
      ],
      "text/plain": [
       "(0.882352941176471 < x) & (x < 1.66666666666667)"
      ]
     },
     "execution_count": 23,
     "metadata": {},
     "output_type": "execute_result"
    }
   ],
   "source": [
    "# Nåverdi ved sammarbeid > nåverdi ved avvik - med p=0.6\n",
    "reduce_rational_inequalities([[1800/(1-(0.6*x)) > 2025+((0.6*x)*1600)/(1-(0.6*x))]], x)"
   ]
  },
  {
   "cell_type": "code",
   "execution_count": 28,
   "id": "e919db65-6a3b-403e-b7cc-fd7c4cc70038",
   "metadata": {},
   "outputs": [
    {
     "data": {
      "text/latex": [
       "$\\displaystyle -1.0 < r \\wedge r < 0.133337111123704$"
      ],
      "text/plain": [
       "(-1.0 < r) & (r < 0.133337111123704)"
      ]
     },
     "execution_count": 28,
     "metadata": {},
     "output_type": "execute_result"
    }
   ],
   "source": [
    "reduce_rational_inequalities([[1/(1+r) > 0.88235]], r)"
   ]
  },
  {
   "cell_type": "markdown",
   "id": "cc85b43e-1c67-45fc-822f-01a421a93528",
   "metadata": {},
   "source": [
    "### Når vil det lønne seg å sammarbeide under Bertrand konkurranse?"
   ]
  },
  {
   "cell_type": "code",
   "execution_count": 29,
   "id": "b521a1ef-8ba7-4f69-b857-469e3549fe88",
   "metadata": {},
   "outputs": [
    {
     "data": {
      "text/latex": [
       "$\\displaystyle \\frac{1}{2} < x \\wedge x < 1$"
      ],
      "text/plain": [
       "(1/2 < x) & (x < 1)"
      ]
     },
     "execution_count": 29,
     "metadata": {},
     "output_type": "execute_result"
    }
   ],
   "source": [
    "# Nåverdi ved sammarbeid > nåverdi ved avvik - \n",
    "reduce_rational_inequalities([[1800/(1-x) > 3600]], x)"
   ]
  },
  {
   "cell_type": "code",
   "execution_count": 30,
   "id": "9420f036-c47d-4669-b889-2277bb17c791",
   "metadata": {},
   "outputs": [
    {
     "data": {
      "text/latex": [
       "$\\displaystyle -1.0 < r \\wedge r < 1.0$"
      ],
      "text/plain": [
       "(-1.0 < r) & (r < 1.0)"
      ]
     },
     "execution_count": 30,
     "metadata": {},
     "output_type": "execute_result"
    }
   ],
   "source": [
    "reduce_rational_inequalities([[1/(1+r) > 0.5]], r)"
   ]
  },
  {
   "cell_type": "code",
   "execution_count": null,
   "id": "92679d54-56ba-4320-9b7d-099d8bd55d52",
   "metadata": {},
   "outputs": [],
   "source": []
  }
 ],
 "metadata": {
  "kernelspec": {
   "display_name": "Python 3 (ipykernel)",
   "language": "python",
   "name": "python3"
  },
  "language_info": {
   "codemirror_mode": {
    "name": "ipython",
    "version": 3
   },
   "file_extension": ".py",
   "mimetype": "text/x-python",
   "name": "python",
   "nbconvert_exporter": "python",
   "pygments_lexer": "ipython3",
   "version": "3.9.18"
  }
 },
 "nbformat": 4,
 "nbformat_minor": 5
}
