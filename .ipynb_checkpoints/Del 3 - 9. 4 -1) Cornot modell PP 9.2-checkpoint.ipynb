{
 "cells": [
  {
   "cell_type": "markdown",
   "id": "98a2117a-9039-43d8-8580-b1cfa868b048",
   "metadata": {},
   "source": [
    "# Sok-2030 Næringsøkonomi og konkuransestrategi\n",
    "## Del 3 Oligopolmodeller\n",
    "### Cournot modell - Practice Problem 9.2"
   ]
  },
  {
   "cell_type": "code",
   "execution_count": 3,
   "id": "7b8765df-0460-42a3-b966-0bba673713ea",
   "metadata": {},
   "outputs": [],
   "source": [
    "import sympy as sp\n",
    "import numpy as np\n",
    "from matplotlib import pyplot as plt"
   ]
  },
  {
   "cell_type": "code",
   "execution_count": 4,
   "id": "f7e47bf1-faae-46cb-8e16-04629d1dc749",
   "metadata": {},
   "outputs": [],
   "source": [
    "def demand(q):\n",
    "    return (100-2*q-2*q)"
   ]
  },
  {
   "cell_type": "code",
   "execution_count": 5,
   "id": "4d05a01f-2b13-4099-8c91-ddf875cef6d2",
   "metadata": {},
   "outputs": [],
   "source": [
    "def marginalrevenue(q):\n",
    "    return (100-4*q-2*q)"
   ]
  },
  {
   "cell_type": "code",
   "execution_count": 6,
   "id": "c86ac6f8-761d-4fe8-bb04-ad6ca44ee3a5",
   "metadata": {},
   "outputs": [
    {
     "data": {
      "text/latex": [
       "$\\displaystyle 100 - 6 q = 10$"
      ],
      "text/plain": [
       "Eq(100 - 6*q, 10)"
      ]
     },
     "execution_count": 6,
     "metadata": {},
     "output_type": "execute_result"
    }
   ],
   "source": [
    "q=sp.symbols('q', real=True, positive=True)\n",
    "equ=sp.Eq(marginalrevenue(q),10)\n",
    "equ"
   ]
  },
  {
   "cell_type": "markdown",
   "id": "f9cf321c-da2b-4a6d-b1b4-f9ee185424a9",
   "metadata": {},
   "source": [
    "## Optimal kvantum og pris for bedriftene er:"
   ]
  },
  {
   "cell_type": "code",
   "execution_count": 7,
   "id": "6bde0abf-c72c-47bf-b121-f942ff4bb758",
   "metadata": {},
   "outputs": [
    {
     "data": {
      "text/latex": [
       "$\\displaystyle 15$"
      ],
      "text/plain": [
       "15"
      ]
     },
     "execution_count": 7,
     "metadata": {},
     "output_type": "execute_result"
    }
   ],
   "source": [
    "q_equ=sp.solve(equ,q)[0]\n",
    "q_equ"
   ]
  },
  {
   "cell_type": "code",
   "execution_count": 8,
   "id": "56ba38bb-1e7e-4283-b6ba-27d1ae3726dd",
   "metadata": {},
   "outputs": [
    {
     "data": {
      "text/latex": [
       "$\\displaystyle 40$"
      ],
      "text/plain": [
       "40"
      ]
     },
     "execution_count": 8,
     "metadata": {},
     "output_type": "execute_result"
    }
   ],
   "source": [
    "p_eq=demand(q_equ)\n",
    "p_eq"
   ]
  }
 ],
 "metadata": {
  "kernelspec": {
   "display_name": "Python 3 (ipykernel)",
   "language": "python",
   "name": "python3"
  },
  "language_info": {
   "codemirror_mode": {
    "name": "ipython",
    "version": 3
   },
   "file_extension": ".py",
   "mimetype": "text/x-python",
   "name": "python",
   "nbconvert_exporter": "python",
   "pygments_lexer": "ipython3",
   "version": "3.9.15"
  }
 },
 "nbformat": 4,
 "nbformat_minor": 5
}
