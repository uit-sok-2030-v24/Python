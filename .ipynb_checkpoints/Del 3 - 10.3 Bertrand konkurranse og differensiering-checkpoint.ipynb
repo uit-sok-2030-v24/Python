{
 "cells": [
  {
   "cell_type": "markdown",
   "id": "4a2134c4-7f42-4c90-98fa-e536b338a88c",
   "metadata": {},
   "source": [
    "# Sok-2030 Næringsøkonomi og konkuransestrategi\n",
    "## Del 3 Oligopolmodeller\n",
    "### Bertrand konkurranse og differensiering"
   ]
  },
  {
   "cell_type": "code",
   "execution_count": 7,
   "id": "91ef2bef-1338-4ea0-bd5e-371760fdaadc",
   "metadata": {},
   "outputs": [],
   "source": [
    "from sympy import *\n",
    "import sympy as sp\n",
    "from matplotlib import pyplot as plt\n",
    "import numpy as np"
   ]
  },
  {
   "cell_type": "code",
   "execution_count": 8,
   "id": "2526e026-b84a-48c3-88d5-e422dea7abc0",
   "metadata": {},
   "outputs": [],
   "source": [
    "P1, P2,c, t,N=symbols('P1 P2 c t N')"
   ]
  },
  {
   "cell_type": "markdown",
   "id": "0db354dd-2bb0-4f9d-b25f-5be81b9433b2",
   "metadata": {},
   "source": [
    "Etterspørsel bedrift 1:"
   ]
  },
  {
   "cell_type": "code",
   "execution_count": 9,
   "id": "19250177-c909-48fb-bf6d-c780a9210ea4",
   "metadata": {},
   "outputs": [
    {
     "data": {
      "text/latex": [
       "$\\displaystyle \\frac{N \\left(- P_{1} + P_{2} + t\\right)}{2 t}$"
      ],
      "text/plain": [
       "N*(-P1 + P2 + t)/(2*t)"
      ]
     },
     "execution_count": 9,
     "metadata": {},
     "output_type": "execute_result"
    }
   ],
   "source": [
    "def demand1(P1,t,P2,N):\n",
    "    return (N*(P2-P1+t))/(2*t)\n",
    "demand1(P1,t,P2,N)"
   ]
  },
  {
   "cell_type": "markdown",
   "id": "705de5fd-f080-4d53-8dd3-e3071e9278df",
   "metadata": {},
   "source": [
    "Etterspørsel bedrift 2:"
   ]
  },
  {
   "cell_type": "code",
   "execution_count": 10,
   "id": "43bec4b9-2c56-4d47-b794-d3ca71def2cf",
   "metadata": {},
   "outputs": [
    {
     "data": {
      "text/latex": [
       "$\\displaystyle \\frac{N \\left(P_{1} - P_{2} + t\\right)}{2 t}$"
      ],
      "text/plain": [
       "N*(P1 - P2 + t)/(2*t)"
      ]
     },
     "execution_count": 10,
     "metadata": {},
     "output_type": "execute_result"
    }
   ],
   "source": [
    "def demand2(P1,t,P2,N):\n",
    "    return (N*(P1-P2+t))/(2*t)\n",
    "demand2(P1,t,P2,N)"
   ]
  },
  {
   "cell_type": "markdown",
   "id": "715d8bdf-44f6-4158-bfef-bd992ac12b4d",
   "metadata": {},
   "source": [
    "Profitt for bedrift 1:"
   ]
  },
  {
   "cell_type": "code",
   "execution_count": 11,
   "id": "c9d90b93-fe3c-4e50-80f9-1f5318bbafb1",
   "metadata": {},
   "outputs": [
    {
     "data": {
      "text/latex": [
       "$\\displaystyle \\frac{N \\left(P_{1} - c\\right) \\left(- P_{1} + P_{2} + t\\right)}{2 t}$"
      ],
      "text/plain": [
       "N*(P1 - c)*(-P1 + P2 + t)/(2*t)"
      ]
     },
     "execution_count": 11,
     "metadata": {},
     "output_type": "execute_result"
    }
   ],
   "source": [
    "def profit1(P1,t,P2,c,N):\n",
    "    return ((P1-c)*demand1(P1,t,P2,N))\n",
    "profit1(P1,t,P2,c,N)"
   ]
  },
  {
   "cell_type": "markdown",
   "id": "975512a3-9540-464e-8ca6-1f5dd9f7f1d4",
   "metadata": {},
   "source": [
    "Profitt for bedrift 2:"
   ]
  },
  {
   "cell_type": "code",
   "execution_count": 12,
   "id": "846e90c5-7979-4649-8a49-61914f7232cd",
   "metadata": {},
   "outputs": [
    {
     "data": {
      "text/latex": [
       "$\\displaystyle \\frac{N \\left(P_{2} - c\\right) \\left(P_{1} - P_{2} + t\\right)}{2 t}$"
      ],
      "text/plain": [
       "N*(P2 - c)*(P1 - P2 + t)/(2*t)"
      ]
     },
     "execution_count": 12,
     "metadata": {},
     "output_type": "execute_result"
    }
   ],
   "source": [
    "def profit2(P1,t,P2,c,N):\n",
    "    return ((P2-c)*demand2(P1,t,P2,N))\n",
    "profit2(P1,t,P2,c,N)"
   ]
  },
  {
   "cell_type": "markdown",
   "id": "868ad16e-fd4e-4f6a-b582-a25bb4829aff",
   "metadata": {},
   "source": [
    "For å finne optimal løsning så deriverer vi profitt funksjonene mhp P"
   ]
  },
  {
   "cell_type": "code",
   "execution_count": 11,
   "id": "ab963319-c6fb-43dc-8dbb-f47e702dbe71",
   "metadata": {},
   "outputs": [
    {
     "data": {
      "text/latex": [
       "$\\displaystyle - \\frac{N \\left(P_{1} - c\\right)}{2 t} + \\frac{N \\left(- P_{1} + P_{2} + t\\right)}{2 t}$"
      ],
      "text/plain": [
       "-N*(P1 - c)/(2*t) + N*(-P1 + P2 + t)/(2*t)"
      ]
     },
     "metadata": {},
     "output_type": "display_data"
    },
    {
     "data": {
      "text/latex": [
       "$\\displaystyle - \\frac{N \\left(P_{2} - c\\right)}{2 t} + \\frac{N \\left(P_{1} - P_{2} + t\\right)}{2 t}$"
      ],
      "text/plain": [
       "-N*(P2 - c)/(2*t) + N*(P1 - P2 + t)/(2*t)"
      ]
     },
     "metadata": {},
     "output_type": "display_data"
    }
   ],
   "source": [
    "# den deriverte av profittfunksjonen mhp P1 og P2\n",
    "d_profit1=diff(profit1(P1,t,P2,c,N),P1)\n",
    "d_profit2=diff(profit2(P1,t,P2,c,N),P2)\n",
    "\n",
    "display(d_profit1)\n",
    "display(d_profit2)"
   ]
  },
  {
   "cell_type": "markdown",
   "id": "dafb7217-05d9-4927-ab6c-0530c9c0eda6",
   "metadata": {},
   "source": [
    "Finner reaksjonsfunksjon til bedrift 1 ved å sette den deriverte lik 0 og løse for P1"
   ]
  },
  {
   "cell_type": "code",
   "execution_count": 12,
   "id": "87c5cb2d-d40f-48b6-af76-2ba90b62e96a",
   "metadata": {},
   "outputs": [
    {
     "data": {
      "text/latex": [
       "$\\displaystyle \\frac{P_{2}}{2} + \\frac{c}{2} + \\frac{t}{2}$"
      ],
      "text/plain": [
       "P2/2 + c/2 + t/2"
      ]
     },
     "execution_count": 12,
     "metadata": {},
     "output_type": "execute_result"
    }
   ],
   "source": [
    "#reaksjonsfunksjon til bedrift 1\n",
    "P1_equ=sp.solve(d_profit1,P1)[0]\n",
    "P1_equ"
   ]
  },
  {
   "cell_type": "markdown",
   "id": "2084fb66-8853-4615-9b3e-d02fff85a226",
   "metadata": {},
   "source": [
    "Tilsvarende for reaksjonsfunksjon til bedrift 2:"
   ]
  },
  {
   "cell_type": "code",
   "execution_count": 14,
   "id": "32cc286c-89bc-437d-aa40-beba6bb3beed",
   "metadata": {},
   "outputs": [
    {
     "data": {
      "text/latex": [
       "$\\displaystyle \\frac{P_{1}}{2} + \\frac{c}{2} + \\frac{t}{2}$"
      ],
      "text/plain": [
       "P1/2 + c/2 + t/2"
      ]
     },
     "execution_count": 14,
     "metadata": {},
     "output_type": "execute_result"
    }
   ],
   "source": [
    "#reaksjonsfunksjon til bedrift 2\n",
    "P2_equ=sp.solve(d_profit2,P2)[0]\n",
    "P2_equ"
   ]
  },
  {
   "cell_type": "markdown",
   "id": "a8280ffc-0041-4312-be54-71d638b41fcd",
   "metadata": {},
   "source": [
    "Setter RF2 inn i RF1 og finner optimal pris"
   ]
  },
  {
   "cell_type": "code",
   "execution_count": 15,
   "id": "8e5e180d-47cb-4ca7-a715-67c8c6647be8",
   "metadata": {},
   "outputs": [
    {
     "data": {
      "text/latex": [
       "$\\displaystyle c + t$"
      ],
      "text/plain": [
       "c + t"
      ]
     },
     "metadata": {},
     "output_type": "display_data"
    },
    {
     "data": {
      "text/latex": [
       "$\\displaystyle c + t$"
      ],
      "text/plain": [
       "c + t"
      ]
     },
     "metadata": {},
     "output_type": "display_data"
    }
   ],
   "source": [
    "# Optimal pris for bedrift 1 og 2\n",
    "sol=solve([d_profit1,d_profit2],[P1,P2])\n",
    "\n",
    "display(sol[P1])\n",
    "display(sol[P2])"
   ]
  }
 ],
 "metadata": {
  "kernelspec": {
   "display_name": "Python 3 (ipykernel)",
   "language": "python",
   "name": "python3"
  },
  "language_info": {
   "codemirror_mode": {
    "name": "ipython",
    "version": 3
   },
   "file_extension": ".py",
   "mimetype": "text/x-python",
   "name": "python",
   "nbconvert_exporter": "python",
   "pygments_lexer": "ipython3",
   "version": "3.9.15"
  }
 },
 "nbformat": 4,
 "nbformat_minor": 5
}
