{
 "cells": [
  {
   "cell_type": "markdown",
   "id": "17cb884e-11d1-4705-b59a-814696cc71a0",
   "metadata": {},
   "source": [
    "# Sok-2030 Næringsøkonomi og konkuransestrategi\n",
    "## Del 5 Relasjoner mellom bedrifter\n",
    "### Horisontale fusjoner og kstnadssynergier\n",
    "Vi antar at vi har tre bedrifter som konkurrer med kvantum som strategisk variabel. Invers ettersprøsel er gitt ved: P(Q) = 150-Q og marginalkostnaden til to av bedriftene er på 30. Den tredje bedriften har potensielt høyere marginalkostnader; lik 30b, hvor b>1."
   ]
  },
  {
   "cell_type": "code",
   "execution_count": 1,
   "id": "3db869d0-f9dd-40e1-97c5-dbb7e432af5d",
   "metadata": {},
   "outputs": [],
   "source": [
    "from sympy import *\n",
    "from matplotlib import pyplot as plt\n",
    "import numpy as np"
   ]
  },
  {
   "cell_type": "code",
   "execution_count": 2,
   "id": "0ecf6d23-1801-4967-a811-aad59cbb7266",
   "metadata": {},
   "outputs": [],
   "source": [
    "q1,q2,q3,c1,c2,c3, a, b=symbols('q1 q2 q3 c1 c2 c3 a b') "
   ]
  },
  {
   "cell_type": "code",
   "execution_count": 3,
   "id": "01e81c0c-b033-4088-8a62-e0c972a461b6",
   "metadata": {},
   "outputs": [],
   "source": [
    "def P_demand(Q,a,b):\n",
    "    return a-b*Q\n",
    "\n",
    "def profit(q1,q2,q3,c,a,b):\n",
    "    return (P_demand(q1+q2+q3,a,b)-c)*q1"
   ]
  },
  {
   "cell_type": "code",
   "execution_count": 4,
   "id": "c703f888-cb58-4f78-9606-6bf1e2255b70",
   "metadata": {},
   "outputs": [
    {
     "data": {
      "text/latex": [
       "$\\displaystyle a - b q_{1} - b \\left(q_{1} + q_{2} + q_{3}\\right) - c_{1}$"
      ],
      "text/plain": [
       "a - b*q1 - b*(q1 + q2 + q3) - c1"
      ]
     },
     "metadata": {},
     "output_type": "display_data"
    },
    {
     "data": {
      "text/latex": [
       "$\\displaystyle a - b q_{2} - b \\left(q_{1} + q_{2} + q_{3}\\right) - c_{2}$"
      ],
      "text/plain": [
       "a - b*q2 - b*(q1 + q2 + q3) - c2"
      ]
     },
     "metadata": {},
     "output_type": "display_data"
    },
    {
     "data": {
      "text/latex": [
       "$\\displaystyle a - b q_{3} - b \\left(q_{1} + q_{2} + q_{3}\\right) - c_{3}$"
      ],
      "text/plain": [
       "a - b*q3 - b*(q1 + q2 + q3) - c3"
      ]
     },
     "metadata": {},
     "output_type": "display_data"
    }
   ],
   "source": [
    "d_profit1_Q=diff(profit(q1,q2,q3,c1,a,b),q1)\n",
    "d_profit2_Q=diff(profit(q2,q1,q3,c2,a,b),q2)\n",
    "d_profit3_Q=diff(profit(q3,q2,q1,c3,a,b),q3)\n",
    "display(d_profit1_Q)\n",
    "display(d_profit2_Q)\n",
    "display(d_profit3_Q)"
   ]
  },
  {
   "cell_type": "code",
   "execution_count": 5,
   "id": "33604a9c-1c21-48bf-bdc9-f25a58ddaf11",
   "metadata": {},
   "outputs": [
    {
     "data": {
      "text/latex": [
       "$\\displaystyle \\frac{a - 3 c_{1} + c_{2} + c_{3}}{4 b}$"
      ],
      "text/plain": [
       "(a - 3*c1 + c2 + c3)/(4*b)"
      ]
     },
     "metadata": {},
     "output_type": "display_data"
    },
    {
     "data": {
      "text/latex": [
       "$\\displaystyle \\frac{a + c_{1} - 3 c_{2} + c_{3}}{4 b}$"
      ],
      "text/plain": [
       "(a + c1 - 3*c2 + c3)/(4*b)"
      ]
     },
     "metadata": {},
     "output_type": "display_data"
    },
    {
     "data": {
      "text/latex": [
       "$\\displaystyle \\frac{a + c_{1} + c_{2} - 3 c_{3}}{4 b}$"
      ],
      "text/plain": [
       "(a + c1 + c2 - 3*c3)/(4*b)"
      ]
     },
     "metadata": {},
     "output_type": "display_data"
    }
   ],
   "source": [
    "sol=solve([d_profit1_Q,d_profit2_Q,d_profit3_Q],[q1,q2,q3])\n",
    "\n",
    "display(sol[q1])\n",
    "display(sol[q2])\n",
    "display(sol[q3])"
   ]
  },
  {
   "cell_type": "code",
   "execution_count": 7,
   "id": "f2d115b3-e506-41fc-b03a-a596291405a2",
   "metadata": {},
   "outputs": [],
   "source": [
    "cournot=lambdify(\n",
    "    (a,b,c1,c2,c3), \n",
    "    (sol[q1],sol[q2],sol[q3])\n",
    ")"
   ]
  },
  {
   "cell_type": "code",
   "execution_count": 8,
   "id": "aef4d44f-91c4-4b79-84dd-438b28498762",
   "metadata": {},
   "outputs": [
    {
     "data": {
      "text/plain": [
       "(7.5*b + 22.5, 7.5*b + 22.5, 52.5 - 22.5*b)"
      ]
     },
     "execution_count": 8,
     "metadata": {},
     "output_type": "execute_result"
    }
   ],
   "source": [
    "cournot(150,1,30,30,30*b)"
   ]
  },
  {
   "cell_type": "code",
   "execution_count": 9,
   "id": "b3bf3562-eb93-40c1-88bf-81d73953ea31",
   "metadata": {},
   "outputs": [],
   "source": [
    "a_value=150\n",
    "b_value=1\n",
    "c1_value=30\n",
    "c2_value=30\n",
    "c3_value=30*b"
   ]
  },
  {
   "cell_type": "code",
   "execution_count": 11,
   "id": "bacc7f19-f125-4895-b651-52dda13b4c62",
   "metadata": {},
   "outputs": [
    {
     "name": "stdout",
     "output_type": "stream",
     "text": [
      "7.5*b + 52.5\n"
     ]
    }
   ],
   "source": [
    "q1sol, q2sol, q3sol=cournot(a_value,b_value,c1_value,c2_value,c3_value)\n",
    "print (P_demand(q1sol+q2sol+q3sol,a_value,b_value))"
   ]
  },
  {
   "cell_type": "code",
   "execution_count": 15,
   "id": "2652f506-93f3-4d3b-bfba-42c8785af2b9",
   "metadata": {},
   "outputs": [
    {
     "name": "stdout",
     "output_type": "stream",
     "text": [
      "Løsningen er at \n",
      "bedrift 1 produserer 7.5*b + 22.5 med profitt 506.25*(0.333333333333333*b + 1)**2, \n",
      "bedrift 2 produserer 7.5*b + 22.5 med profitt 506.25*(0.333333333333333*b + 1)**2 og  \n",
      "bedrift 3 produserer 52.5 - 22.5*b med profitt (52.5 - 22.5*b)*(7.5*b + 22.5)\n",
      "prisen blir 7.5*b + 52.5\n"
     ]
    }
   ],
   "source": [
    "print(f\"\"\"Løsningen er at \n",
    "bedrift 1 produserer {q1sol} med profitt {profit(q1sol,q2sol,q3sol,c1_value,a_value,b_value)}, \n",
    "bedrift 2 produserer {q2sol} med profitt {profit(q2sol,q1sol,q3sol,c2_value,a_value,b_value)} og  \n",
    "bedrift 3 produserer {q3sol} med profitt {profit(q3sol,q1sol,q3sol,c3_value,a_value,b_value)}\n",
    "prisen blir {P_demand(q1sol+q2sol+q3sol,a_value,b_value)}\"\"\")"
   ]
  },
  {
   "cell_type": "markdown",
   "id": "d205aa76-3c95-48ed-9bdc-356d7fbbcd43",
   "metadata": {},
   "source": [
    "## Horisontal fusjon\n",
    "Anta at 2 og 3 fusjonerer, og at all produksjon flyttes til bedrift 2. \n",
    "Ny tilpasning blir da:"
   ]
  },
  {
   "cell_type": "code",
   "execution_count": 16,
   "id": "d4765170-8f4e-40c6-a232-016b95c9715d",
   "metadata": {},
   "outputs": [],
   "source": [
    "def P_demand1(Q,a,b):\n",
    "    return a-b*Q\n",
    "\n",
    "def profitF(q1,q2,c,a,b):\n",
    "    return (P_demand(q1+q2,a,b)-c)*q1"
   ]
  },
  {
   "cell_type": "code",
   "execution_count": 18,
   "id": "bd2dbbcb-2255-4474-b052-d39a641f8f90",
   "metadata": {},
   "outputs": [
    {
     "data": {
      "text/latex": [
       "$\\displaystyle a - b q_{1} - b \\left(q_{1} + q_{2}\\right) - c_{1}$"
      ],
      "text/plain": [
       "a - b*q1 - b*(q1 + q2) - c1"
      ]
     },
     "metadata": {},
     "output_type": "display_data"
    },
    {
     "data": {
      "text/latex": [
       "$\\displaystyle a - b q_{2} - b \\left(q_{1} + q_{2}\\right) - c_{2}$"
      ],
      "text/plain": [
       "a - b*q2 - b*(q1 + q2) - c2"
      ]
     },
     "metadata": {},
     "output_type": "display_data"
    }
   ],
   "source": [
    "d_profitF1_Q=diff(profitF(q1,q2,c1,a,b),q1)\n",
    "d_profitF2_Q=diff(profitF(q2,q1,c2,a,b),q2)\n",
    "\n",
    "display(d_profitF1_Q)\n",
    "display(d_profitF2_Q)"
   ]
  },
  {
   "cell_type": "code",
   "execution_count": 19,
   "id": "550855e8-b027-46bc-a7f7-4ccf198c9498",
   "metadata": {},
   "outputs": [
    {
     "data": {
      "text/latex": [
       "$\\displaystyle \\frac{a - 2 c_{1} + c_{2}}{3 b}$"
      ],
      "text/plain": [
       "(a - 2*c1 + c2)/(3*b)"
      ]
     },
     "metadata": {},
     "output_type": "display_data"
    },
    {
     "data": {
      "text/latex": [
       "$\\displaystyle \\frac{a + c_{1} - 2 c_{2}}{3 b}$"
      ],
      "text/plain": [
       "(a + c1 - 2*c2)/(3*b)"
      ]
     },
     "metadata": {},
     "output_type": "display_data"
    }
   ],
   "source": [
    "sol=solve([d_profitF1_Q,d_profitF2_Q],[q1,q2])\n",
    "\n",
    "display(sol[q1])\n",
    "display(sol[q2])"
   ]
  },
  {
   "cell_type": "code",
   "execution_count": 21,
   "id": "f90a3790-6c86-40fe-8c7b-1dc8a1393c56",
   "metadata": {},
   "outputs": [],
   "source": [
    "cournot=lambdify(\n",
    "    (a,b,c1,c2), \n",
    "    (sol[q1],sol[q2])\n",
    ")"
   ]
  },
  {
   "cell_type": "code",
   "execution_count": 22,
   "id": "a0c292aa-4620-4e3f-91bc-7e1e3d745fa9",
   "metadata": {},
   "outputs": [
    {
     "data": {
      "text/plain": [
       "(40.0, 40.0)"
      ]
     },
     "execution_count": 22,
     "metadata": {},
     "output_type": "execute_result"
    }
   ],
   "source": [
    "cournot(150,1,30,30)"
   ]
  },
  {
   "cell_type": "code",
   "execution_count": 26,
   "id": "e261959e-da85-4f97-9af8-7273ac098347",
   "metadata": {},
   "outputs": [],
   "source": [
    "a_value=150\n",
    "b_value=1\n",
    "c1_value=30\n",
    "c2_value=30"
   ]
  },
  {
   "cell_type": "code",
   "execution_count": 31,
   "id": "7b7ad4ac-9813-418a-8d0d-b6a746c7137a",
   "metadata": {},
   "outputs": [
    {
     "name": "stdout",
     "output_type": "stream",
     "text": [
      "70.0\n"
     ]
    }
   ],
   "source": [
    "q1sol, q2sol=cournot(a_value,b_value,c1_value,c2_value)\n",
    "print (P_demand(q1sol+q2sol,a_value,b_value))"
   ]
  },
  {
   "cell_type": "code",
   "execution_count": 33,
   "id": "3cad4836-e827-4bf3-a8f7-8bc75f2c3b8d",
   "metadata": {},
   "outputs": [
    {
     "name": "stdout",
     "output_type": "stream",
     "text": [
      "Løsningen er at \n",
      "bedriftene produserer 40.0 enheter som gir profitt lik 1600.0 og \n",
      "prisen i markedet blir 70.0\n"
     ]
    }
   ],
   "source": [
    "print(f\"\"\"Løsningen er at \n",
    "bedriftene produserer {q1sol} enheter som gir profitt lik {profitF(q1sol,q2sol,c1_value,a_value,b_value)} og \n",
    "prisen i markedet blir {P_demand1(q1sol+q2sol,a_value,b_value)}\"\"\")"
   ]
  },
  {
   "cell_type": "code",
   "execution_count": null,
   "id": "a62c73e6-e412-4c37-bd30-ba8720b74d4e",
   "metadata": {},
   "outputs": [],
   "source": []
  }
 ],
 "metadata": {
  "kernelspec": {
   "display_name": "Python 3 (ipykernel)",
   "language": "python",
   "name": "python3"
  },
  "language_info": {
   "codemirror_mode": {
    "name": "ipython",
    "version": 3
   },
   "file_extension": ".py",
   "mimetype": "text/x-python",
   "name": "python",
   "nbconvert_exporter": "python",
   "pygments_lexer": "ipython3",
   "version": "3.9.15"
  }
 },
 "nbformat": 4,
 "nbformat_minor": 5
}
